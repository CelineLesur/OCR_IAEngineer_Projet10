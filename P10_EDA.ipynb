{
  "nbformat": 4,
  "nbformat_minor": 0,
  "metadata": {
    "colab": {
      "provenance": []
    },
    "kernelspec": {
      "name": "python3",
      "display_name": "Python 3"
    },
    "language_info": {
      "name": "python"
    }
  },
  "cells": [
    {
      "cell_type": "markdown",
      "source": [
        "# Projet 10 : Réalisez une application de recommandation de contenu\n",
        "\n",
        "## Contexte\n",
        "\n",
        "Vous êtes le CTO et cofondateur de la start-up My Content qui veut encourager la lecture en recommandant des contenus pertinents pour ses utilisateurs. Vous êtes en pleine construction d’un premier MVP (Minimum Viable Product) qui prendra la forme d’une application.\n",
        "\n",
        "Dans un premier temps, votre start-up souhaite tester une solution de recommandation d’articles et de livres à des particuliers en utilisant des données disponibles en ligne puisque vous n'en avez pas encore.\n",
        "\n",
        "Votre mission est de développer une première version de votre système de recommandation d'une sélection de cinq articles, sous forme d’Azure Functions, tout en prenant en compte l'ajout de nouveaux articles et utilisateurs.\n",
        "\n",
        "Puis de réaliser une application simple de gestion du système de recommandation (interface d’affichage d’une liste d’id utilisateurs, d’appel Azure functions pour l’id choisi, et d’affichage des 5 articles recommandés)\n",
        "\n",
        "## Contenu des données du jeu de données News Portal User Interactions by Globo.com :\n",
        "\n",
        "Le jeu de données provient du portail d’actualité brésilien Globo. Il traite des clics utilisateurs/articles.\n",
        "\n",
        "Il contient 3 fichiers et un dossier zip :\n",
        "- clicks.zip : contient les données d’interaction utilisateur → article (clics, horodatage, etc.).\n",
        "\n",
        "- clicks_sample.csv : contient un échantillon des données d’interaction utilisateur → article (clics, horodatage, etc.).\n",
        "\n",
        "- articles_metadata.csv : les métadonnées des articles (titre, catégorie, etc.).\n",
        "\n",
        "- articles_embeddings.pickle : embeddings pré-calculés des articles.\n",
        "\n",
        "\n",
        "## Librairies utilisées avec le langage Python :"
      ],
      "metadata": {
        "id": "V654o6Gb3PSe"
      }
    },
    {
      "cell_type": "code",
      "execution_count": 122,
      "metadata": {
        "id": "Mt4YkQE43Ji_"
      },
      "outputs": [],
      "source": [
        "# Importation des librairies\n",
        "import numpy as np\n",
        "import pandas as pd\n",
        "from collections import Counter, defaultdict\n",
        "import matplotlib.pyplot as plt\n",
        "import seaborn as sns\n",
        "from PIL import Image, ImageOps, ImageFilter\n",
        "import glob\n",
        "import os\n",
        "import warnings\n",
        "warnings.filterwarnings('ignore')"
      ]
    },
    {
      "cell_type": "markdown",
      "source": [
        "\n",
        "## Données brutes :\n",
        "\n",
        "### articles_metadata.csv"
      ],
      "metadata": {
        "id": "PRrcmtmABolv"
      }
    },
    {
      "cell_type": "code",
      "source": [
        "# Importation des données :\n",
        "data_articles = pd.read_csv('C:/tutorial-env/OCR/Projet10/data/articles_metadata.csv',encoding='latin',delimiter=\",\")\n",
        "data_articles.head()"
      ],
      "metadata": {
        "colab": {
          "base_uri": "https://localhost:8080/",
          "height": 206
        },
        "id": "ZxBcy0ZBB7Os",
        "outputId": "c3a05bc1-8d7c-4f21-cb9d-adb3ecd47a81"
      },
      "execution_count": 123,
      "outputs": [
        {
          "output_type": "execute_result",
          "data": {
            "text/plain": [
              "   article_id  category_id  created_at_ts  publisher_id  words_count\n",
              "0           0            0  1513144419000             0          168\n",
              "1           1            1  1405341936000             0          189\n",
              "2           2            1  1408667706000             0          250\n",
              "3           3            1  1408468313000             0          230\n",
              "4           4            1  1407071171000             0          162"
            ],
            "text/html": [
              "<div>\n",
              "<style scoped>\n",
              "    .dataframe tbody tr th:only-of-type {\n",
              "        vertical-align: middle;\n",
              "    }\n",
              "\n",
              "    .dataframe tbody tr th {\n",
              "        vertical-align: top;\n",
              "    }\n",
              "\n",
              "    .dataframe thead th {\n",
              "        text-align: right;\n",
              "    }\n",
              "</style>\n",
              "<table border=\"1\" class=\"dataframe\">\n",
              "  <thead>\n",
              "    <tr style=\"text-align: right;\">\n",
              "      <th></th>\n",
              "      <th>article_id</th>\n",
              "      <th>category_id</th>\n",
              "      <th>created_at_ts</th>\n",
              "      <th>publisher_id</th>\n",
              "      <th>words_count</th>\n",
              "    </tr>\n",
              "  </thead>\n",
              "  <tbody>\n",
              "    <tr>\n",
              "      <th>0</th>\n",
              "      <td>0</td>\n",
              "      <td>0</td>\n",
              "      <td>1513144419000</td>\n",
              "      <td>0</td>\n",
              "      <td>168</td>\n",
              "    </tr>\n",
              "    <tr>\n",
              "      <th>1</th>\n",
              "      <td>1</td>\n",
              "      <td>1</td>\n",
              "      <td>1405341936000</td>\n",
              "      <td>0</td>\n",
              "      <td>189</td>\n",
              "    </tr>\n",
              "    <tr>\n",
              "      <th>2</th>\n",
              "      <td>2</td>\n",
              "      <td>1</td>\n",
              "      <td>1408667706000</td>\n",
              "      <td>0</td>\n",
              "      <td>250</td>\n",
              "    </tr>\n",
              "    <tr>\n",
              "      <th>3</th>\n",
              "      <td>3</td>\n",
              "      <td>1</td>\n",
              "      <td>1408468313000</td>\n",
              "      <td>0</td>\n",
              "      <td>230</td>\n",
              "    </tr>\n",
              "    <tr>\n",
              "      <th>4</th>\n",
              "      <td>4</td>\n",
              "      <td>1</td>\n",
              "      <td>1407071171000</td>\n",
              "      <td>0</td>\n",
              "      <td>162</td>\n",
              "    </tr>\n",
              "  </tbody>\n",
              "</table>\n",
              "</div>"
            ]
          },
          "metadata": {},
          "execution_count": 123
        }
      ]
    },
    {
      "cell_type": "code",
      "source": [
        "data_articles.shape"
      ],
      "metadata": {
        "colab": {
          "base_uri": "https://localhost:8080/"
        },
        "id": "ZNhHBs3muJc6",
        "outputId": "726a9923-5beb-4c23-9d92-ebebc58e6e45"
      },
      "execution_count": 124,
      "outputs": [
        {
          "output_type": "execute_result",
          "data": {
            "text/plain": [
              "(364047, 5)"
            ]
          },
          "metadata": {},
          "execution_count": 124
        }
      ]
    },
    {
      "cell_type": "code",
      "source": [
        "data_articles.dtypes"
      ],
      "metadata": {
        "colab": {
          "base_uri": "https://localhost:8080/"
        },
        "id": "4toD5dGD1OAA",
        "outputId": "e4055790-90ae-4b5e-bcf0-5db76bad9108"
      },
      "execution_count": 125,
      "outputs": [
        {
          "output_type": "execute_result",
          "data": {
            "text/plain": [
              "article_id       int64\n",
              "category_id      int64\n",
              "created_at_ts    int64\n",
              "publisher_id     int64\n",
              "words_count      int64\n",
              "dtype: object"
            ]
          },
          "metadata": {},
          "execution_count": 125
        }
      ]
    },
    {
      "cell_type": "code",
      "source": [
        "data_articles.duplicated().sum()"
      ],
      "metadata": {
        "colab": {
          "base_uri": "https://localhost:8080/"
        },
        "id": "HoS9XABAP1O8",
        "outputId": "8661e6a1-8291-40a4-b9b4-fa59477329f5"
      },
      "execution_count": 126,
      "outputs": [
        {
          "output_type": "execute_result",
          "data": {
            "text/plain": [
              "0"
            ]
          },
          "metadata": {},
          "execution_count": 126
        }
      ]
    },
    {
      "cell_type": "code",
      "source": [
        "data_articles[['article_id','category_id','publisher_id']] = data_articles[['article_id','category_id','publisher_id']].astype(str)\n",
        "data_articles[['article_id','category_id','publisher_id']].describe()"
      ],
      "metadata": {
        "colab": {
          "base_uri": "https://localhost:8080/",
          "height": 175
        },
        "id": "xoU2sgBKuZcb",
        "outputId": "58aac12f-f744-4b7b-f9c8-6df1bd14af98"
      },
      "execution_count": 127,
      "outputs": [
        {
          "output_type": "execute_result",
          "data": {
            "text/plain": [
              "       article_id category_id publisher_id\n",
              "count      364047      364047       364047\n",
              "unique     364047         461            1\n",
              "top             0         281            0\n",
              "freq            1       12817       364047"
            ],
            "text/html": [
              "<div>\n",
              "<style scoped>\n",
              "    .dataframe tbody tr th:only-of-type {\n",
              "        vertical-align: middle;\n",
              "    }\n",
              "\n",
              "    .dataframe tbody tr th {\n",
              "        vertical-align: top;\n",
              "    }\n",
              "\n",
              "    .dataframe thead th {\n",
              "        text-align: right;\n",
              "    }\n",
              "</style>\n",
              "<table border=\"1\" class=\"dataframe\">\n",
              "  <thead>\n",
              "    <tr style=\"text-align: right;\">\n",
              "      <th></th>\n",
              "      <th>article_id</th>\n",
              "      <th>category_id</th>\n",
              "      <th>publisher_id</th>\n",
              "    </tr>\n",
              "  </thead>\n",
              "  <tbody>\n",
              "    <tr>\n",
              "      <th>count</th>\n",
              "      <td>364047</td>\n",
              "      <td>364047</td>\n",
              "      <td>364047</td>\n",
              "    </tr>\n",
              "    <tr>\n",
              "      <th>unique</th>\n",
              "      <td>364047</td>\n",
              "      <td>461</td>\n",
              "      <td>1</td>\n",
              "    </tr>\n",
              "    <tr>\n",
              "      <th>top</th>\n",
              "      <td>0</td>\n",
              "      <td>281</td>\n",
              "      <td>0</td>\n",
              "    </tr>\n",
              "    <tr>\n",
              "      <th>freq</th>\n",
              "      <td>1</td>\n",
              "      <td>12817</td>\n",
              "      <td>364047</td>\n",
              "    </tr>\n",
              "  </tbody>\n",
              "</table>\n",
              "</div>"
            ]
          },
          "metadata": {},
          "execution_count": 127
        }
      ]
    },
    {
      "cell_type": "markdown",
      "source": [
        "Modifions le type des colonnes pour en savoir plus et pour pouvoir interpréter les dates de la colonne \"created_at_ts\""
      ],
      "metadata": {
        "id": "tDsCyJk225Wz"
      }
    },
    {
      "cell_type": "code",
      "source": [
        "data_articles['words_count'] = data_articles[['words_count']].astype(int)\n",
        "data_articles['article_created_at'] = pd.to_datetime(data_articles['created_at_ts'], unit='ms')\n",
        "data_articles.describe()"
      ],
      "metadata": {
        "colab": {
          "base_uri": "https://localhost:8080/",
          "height": 300
        },
        "id": "572wuT5ZuqLz",
        "outputId": "148eb834-7bb8-469d-f267-c0cf5693a747"
      },
      "execution_count": 128,
      "outputs": [
        {
          "output_type": "execute_result",
          "data": {
            "text/plain": [
              "       created_at_ts    words_count             article_created_at\n",
              "count   3.640470e+05  364047.000000                         364047\n",
              "mean    1.474070e+12     190.897727  2016-09-16 23:57:17.328421888\n",
              "min     1.159356e+12       0.000000            2006-09-27 11:14:35\n",
              "25%     1.444925e+12     159.000000     2015-10-15 16:00:43.500000\n",
              "50%     1.489422e+12     186.000000            2017-03-13 16:27:29\n",
              "75%     1.509891e+12     218.000000            2017-11-05 14:09:11\n",
              "max     1.520943e+12    6690.000000            2018-03-13 12:12:30\n",
              "std     4.293038e+10      59.502766                            NaN"
            ],
            "text/html": [
              "<div>\n",
              "<style scoped>\n",
              "    .dataframe tbody tr th:only-of-type {\n",
              "        vertical-align: middle;\n",
              "    }\n",
              "\n",
              "    .dataframe tbody tr th {\n",
              "        vertical-align: top;\n",
              "    }\n",
              "\n",
              "    .dataframe thead th {\n",
              "        text-align: right;\n",
              "    }\n",
              "</style>\n",
              "<table border=\"1\" class=\"dataframe\">\n",
              "  <thead>\n",
              "    <tr style=\"text-align: right;\">\n",
              "      <th></th>\n",
              "      <th>created_at_ts</th>\n",
              "      <th>words_count</th>\n",
              "      <th>article_created_at</th>\n",
              "    </tr>\n",
              "  </thead>\n",
              "  <tbody>\n",
              "    <tr>\n",
              "      <th>count</th>\n",
              "      <td>3.640470e+05</td>\n",
              "      <td>364047.000000</td>\n",
              "      <td>364047</td>\n",
              "    </tr>\n",
              "    <tr>\n",
              "      <th>mean</th>\n",
              "      <td>1.474070e+12</td>\n",
              "      <td>190.897727</td>\n",
              "      <td>2016-09-16 23:57:17.328421888</td>\n",
              "    </tr>\n",
              "    <tr>\n",
              "      <th>min</th>\n",
              "      <td>1.159356e+12</td>\n",
              "      <td>0.000000</td>\n",
              "      <td>2006-09-27 11:14:35</td>\n",
              "    </tr>\n",
              "    <tr>\n",
              "      <th>25%</th>\n",
              "      <td>1.444925e+12</td>\n",
              "      <td>159.000000</td>\n",
              "      <td>2015-10-15 16:00:43.500000</td>\n",
              "    </tr>\n",
              "    <tr>\n",
              "      <th>50%</th>\n",
              "      <td>1.489422e+12</td>\n",
              "      <td>186.000000</td>\n",
              "      <td>2017-03-13 16:27:29</td>\n",
              "    </tr>\n",
              "    <tr>\n",
              "      <th>75%</th>\n",
              "      <td>1.509891e+12</td>\n",
              "      <td>218.000000</td>\n",
              "      <td>2017-11-05 14:09:11</td>\n",
              "    </tr>\n",
              "    <tr>\n",
              "      <th>max</th>\n",
              "      <td>1.520943e+12</td>\n",
              "      <td>6690.000000</td>\n",
              "      <td>2018-03-13 12:12:30</td>\n",
              "    </tr>\n",
              "    <tr>\n",
              "      <th>std</th>\n",
              "      <td>4.293038e+10</td>\n",
              "      <td>59.502766</td>\n",
              "      <td>NaN</td>\n",
              "    </tr>\n",
              "  </tbody>\n",
              "</table>\n",
              "</div>"
            ]
          },
          "metadata": {},
          "execution_count": 128
        }
      ]
    },
    {
      "cell_type": "markdown",
      "source": [
        "Le csv articles_metadata comprend 364047 articles avec des id uniques, sans doublons et sans valeurs manquantes.\n",
        "\n",
        "Les articles appartiennent à l'une des 461 catégories.\n",
        "\n",
        "La colonne \"publisher_id\" n'a qu'un seul id, elle n'est donc pas pertinente pour notre projet.\n",
        "\n",
        "La nouvelle colonne \"created_at\" correspond à la date et heure de publication de l'article.\n",
        "\n",
        "Le nombre moyen de mots par articles est de 190 mots avec un minimum de 0 et un maximum de 6690."
      ],
      "metadata": {
        "id": "tYEbPoQGtVKG"
      }
    },
    {
      "cell_type": "markdown",
      "source": [
        "\n",
        "### clicks.csv"
      ],
      "metadata": {
        "id": "dB6jmSXeZfF9"
      }
    },
    {
      "cell_type": "code",
      "source": [
        "# Importation des données :\n",
        "# Chercher tous les fichiers .csv du dossier\n",
        "all_files = glob.glob(os.path.join(\"C:/tutorial-env/OCR/Projet10/data/clicks/\", \"*.csv\"))\n",
        "\n",
        "# Charger et concaténer tous les fichiers\n",
        "dfs = []\n",
        "for f in all_files:\n",
        "    df = pd.read_csv(f,encoding='latin',delimiter=\",\")\n",
        "    dfs.append(df)\n",
        "\n",
        "clicks = pd.concat(dfs, ignore_index=True)\n",
        "clicks.head()"
      ],
      "metadata": {
        "colab": {
          "base_uri": "https://localhost:8080/",
          "height": 206
        },
        "id": "J4FAMjDPtdhf",
        "outputId": "d37a258f-9836-40f0-d2f6-f5b9f7c73b94"
      },
      "execution_count": 129,
      "outputs": [
        {
          "output_type": "execute_result",
          "data": {
            "text/plain": [
              "  user_id        session_id  session_start session_size click_article_id  \\\n",
              "0       0  1506825423271737  1506825423000            2           157541   \n",
              "1       0  1506825423271737  1506825423000            2            68866   \n",
              "2       1  1506825426267738  1506825426000            2           235840   \n",
              "3       1  1506825426267738  1506825426000            2            96663   \n",
              "4       2  1506825435299739  1506825435000            2           119592   \n",
              "\n",
              "  click_timestamp click_environment click_deviceGroup click_os click_country  \\\n",
              "0   1506826828020                 4                 3       20             1   \n",
              "1   1506826858020                 4                 3       20             1   \n",
              "2   1506827017951                 4                 1       17             1   \n",
              "3   1506827047951                 4                 1       17             1   \n",
              "4   1506827090575                 4                 1       17             1   \n",
              "\n",
              "  click_region click_referrer_type  \n",
              "0           20                   2  \n",
              "1           20                   2  \n",
              "2           16                   2  \n",
              "3           16                   2  \n",
              "4           24                   2  "
            ],
            "text/html": [
              "<div>\n",
              "<style scoped>\n",
              "    .dataframe tbody tr th:only-of-type {\n",
              "        vertical-align: middle;\n",
              "    }\n",
              "\n",
              "    .dataframe tbody tr th {\n",
              "        vertical-align: top;\n",
              "    }\n",
              "\n",
              "    .dataframe thead th {\n",
              "        text-align: right;\n",
              "    }\n",
              "</style>\n",
              "<table border=\"1\" class=\"dataframe\">\n",
              "  <thead>\n",
              "    <tr style=\"text-align: right;\">\n",
              "      <th></th>\n",
              "      <th>user_id</th>\n",
              "      <th>session_id</th>\n",
              "      <th>session_start</th>\n",
              "      <th>session_size</th>\n",
              "      <th>click_article_id</th>\n",
              "      <th>click_timestamp</th>\n",
              "      <th>click_environment</th>\n",
              "      <th>click_deviceGroup</th>\n",
              "      <th>click_os</th>\n",
              "      <th>click_country</th>\n",
              "      <th>click_region</th>\n",
              "      <th>click_referrer_type</th>\n",
              "    </tr>\n",
              "  </thead>\n",
              "  <tbody>\n",
              "    <tr>\n",
              "      <th>0</th>\n",
              "      <td>0</td>\n",
              "      <td>1506825423271737</td>\n",
              "      <td>1506825423000</td>\n",
              "      <td>2</td>\n",
              "      <td>157541</td>\n",
              "      <td>1506826828020</td>\n",
              "      <td>4</td>\n",
              "      <td>3</td>\n",
              "      <td>20</td>\n",
              "      <td>1</td>\n",
              "      <td>20</td>\n",
              "      <td>2</td>\n",
              "    </tr>\n",
              "    <tr>\n",
              "      <th>1</th>\n",
              "      <td>0</td>\n",
              "      <td>1506825423271737</td>\n",
              "      <td>1506825423000</td>\n",
              "      <td>2</td>\n",
              "      <td>68866</td>\n",
              "      <td>1506826858020</td>\n",
              "      <td>4</td>\n",
              "      <td>3</td>\n",
              "      <td>20</td>\n",
              "      <td>1</td>\n",
              "      <td>20</td>\n",
              "      <td>2</td>\n",
              "    </tr>\n",
              "    <tr>\n",
              "      <th>2</th>\n",
              "      <td>1</td>\n",
              "      <td>1506825426267738</td>\n",
              "      <td>1506825426000</td>\n",
              "      <td>2</td>\n",
              "      <td>235840</td>\n",
              "      <td>1506827017951</td>\n",
              "      <td>4</td>\n",
              "      <td>1</td>\n",
              "      <td>17</td>\n",
              "      <td>1</td>\n",
              "      <td>16</td>\n",
              "      <td>2</td>\n",
              "    </tr>\n",
              "    <tr>\n",
              "      <th>3</th>\n",
              "      <td>1</td>\n",
              "      <td>1506825426267738</td>\n",
              "      <td>1506825426000</td>\n",
              "      <td>2</td>\n",
              "      <td>96663</td>\n",
              "      <td>1506827047951</td>\n",
              "      <td>4</td>\n",
              "      <td>1</td>\n",
              "      <td>17</td>\n",
              "      <td>1</td>\n",
              "      <td>16</td>\n",
              "      <td>2</td>\n",
              "    </tr>\n",
              "    <tr>\n",
              "      <th>4</th>\n",
              "      <td>2</td>\n",
              "      <td>1506825435299739</td>\n",
              "      <td>1506825435000</td>\n",
              "      <td>2</td>\n",
              "      <td>119592</td>\n",
              "      <td>1506827090575</td>\n",
              "      <td>4</td>\n",
              "      <td>1</td>\n",
              "      <td>17</td>\n",
              "      <td>1</td>\n",
              "      <td>24</td>\n",
              "      <td>2</td>\n",
              "    </tr>\n",
              "  </tbody>\n",
              "</table>\n",
              "</div>"
            ]
          },
          "metadata": {},
          "execution_count": 129
        }
      ]
    },
    {
      "cell_type": "code",
      "source": [
        "clicks.shape"
      ],
      "metadata": {
        "colab": {
          "base_uri": "https://localhost:8080/"
        },
        "id": "TSLVT0qIuR4j",
        "outputId": "a8bebc71-7e27-442b-befe-6b88492f9ba3"
      },
      "execution_count": 130,
      "outputs": [
        {
          "output_type": "execute_result",
          "data": {
            "text/plain": [
              "(2988181, 12)"
            ]
          },
          "metadata": {},
          "execution_count": 130
        }
      ]
    },
    {
      "cell_type": "code",
      "source": [
        "clicks.dtypes"
      ],
      "metadata": {
        "colab": {
          "base_uri": "https://localhost:8080/"
        },
        "id": "eIIisDUN5cn8",
        "outputId": "cef07a23-16e2-4927-9b50-a6c1686914d7"
      },
      "execution_count": 131,
      "outputs": [
        {
          "output_type": "execute_result",
          "data": {
            "text/plain": [
              "user_id                object\n",
              "session_id             object\n",
              "session_start          object\n",
              "session_size           object\n",
              "click_article_id       object\n",
              "click_timestamp        object\n",
              "click_environment      object\n",
              "click_deviceGroup      object\n",
              "click_os               object\n",
              "click_country          object\n",
              "click_region           object\n",
              "click_referrer_type    object\n",
              "dtype: object"
            ]
          },
          "metadata": {},
          "execution_count": 131
        }
      ]
    },
    {
      "cell_type": "code",
      "source": [
        "clicks[['user_id','session_id','click_article_id','click_environment','click_deviceGroup','click_os','click_country','click_region','click_referrer_type']] = clicks[['user_id','session_id','click_article_id','click_environment','click_deviceGroup','click_os','click_country','click_region','click_referrer_type']].astype(str)\n",
        "clicks[['user_id','session_id','click_article_id','click_environment','click_deviceGroup','click_os','click_country','click_region','click_referrer_type']].describe()"
      ],
      "metadata": {
        "colab": {
          "base_uri": "https://localhost:8080/",
          "height": 175
        },
        "id": "20FOZoXkx5w1",
        "outputId": "206cd706-f47f-4c99-e047-bbbadce6f930"
      },
      "execution_count": 132,
      "outputs": [
        {
          "output_type": "execute_result",
          "data": {
            "text/plain": [
              "        user_id        session_id click_article_id click_environment  \\\n",
              "count   2988181           2988181          2988181           2988181   \n",
              "unique   322897           1048594            46033                 3   \n",
              "top        5890  1507563657895091           160974                 4   \n",
              "freq       1232               124            37213           2904478   \n",
              "\n",
              "       click_deviceGroup click_os click_country click_region  \\\n",
              "count            2988181  2988181       2988181      2988181   \n",
              "unique                 5        8            11           28   \n",
              "top                    1       17             1           25   \n",
              "freq             1823162  1738138       2852406       804985   \n",
              "\n",
              "       click_referrer_type  \n",
              "count              2988181  \n",
              "unique                   7  \n",
              "top                      2  \n",
              "freq               1602601  "
            ],
            "text/html": [
              "<div>\n",
              "<style scoped>\n",
              "    .dataframe tbody tr th:only-of-type {\n",
              "        vertical-align: middle;\n",
              "    }\n",
              "\n",
              "    .dataframe tbody tr th {\n",
              "        vertical-align: top;\n",
              "    }\n",
              "\n",
              "    .dataframe thead th {\n",
              "        text-align: right;\n",
              "    }\n",
              "</style>\n",
              "<table border=\"1\" class=\"dataframe\">\n",
              "  <thead>\n",
              "    <tr style=\"text-align: right;\">\n",
              "      <th></th>\n",
              "      <th>user_id</th>\n",
              "      <th>session_id</th>\n",
              "      <th>click_article_id</th>\n",
              "      <th>click_environment</th>\n",
              "      <th>click_deviceGroup</th>\n",
              "      <th>click_os</th>\n",
              "      <th>click_country</th>\n",
              "      <th>click_region</th>\n",
              "      <th>click_referrer_type</th>\n",
              "    </tr>\n",
              "  </thead>\n",
              "  <tbody>\n",
              "    <tr>\n",
              "      <th>count</th>\n",
              "      <td>2988181</td>\n",
              "      <td>2988181</td>\n",
              "      <td>2988181</td>\n",
              "      <td>2988181</td>\n",
              "      <td>2988181</td>\n",
              "      <td>2988181</td>\n",
              "      <td>2988181</td>\n",
              "      <td>2988181</td>\n",
              "      <td>2988181</td>\n",
              "    </tr>\n",
              "    <tr>\n",
              "      <th>unique</th>\n",
              "      <td>322897</td>\n",
              "      <td>1048594</td>\n",
              "      <td>46033</td>\n",
              "      <td>3</td>\n",
              "      <td>5</td>\n",
              "      <td>8</td>\n",
              "      <td>11</td>\n",
              "      <td>28</td>\n",
              "      <td>7</td>\n",
              "    </tr>\n",
              "    <tr>\n",
              "      <th>top</th>\n",
              "      <td>5890</td>\n",
              "      <td>1507563657895091</td>\n",
              "      <td>160974</td>\n",
              "      <td>4</td>\n",
              "      <td>1</td>\n",
              "      <td>17</td>\n",
              "      <td>1</td>\n",
              "      <td>25</td>\n",
              "      <td>2</td>\n",
              "    </tr>\n",
              "    <tr>\n",
              "      <th>freq</th>\n",
              "      <td>1232</td>\n",
              "      <td>124</td>\n",
              "      <td>37213</td>\n",
              "      <td>2904478</td>\n",
              "      <td>1823162</td>\n",
              "      <td>1738138</td>\n",
              "      <td>2852406</td>\n",
              "      <td>804985</td>\n",
              "      <td>1602601</td>\n",
              "    </tr>\n",
              "  </tbody>\n",
              "</table>\n",
              "</div>"
            ]
          },
          "metadata": {},
          "execution_count": 132
        }
      ]
    },
    {
      "cell_type": "code",
      "source": [
        "clicks.duplicated().sum()"
      ],
      "metadata": {
        "colab": {
          "base_uri": "https://localhost:8080/"
        },
        "id": "KfgokLRTPrD3",
        "outputId": "338e88a9-f5be-44bc-db58-5713b4a6166f"
      },
      "execution_count": 133,
      "outputs": [
        {
          "output_type": "execute_result",
          "data": {
            "text/plain": [
              "0"
            ]
          },
          "metadata": {},
          "execution_count": 133
        }
      ]
    },
    {
      "cell_type": "markdown",
      "source": [
        "Modifions le type des colonnes pour en savoir plus et pour pouvoir interpréter les dates des colonnes \"session_start\" et \"click_timestamp\"."
      ],
      "metadata": {
        "id": "7J3E2YdLIiVQ"
      }
    },
    {
      "cell_type": "code",
      "source": [
        "clicks['session_size'] = clicks[['session_size']].astype(int)\n",
        "clicks['session_start'] = pd.to_datetime(clicks['session_start'], unit='ms')\n",
        "clicks['click_timestamp'] = pd.to_datetime(clicks['click_timestamp'], unit='ms')\n",
        "clicks.describe()"
      ],
      "metadata": {
        "colab": {
          "base_uri": "https://localhost:8080/",
          "height": 300
        },
        "id": "lItTfoU7IvZt",
        "outputId": "27b542aa-26c4-45c3-85cb-d7c3bb85d800"
      },
      "execution_count": 134,
      "outputs": [
        {
          "output_type": "execute_result",
          "data": {
            "text/plain": [
              "                       session_start  session_size  \\\n",
              "count                        2988181  2.988181e+06   \n",
              "mean   2017-10-08 14:17:08.013157120  3.901885e+00   \n",
              "min              2017-10-01 02:37:03  2.000000e+00   \n",
              "25%              2017-10-04 13:35:52  2.000000e+00   \n",
              "50%              2017-10-08 20:09:00  3.000000e+00   \n",
              "75%              2017-10-11 19:16:54  4.000000e+00   \n",
              "max              2017-10-17 03:36:19  1.240000e+02   \n",
              "std                              NaN  3.929941e+00   \n",
              "\n",
              "                     click_timestamp  \n",
              "count                        2988181  \n",
              "mean   2017-10-08 14:51:05.606100224  \n",
              "min       2017-10-01 03:00:00.026000  \n",
              "25%    2017-10-04 14:20:52.854000128  \n",
              "50%    2017-10-08 20:35:30.480999936  \n",
              "75%    2017-10-11 19:43:24.600999936  \n",
              "max       2017-11-13 20:04:14.886000  \n",
              "std                              NaN  "
            ],
            "text/html": [
              "<div>\n",
              "<style scoped>\n",
              "    .dataframe tbody tr th:only-of-type {\n",
              "        vertical-align: middle;\n",
              "    }\n",
              "\n",
              "    .dataframe tbody tr th {\n",
              "        vertical-align: top;\n",
              "    }\n",
              "\n",
              "    .dataframe thead th {\n",
              "        text-align: right;\n",
              "    }\n",
              "</style>\n",
              "<table border=\"1\" class=\"dataframe\">\n",
              "  <thead>\n",
              "    <tr style=\"text-align: right;\">\n",
              "      <th></th>\n",
              "      <th>session_start</th>\n",
              "      <th>session_size</th>\n",
              "      <th>click_timestamp</th>\n",
              "    </tr>\n",
              "  </thead>\n",
              "  <tbody>\n",
              "    <tr>\n",
              "      <th>count</th>\n",
              "      <td>2988181</td>\n",
              "      <td>2.988181e+06</td>\n",
              "      <td>2988181</td>\n",
              "    </tr>\n",
              "    <tr>\n",
              "      <th>mean</th>\n",
              "      <td>2017-10-08 14:17:08.013157120</td>\n",
              "      <td>3.901885e+00</td>\n",
              "      <td>2017-10-08 14:51:05.606100224</td>\n",
              "    </tr>\n",
              "    <tr>\n",
              "      <th>min</th>\n",
              "      <td>2017-10-01 02:37:03</td>\n",
              "      <td>2.000000e+00</td>\n",
              "      <td>2017-10-01 03:00:00.026000</td>\n",
              "    </tr>\n",
              "    <tr>\n",
              "      <th>25%</th>\n",
              "      <td>2017-10-04 13:35:52</td>\n",
              "      <td>2.000000e+00</td>\n",
              "      <td>2017-10-04 14:20:52.854000128</td>\n",
              "    </tr>\n",
              "    <tr>\n",
              "      <th>50%</th>\n",
              "      <td>2017-10-08 20:09:00</td>\n",
              "      <td>3.000000e+00</td>\n",
              "      <td>2017-10-08 20:35:30.480999936</td>\n",
              "    </tr>\n",
              "    <tr>\n",
              "      <th>75%</th>\n",
              "      <td>2017-10-11 19:16:54</td>\n",
              "      <td>4.000000e+00</td>\n",
              "      <td>2017-10-11 19:43:24.600999936</td>\n",
              "    </tr>\n",
              "    <tr>\n",
              "      <th>max</th>\n",
              "      <td>2017-10-17 03:36:19</td>\n",
              "      <td>1.240000e+02</td>\n",
              "      <td>2017-11-13 20:04:14.886000</td>\n",
              "    </tr>\n",
              "    <tr>\n",
              "      <th>std</th>\n",
              "      <td>NaN</td>\n",
              "      <td>3.929941e+00</td>\n",
              "      <td>NaN</td>\n",
              "    </tr>\n",
              "  </tbody>\n",
              "</table>\n",
              "</div>"
            ]
          },
          "metadata": {},
          "execution_count": 134
        }
      ]
    },
    {
      "cell_type": "markdown",
      "source": [
        "La fusion des différents csv clicks_hour comprend 2988181 lignes et 12 colonnes, sans doublons et sans valeurs manquantes.\n",
        "\n",
        "Les données sont basées sur les 1048594 sessions de 322897 clients. Ils ont cliqués sur 46033 articles différents.\n",
        "\n",
        "Les colonnes 'click_environment', 'click_deviceGroup', 'click_os', 'click_country', 'click_region', 'click_referrer_type' permettent de comprendre le contexte de l'utilisateur. Nous ne les utiliserons pas dans notre projet.\n",
        "\n",
        "La colonne \"session_start\" correspond à la date et heure d'ouverture de la session.\n",
        "\n",
        "La colonne \"click_timestamp\" correspond à la date et heure du clic.\n",
        "\n",
        "Le nombre moyen de clics par session, portés par la colonne \"session_size\",  est de 3.9 clicls avec un minimum de 2 et un maximum de 124.\n",
        "\n",
        "Créons notre dataframe final avec les variables qui nous intéressent :"
      ],
      "metadata": {
        "id": "D-vQovUoLAkU"
      }
    },
    {
      "cell_type": "code",
      "source": [
        "# Renommer des colonnes pour la jointure\n",
        "clicks = clicks.rename(columns={'click_article_id': 'article_id'})\n",
        "data_articles = data_articles.rename(columns={'category_id': 'article_category_id'})\n",
        "data_articles = data_articles.rename(columns={'words_count': 'article_words_count'})"
      ],
      "metadata": {
        "id": "gc1lgzhxdYz8"
      },
      "execution_count": 135,
      "outputs": []
    },
    {
      "cell_type": "code",
      "source": [
        "# Ajout des colonnes à clicks\n",
        "df = clicks.merge(data_articles[['article_id', 'article_category_id', 'article_words_count' ,\t'article_created_at']],\n",
        "    on='article_id', how='left')\n",
        "df.head()"
      ],
      "metadata": {
        "colab": {
          "base_uri": "https://localhost:8080/",
          "height": 206
        },
        "id": "hdT9lABZZOrp",
        "outputId": "317aaa8b-78b4-4d15-fe2a-8bd4564863dc"
      },
      "execution_count": 136,
      "outputs": [
        {
          "output_type": "execute_result",
          "data": {
            "text/plain": [
              "  user_id        session_id       session_start  session_size article_id  \\\n",
              "0       0  1506825423271737 2017-10-01 02:37:03             2     157541   \n",
              "1       0  1506825423271737 2017-10-01 02:37:03             2      68866   \n",
              "2       1  1506825426267738 2017-10-01 02:37:06             2     235840   \n",
              "3       1  1506825426267738 2017-10-01 02:37:06             2      96663   \n",
              "4       2  1506825435299739 2017-10-01 02:37:15             2     119592   \n",
              "\n",
              "          click_timestamp click_environment click_deviceGroup click_os  \\\n",
              "0 2017-10-01 03:00:28.020                 4                 3       20   \n",
              "1 2017-10-01 03:00:58.020                 4                 3       20   \n",
              "2 2017-10-01 03:03:37.951                 4                 1       17   \n",
              "3 2017-10-01 03:04:07.951                 4                 1       17   \n",
              "4 2017-10-01 03:04:50.575                 4                 1       17   \n",
              "\n",
              "  click_country click_region click_referrer_type article_category_id  \\\n",
              "0             1           20                   2                 281   \n",
              "1             1           20                   2                 136   \n",
              "2             1           16                   2                 375   \n",
              "3             1           16                   2                 209   \n",
              "4             1           24                   2                 247   \n",
              "\n",
              "   article_words_count  article_created_at  \n",
              "0                  280 2017-09-30 19:41:58  \n",
              "1                  226 2017-10-01 00:08:02  \n",
              "2                  159 2017-09-30 21:43:59  \n",
              "3                  206 2017-09-30 16:13:45  \n",
              "4                  239 2017-09-30 15:11:56  "
            ],
            "text/html": [
              "<div>\n",
              "<style scoped>\n",
              "    .dataframe tbody tr th:only-of-type {\n",
              "        vertical-align: middle;\n",
              "    }\n",
              "\n",
              "    .dataframe tbody tr th {\n",
              "        vertical-align: top;\n",
              "    }\n",
              "\n",
              "    .dataframe thead th {\n",
              "        text-align: right;\n",
              "    }\n",
              "</style>\n",
              "<table border=\"1\" class=\"dataframe\">\n",
              "  <thead>\n",
              "    <tr style=\"text-align: right;\">\n",
              "      <th></th>\n",
              "      <th>user_id</th>\n",
              "      <th>session_id</th>\n",
              "      <th>session_start</th>\n",
              "      <th>session_size</th>\n",
              "      <th>article_id</th>\n",
              "      <th>click_timestamp</th>\n",
              "      <th>click_environment</th>\n",
              "      <th>click_deviceGroup</th>\n",
              "      <th>click_os</th>\n",
              "      <th>click_country</th>\n",
              "      <th>click_region</th>\n",
              "      <th>click_referrer_type</th>\n",
              "      <th>article_category_id</th>\n",
              "      <th>article_words_count</th>\n",
              "      <th>article_created_at</th>\n",
              "    </tr>\n",
              "  </thead>\n",
              "  <tbody>\n",
              "    <tr>\n",
              "      <th>0</th>\n",
              "      <td>0</td>\n",
              "      <td>1506825423271737</td>\n",
              "      <td>2017-10-01 02:37:03</td>\n",
              "      <td>2</td>\n",
              "      <td>157541</td>\n",
              "      <td>2017-10-01 03:00:28.020</td>\n",
              "      <td>4</td>\n",
              "      <td>3</td>\n",
              "      <td>20</td>\n",
              "      <td>1</td>\n",
              "      <td>20</td>\n",
              "      <td>2</td>\n",
              "      <td>281</td>\n",
              "      <td>280</td>\n",
              "      <td>2017-09-30 19:41:58</td>\n",
              "    </tr>\n",
              "    <tr>\n",
              "      <th>1</th>\n",
              "      <td>0</td>\n",
              "      <td>1506825423271737</td>\n",
              "      <td>2017-10-01 02:37:03</td>\n",
              "      <td>2</td>\n",
              "      <td>68866</td>\n",
              "      <td>2017-10-01 03:00:58.020</td>\n",
              "      <td>4</td>\n",
              "      <td>3</td>\n",
              "      <td>20</td>\n",
              "      <td>1</td>\n",
              "      <td>20</td>\n",
              "      <td>2</td>\n",
              "      <td>136</td>\n",
              "      <td>226</td>\n",
              "      <td>2017-10-01 00:08:02</td>\n",
              "    </tr>\n",
              "    <tr>\n",
              "      <th>2</th>\n",
              "      <td>1</td>\n",
              "      <td>1506825426267738</td>\n",
              "      <td>2017-10-01 02:37:06</td>\n",
              "      <td>2</td>\n",
              "      <td>235840</td>\n",
              "      <td>2017-10-01 03:03:37.951</td>\n",
              "      <td>4</td>\n",
              "      <td>1</td>\n",
              "      <td>17</td>\n",
              "      <td>1</td>\n",
              "      <td>16</td>\n",
              "      <td>2</td>\n",
              "      <td>375</td>\n",
              "      <td>159</td>\n",
              "      <td>2017-09-30 21:43:59</td>\n",
              "    </tr>\n",
              "    <tr>\n",
              "      <th>3</th>\n",
              "      <td>1</td>\n",
              "      <td>1506825426267738</td>\n",
              "      <td>2017-10-01 02:37:06</td>\n",
              "      <td>2</td>\n",
              "      <td>96663</td>\n",
              "      <td>2017-10-01 03:04:07.951</td>\n",
              "      <td>4</td>\n",
              "      <td>1</td>\n",
              "      <td>17</td>\n",
              "      <td>1</td>\n",
              "      <td>16</td>\n",
              "      <td>2</td>\n",
              "      <td>209</td>\n",
              "      <td>206</td>\n",
              "      <td>2017-09-30 16:13:45</td>\n",
              "    </tr>\n",
              "    <tr>\n",
              "      <th>4</th>\n",
              "      <td>2</td>\n",
              "      <td>1506825435299739</td>\n",
              "      <td>2017-10-01 02:37:15</td>\n",
              "      <td>2</td>\n",
              "      <td>119592</td>\n",
              "      <td>2017-10-01 03:04:50.575</td>\n",
              "      <td>4</td>\n",
              "      <td>1</td>\n",
              "      <td>17</td>\n",
              "      <td>1</td>\n",
              "      <td>24</td>\n",
              "      <td>2</td>\n",
              "      <td>247</td>\n",
              "      <td>239</td>\n",
              "      <td>2017-09-30 15:11:56</td>\n",
              "    </tr>\n",
              "  </tbody>\n",
              "</table>\n",
              "</div>"
            ]
          },
          "metadata": {},
          "execution_count": 136
        }
      ]
    },
    {
      "cell_type": "code",
      "source": [
        "# Suppression de colonnes non  pertinentes\n",
        "df = df.drop(['click_environment','click_deviceGroup','click_os','click_country','click_region','click_referrer_type'], axis=1)\n",
        "df.head()"
      ],
      "metadata": {
        "colab": {
          "base_uri": "https://localhost:8080/",
          "height": 206
        },
        "id": "SR8m3SfhcyIn",
        "outputId": "943b4871-20ad-4e41-82c6-f49ea3bb1579"
      },
      "execution_count": 137,
      "outputs": [
        {
          "output_type": "execute_result",
          "data": {
            "text/plain": [
              "  user_id        session_id       session_start  session_size article_id  \\\n",
              "0       0  1506825423271737 2017-10-01 02:37:03             2     157541   \n",
              "1       0  1506825423271737 2017-10-01 02:37:03             2      68866   \n",
              "2       1  1506825426267738 2017-10-01 02:37:06             2     235840   \n",
              "3       1  1506825426267738 2017-10-01 02:37:06             2      96663   \n",
              "4       2  1506825435299739 2017-10-01 02:37:15             2     119592   \n",
              "\n",
              "          click_timestamp article_category_id  article_words_count  \\\n",
              "0 2017-10-01 03:00:28.020                 281                  280   \n",
              "1 2017-10-01 03:00:58.020                 136                  226   \n",
              "2 2017-10-01 03:03:37.951                 375                  159   \n",
              "3 2017-10-01 03:04:07.951                 209                  206   \n",
              "4 2017-10-01 03:04:50.575                 247                  239   \n",
              "\n",
              "   article_created_at  \n",
              "0 2017-09-30 19:41:58  \n",
              "1 2017-10-01 00:08:02  \n",
              "2 2017-09-30 21:43:59  \n",
              "3 2017-09-30 16:13:45  \n",
              "4 2017-09-30 15:11:56  "
            ],
            "text/html": [
              "<div>\n",
              "<style scoped>\n",
              "    .dataframe tbody tr th:only-of-type {\n",
              "        vertical-align: middle;\n",
              "    }\n",
              "\n",
              "    .dataframe tbody tr th {\n",
              "        vertical-align: top;\n",
              "    }\n",
              "\n",
              "    .dataframe thead th {\n",
              "        text-align: right;\n",
              "    }\n",
              "</style>\n",
              "<table border=\"1\" class=\"dataframe\">\n",
              "  <thead>\n",
              "    <tr style=\"text-align: right;\">\n",
              "      <th></th>\n",
              "      <th>user_id</th>\n",
              "      <th>session_id</th>\n",
              "      <th>session_start</th>\n",
              "      <th>session_size</th>\n",
              "      <th>article_id</th>\n",
              "      <th>click_timestamp</th>\n",
              "      <th>article_category_id</th>\n",
              "      <th>article_words_count</th>\n",
              "      <th>article_created_at</th>\n",
              "    </tr>\n",
              "  </thead>\n",
              "  <tbody>\n",
              "    <tr>\n",
              "      <th>0</th>\n",
              "      <td>0</td>\n",
              "      <td>1506825423271737</td>\n",
              "      <td>2017-10-01 02:37:03</td>\n",
              "      <td>2</td>\n",
              "      <td>157541</td>\n",
              "      <td>2017-10-01 03:00:28.020</td>\n",
              "      <td>281</td>\n",
              "      <td>280</td>\n",
              "      <td>2017-09-30 19:41:58</td>\n",
              "    </tr>\n",
              "    <tr>\n",
              "      <th>1</th>\n",
              "      <td>0</td>\n",
              "      <td>1506825423271737</td>\n",
              "      <td>2017-10-01 02:37:03</td>\n",
              "      <td>2</td>\n",
              "      <td>68866</td>\n",
              "      <td>2017-10-01 03:00:58.020</td>\n",
              "      <td>136</td>\n",
              "      <td>226</td>\n",
              "      <td>2017-10-01 00:08:02</td>\n",
              "    </tr>\n",
              "    <tr>\n",
              "      <th>2</th>\n",
              "      <td>1</td>\n",
              "      <td>1506825426267738</td>\n",
              "      <td>2017-10-01 02:37:06</td>\n",
              "      <td>2</td>\n",
              "      <td>235840</td>\n",
              "      <td>2017-10-01 03:03:37.951</td>\n",
              "      <td>375</td>\n",
              "      <td>159</td>\n",
              "      <td>2017-09-30 21:43:59</td>\n",
              "    </tr>\n",
              "    <tr>\n",
              "      <th>3</th>\n",
              "      <td>1</td>\n",
              "      <td>1506825426267738</td>\n",
              "      <td>2017-10-01 02:37:06</td>\n",
              "      <td>2</td>\n",
              "      <td>96663</td>\n",
              "      <td>2017-10-01 03:04:07.951</td>\n",
              "      <td>209</td>\n",
              "      <td>206</td>\n",
              "      <td>2017-09-30 16:13:45</td>\n",
              "    </tr>\n",
              "    <tr>\n",
              "      <th>4</th>\n",
              "      <td>2</td>\n",
              "      <td>1506825435299739</td>\n",
              "      <td>2017-10-01 02:37:15</td>\n",
              "      <td>2</td>\n",
              "      <td>119592</td>\n",
              "      <td>2017-10-01 03:04:50.575</td>\n",
              "      <td>247</td>\n",
              "      <td>239</td>\n",
              "      <td>2017-09-30 15:11:56</td>\n",
              "    </tr>\n",
              "  </tbody>\n",
              "</table>\n",
              "</div>"
            ]
          },
          "metadata": {},
          "execution_count": 137
        }
      ]
    },
    {
      "cell_type": "code",
      "source": [
        "df.describe(include='all')"
      ],
      "metadata": {
        "colab": {
          "base_uri": "https://localhost:8080/",
          "height": 394
        },
        "id": "szGhm8X0fdZu",
        "outputId": "ff1739e7-9c22-4afe-dbb2-2d53d3bef4dd"
      },
      "execution_count": 138,
      "outputs": [
        {
          "output_type": "execute_result",
          "data": {
            "text/plain": [
              "        user_id        session_id                  session_start  \\\n",
              "count   2988181           2988181                        2988181   \n",
              "unique   322897           1048594                            NaN   \n",
              "top        5890  1507563657895091                            NaN   \n",
              "freq       1232               124                            NaN   \n",
              "mean        NaN               NaN  2017-10-08 14:17:08.013157120   \n",
              "min         NaN               NaN            2017-10-01 02:37:03   \n",
              "25%         NaN               NaN            2017-10-04 13:35:52   \n",
              "50%         NaN               NaN            2017-10-08 20:09:00   \n",
              "75%         NaN               NaN            2017-10-11 19:16:54   \n",
              "max         NaN               NaN            2017-10-17 03:36:19   \n",
              "std         NaN               NaN                            NaN   \n",
              "\n",
              "        session_size article_id                click_timestamp  \\\n",
              "count   2.988181e+06    2988181                        2988181   \n",
              "unique           NaN      46033                            NaN   \n",
              "top              NaN     160974                            NaN   \n",
              "freq             NaN      37213                            NaN   \n",
              "mean    3.901885e+00        NaN  2017-10-08 14:51:05.606100224   \n",
              "min     2.000000e+00        NaN     2017-10-01 03:00:00.026000   \n",
              "25%     2.000000e+00        NaN  2017-10-04 14:20:52.854000128   \n",
              "50%     3.000000e+00        NaN  2017-10-08 20:35:30.480999936   \n",
              "75%     4.000000e+00        NaN  2017-10-11 19:43:24.600999936   \n",
              "max     1.240000e+02        NaN     2017-11-13 20:04:14.886000   \n",
              "std     3.929941e+00        NaN                            NaN   \n",
              "\n",
              "       article_category_id  article_words_count             article_created_at  \n",
              "count              2988181         2.988181e+06                        2988181  \n",
              "unique                 316                  NaN                            NaN  \n",
              "top                    281                  NaN                            NaN  \n",
              "freq                370843                  NaN                            NaN  \n",
              "mean                   NaN         2.086283e+02  2017-09-30 05:50:23.356218368  \n",
              "min                    NaN         0.000000e+00            2006-12-20 00:00:00  \n",
              "25%                    NaN         1.730000e+02            2017-10-03 17:56:13  \n",
              "50%                    NaN         1.980000e+02            2017-10-07 19:10:41  \n",
              "75%                    NaN         2.320000e+02            2017-10-11 10:10:51  \n",
              "max                    NaN         6.690000e+03            2017-11-14 13:26:54  \n",
              "std                    NaN         8.160152e+01                            NaN  "
            ],
            "text/html": [
              "<div>\n",
              "<style scoped>\n",
              "    .dataframe tbody tr th:only-of-type {\n",
              "        vertical-align: middle;\n",
              "    }\n",
              "\n",
              "    .dataframe tbody tr th {\n",
              "        vertical-align: top;\n",
              "    }\n",
              "\n",
              "    .dataframe thead th {\n",
              "        text-align: right;\n",
              "    }\n",
              "</style>\n",
              "<table border=\"1\" class=\"dataframe\">\n",
              "  <thead>\n",
              "    <tr style=\"text-align: right;\">\n",
              "      <th></th>\n",
              "      <th>user_id</th>\n",
              "      <th>session_id</th>\n",
              "      <th>session_start</th>\n",
              "      <th>session_size</th>\n",
              "      <th>article_id</th>\n",
              "      <th>click_timestamp</th>\n",
              "      <th>article_category_id</th>\n",
              "      <th>article_words_count</th>\n",
              "      <th>article_created_at</th>\n",
              "    </tr>\n",
              "  </thead>\n",
              "  <tbody>\n",
              "    <tr>\n",
              "      <th>count</th>\n",
              "      <td>2988181</td>\n",
              "      <td>2988181</td>\n",
              "      <td>2988181</td>\n",
              "      <td>2.988181e+06</td>\n",
              "      <td>2988181</td>\n",
              "      <td>2988181</td>\n",
              "      <td>2988181</td>\n",
              "      <td>2.988181e+06</td>\n",
              "      <td>2988181</td>\n",
              "    </tr>\n",
              "    <tr>\n",
              "      <th>unique</th>\n",
              "      <td>322897</td>\n",
              "      <td>1048594</td>\n",
              "      <td>NaN</td>\n",
              "      <td>NaN</td>\n",
              "      <td>46033</td>\n",
              "      <td>NaN</td>\n",
              "      <td>316</td>\n",
              "      <td>NaN</td>\n",
              "      <td>NaN</td>\n",
              "    </tr>\n",
              "    <tr>\n",
              "      <th>top</th>\n",
              "      <td>5890</td>\n",
              "      <td>1507563657895091</td>\n",
              "      <td>NaN</td>\n",
              "      <td>NaN</td>\n",
              "      <td>160974</td>\n",
              "      <td>NaN</td>\n",
              "      <td>281</td>\n",
              "      <td>NaN</td>\n",
              "      <td>NaN</td>\n",
              "    </tr>\n",
              "    <tr>\n",
              "      <th>freq</th>\n",
              "      <td>1232</td>\n",
              "      <td>124</td>\n",
              "      <td>NaN</td>\n",
              "      <td>NaN</td>\n",
              "      <td>37213</td>\n",
              "      <td>NaN</td>\n",
              "      <td>370843</td>\n",
              "      <td>NaN</td>\n",
              "      <td>NaN</td>\n",
              "    </tr>\n",
              "    <tr>\n",
              "      <th>mean</th>\n",
              "      <td>NaN</td>\n",
              "      <td>NaN</td>\n",
              "      <td>2017-10-08 14:17:08.013157120</td>\n",
              "      <td>3.901885e+00</td>\n",
              "      <td>NaN</td>\n",
              "      <td>2017-10-08 14:51:05.606100224</td>\n",
              "      <td>NaN</td>\n",
              "      <td>2.086283e+02</td>\n",
              "      <td>2017-09-30 05:50:23.356218368</td>\n",
              "    </tr>\n",
              "    <tr>\n",
              "      <th>min</th>\n",
              "      <td>NaN</td>\n",
              "      <td>NaN</td>\n",
              "      <td>2017-10-01 02:37:03</td>\n",
              "      <td>2.000000e+00</td>\n",
              "      <td>NaN</td>\n",
              "      <td>2017-10-01 03:00:00.026000</td>\n",
              "      <td>NaN</td>\n",
              "      <td>0.000000e+00</td>\n",
              "      <td>2006-12-20 00:00:00</td>\n",
              "    </tr>\n",
              "    <tr>\n",
              "      <th>25%</th>\n",
              "      <td>NaN</td>\n",
              "      <td>NaN</td>\n",
              "      <td>2017-10-04 13:35:52</td>\n",
              "      <td>2.000000e+00</td>\n",
              "      <td>NaN</td>\n",
              "      <td>2017-10-04 14:20:52.854000128</td>\n",
              "      <td>NaN</td>\n",
              "      <td>1.730000e+02</td>\n",
              "      <td>2017-10-03 17:56:13</td>\n",
              "    </tr>\n",
              "    <tr>\n",
              "      <th>50%</th>\n",
              "      <td>NaN</td>\n",
              "      <td>NaN</td>\n",
              "      <td>2017-10-08 20:09:00</td>\n",
              "      <td>3.000000e+00</td>\n",
              "      <td>NaN</td>\n",
              "      <td>2017-10-08 20:35:30.480999936</td>\n",
              "      <td>NaN</td>\n",
              "      <td>1.980000e+02</td>\n",
              "      <td>2017-10-07 19:10:41</td>\n",
              "    </tr>\n",
              "    <tr>\n",
              "      <th>75%</th>\n",
              "      <td>NaN</td>\n",
              "      <td>NaN</td>\n",
              "      <td>2017-10-11 19:16:54</td>\n",
              "      <td>4.000000e+00</td>\n",
              "      <td>NaN</td>\n",
              "      <td>2017-10-11 19:43:24.600999936</td>\n",
              "      <td>NaN</td>\n",
              "      <td>2.320000e+02</td>\n",
              "      <td>2017-10-11 10:10:51</td>\n",
              "    </tr>\n",
              "    <tr>\n",
              "      <th>max</th>\n",
              "      <td>NaN</td>\n",
              "      <td>NaN</td>\n",
              "      <td>2017-10-17 03:36:19</td>\n",
              "      <td>1.240000e+02</td>\n",
              "      <td>NaN</td>\n",
              "      <td>2017-11-13 20:04:14.886000</td>\n",
              "      <td>NaN</td>\n",
              "      <td>6.690000e+03</td>\n",
              "      <td>2017-11-14 13:26:54</td>\n",
              "    </tr>\n",
              "    <tr>\n",
              "      <th>std</th>\n",
              "      <td>NaN</td>\n",
              "      <td>NaN</td>\n",
              "      <td>NaN</td>\n",
              "      <td>3.929941e+00</td>\n",
              "      <td>NaN</td>\n",
              "      <td>NaN</td>\n",
              "      <td>NaN</td>\n",
              "      <td>8.160152e+01</td>\n",
              "      <td>NaN</td>\n",
              "    </tr>\n",
              "  </tbody>\n",
              "</table>\n",
              "</div>"
            ]
          },
          "metadata": {},
          "execution_count": 138
        }
      ]
    },
    {
      "cell_type": "markdown",
      "source": [
        "Il paraît étrange que les dates des sessions soient comprises entre le 01/10/2017 et le 17/10/2017 alors que certains clics ont une date jusqu'au 13/11/2017.\n",
        "\n",
        "On peut considérer que les sessions ont une validité maximum de 24h et donc enlever les sessions qui ont des clics plus de 24h après le début de la session."
      ],
      "metadata": {
        "id": "nxrlwoAcoKhL"
      }
    },
    {
      "cell_type": "code",
      "source": [
        "# Récupérer les lignes des clics invalides\n",
        "invalid_click = df[df['click_timestamp'] > df['session_start'] + pd.Timedelta(hours=24)]\n",
        "print(f\"Nb de clics invalides (plus de 24h après le début de la session) : {len(invalid_click)}\")"
      ],
      "metadata": {
        "colab": {
          "base_uri": "https://localhost:8080/"
        },
        "id": "IAnH0YqPQ6aD",
        "outputId": "7f900d0b-28e3-4440-9425-6d12981068a3"
      },
      "execution_count": 139,
      "outputs": [
        {
          "output_type": "stream",
          "name": "stdout",
          "text": [
            "Nb de clics invalides (plus de 24h après le début de la session) : 7331\n"
          ]
        }
      ]
    },
    {
      "cell_type": "code",
      "source": [
        "# Récupérer les session_id uniques des clics invalides\n",
        "invalid_sessions = invalid_click['session_id'].unique()\n",
        "print(f\"Nombre de sessions invalides : {len(invalid_sessions)}\")\n",
        "print(invalid_sessions)"
      ],
      "metadata": {
        "colab": {
          "base_uri": "https://localhost:8080/"
        },
        "id": "KmxQYZlaUG3b",
        "outputId": "d4fd929f-5723-4577-f9cd-ceb9abe85df1"
      },
      "execution_count": 140,
      "outputs": [
        {
          "output_type": "stream",
          "name": "stdout",
          "text": [
            "Nombre de sessions invalides : 1585\n",
            "['1506826396181805' '1506828700132376' '1506838680312490' ...\n",
            " '1508204557329180' '1508208124139509' '1508209734334947']\n"
          ]
        }
      ]
    },
    {
      "cell_type": "code",
      "source": [
        "# Supprimer du DataFrame principal toutes les lignes de ces sessions invalides\n",
        "dfinal = df[~df['session_id'].isin(invalid_sessions)].copy()\n",
        "dfinal"
      ],
      "metadata": {
        "colab": {
          "base_uri": "https://localhost:8080/",
          "height": 424
        },
        "id": "Q6I3ZO3aVL0t",
        "outputId": "cbb3d78a-1214-4bad-f7e1-57806d204fde"
      },
      "execution_count": 141,
      "outputs": [
        {
          "output_type": "execute_result",
          "data": {
            "text/plain": [
              "        user_id        session_id       session_start  session_size  \\\n",
              "0             0  1506825423271737 2017-10-01 02:37:03             2   \n",
              "1             0  1506825423271737 2017-10-01 02:37:03             2   \n",
              "2             1  1506825426267738 2017-10-01 02:37:06             2   \n",
              "3             1  1506825426267738 2017-10-01 02:37:06             2   \n",
              "4             2  1506825435299739 2017-10-01 02:37:15             2   \n",
              "...         ...               ...                 ...           ...   \n",
              "2988176   10051  1508211372158328 2017-10-17 03:36:12             2   \n",
              "2988177  322896  1508211376302329 2017-10-17 03:36:16             2   \n",
              "2988178  322896  1508211376302329 2017-10-17 03:36:16             2   \n",
              "2988179  123718  1508211379189330 2017-10-17 03:36:19             2   \n",
              "2988180  123718  1508211379189330 2017-10-17 03:36:19             2   \n",
              "\n",
              "        article_id         click_timestamp article_category_id  \\\n",
              "0           157541 2017-10-01 03:00:28.020                 281   \n",
              "1            68866 2017-10-01 03:00:58.020                 136   \n",
              "2           235840 2017-10-01 03:03:37.951                 375   \n",
              "3            96663 2017-10-01 03:04:07.951                 209   \n",
              "4           119592 2017-10-01 03:04:50.575                 247   \n",
              "...            ...                     ...                 ...   \n",
              "2988176      84911 2017-10-17 03:39:17.302                 174   \n",
              "2988177      30760 2017-10-17 03:41:12.520                  26   \n",
              "2988178     157507 2017-10-17 03:41:42.520                 281   \n",
              "2988179     234481 2017-10-17 03:38:33.583                 375   \n",
              "2988180     233578 2017-10-17 03:39:03.583                 375   \n",
              "\n",
              "         article_words_count  article_created_at  \n",
              "0                        280 2017-09-30 19:41:58  \n",
              "1                        226 2017-10-01 00:08:02  \n",
              "2                        159 2017-09-30 21:43:59  \n",
              "3                        206 2017-09-30 16:13:45  \n",
              "4                        239 2017-09-30 15:11:56  \n",
              "...                      ...                 ...  \n",
              "2988176                  171 2017-10-16 21:00:19  \n",
              "2988177                  162 2017-10-16 20:18:11  \n",
              "2988178                  370 2017-10-17 10:42:25  \n",
              "2988179                  212 2017-10-16 19:19:32  \n",
              "2988180                  174 2017-10-16 17:46:50  \n",
              "\n",
              "[2976685 rows x 9 columns]"
            ],
            "text/html": [
              "<div>\n",
              "<style scoped>\n",
              "    .dataframe tbody tr th:only-of-type {\n",
              "        vertical-align: middle;\n",
              "    }\n",
              "\n",
              "    .dataframe tbody tr th {\n",
              "        vertical-align: top;\n",
              "    }\n",
              "\n",
              "    .dataframe thead th {\n",
              "        text-align: right;\n",
              "    }\n",
              "</style>\n",
              "<table border=\"1\" class=\"dataframe\">\n",
              "  <thead>\n",
              "    <tr style=\"text-align: right;\">\n",
              "      <th></th>\n",
              "      <th>user_id</th>\n",
              "      <th>session_id</th>\n",
              "      <th>session_start</th>\n",
              "      <th>session_size</th>\n",
              "      <th>article_id</th>\n",
              "      <th>click_timestamp</th>\n",
              "      <th>article_category_id</th>\n",
              "      <th>article_words_count</th>\n",
              "      <th>article_created_at</th>\n",
              "    </tr>\n",
              "  </thead>\n",
              "  <tbody>\n",
              "    <tr>\n",
              "      <th>0</th>\n",
              "      <td>0</td>\n",
              "      <td>1506825423271737</td>\n",
              "      <td>2017-10-01 02:37:03</td>\n",
              "      <td>2</td>\n",
              "      <td>157541</td>\n",
              "      <td>2017-10-01 03:00:28.020</td>\n",
              "      <td>281</td>\n",
              "      <td>280</td>\n",
              "      <td>2017-09-30 19:41:58</td>\n",
              "    </tr>\n",
              "    <tr>\n",
              "      <th>1</th>\n",
              "      <td>0</td>\n",
              "      <td>1506825423271737</td>\n",
              "      <td>2017-10-01 02:37:03</td>\n",
              "      <td>2</td>\n",
              "      <td>68866</td>\n",
              "      <td>2017-10-01 03:00:58.020</td>\n",
              "      <td>136</td>\n",
              "      <td>226</td>\n",
              "      <td>2017-10-01 00:08:02</td>\n",
              "    </tr>\n",
              "    <tr>\n",
              "      <th>2</th>\n",
              "      <td>1</td>\n",
              "      <td>1506825426267738</td>\n",
              "      <td>2017-10-01 02:37:06</td>\n",
              "      <td>2</td>\n",
              "      <td>235840</td>\n",
              "      <td>2017-10-01 03:03:37.951</td>\n",
              "      <td>375</td>\n",
              "      <td>159</td>\n",
              "      <td>2017-09-30 21:43:59</td>\n",
              "    </tr>\n",
              "    <tr>\n",
              "      <th>3</th>\n",
              "      <td>1</td>\n",
              "      <td>1506825426267738</td>\n",
              "      <td>2017-10-01 02:37:06</td>\n",
              "      <td>2</td>\n",
              "      <td>96663</td>\n",
              "      <td>2017-10-01 03:04:07.951</td>\n",
              "      <td>209</td>\n",
              "      <td>206</td>\n",
              "      <td>2017-09-30 16:13:45</td>\n",
              "    </tr>\n",
              "    <tr>\n",
              "      <th>4</th>\n",
              "      <td>2</td>\n",
              "      <td>1506825435299739</td>\n",
              "      <td>2017-10-01 02:37:15</td>\n",
              "      <td>2</td>\n",
              "      <td>119592</td>\n",
              "      <td>2017-10-01 03:04:50.575</td>\n",
              "      <td>247</td>\n",
              "      <td>239</td>\n",
              "      <td>2017-09-30 15:11:56</td>\n",
              "    </tr>\n",
              "    <tr>\n",
              "      <th>...</th>\n",
              "      <td>...</td>\n",
              "      <td>...</td>\n",
              "      <td>...</td>\n",
              "      <td>...</td>\n",
              "      <td>...</td>\n",
              "      <td>...</td>\n",
              "      <td>...</td>\n",
              "      <td>...</td>\n",
              "      <td>...</td>\n",
              "    </tr>\n",
              "    <tr>\n",
              "      <th>2988176</th>\n",
              "      <td>10051</td>\n",
              "      <td>1508211372158328</td>\n",
              "      <td>2017-10-17 03:36:12</td>\n",
              "      <td>2</td>\n",
              "      <td>84911</td>\n",
              "      <td>2017-10-17 03:39:17.302</td>\n",
              "      <td>174</td>\n",
              "      <td>171</td>\n",
              "      <td>2017-10-16 21:00:19</td>\n",
              "    </tr>\n",
              "    <tr>\n",
              "      <th>2988177</th>\n",
              "      <td>322896</td>\n",
              "      <td>1508211376302329</td>\n",
              "      <td>2017-10-17 03:36:16</td>\n",
              "      <td>2</td>\n",
              "      <td>30760</td>\n",
              "      <td>2017-10-17 03:41:12.520</td>\n",
              "      <td>26</td>\n",
              "      <td>162</td>\n",
              "      <td>2017-10-16 20:18:11</td>\n",
              "    </tr>\n",
              "    <tr>\n",
              "      <th>2988178</th>\n",
              "      <td>322896</td>\n",
              "      <td>1508211376302329</td>\n",
              "      <td>2017-10-17 03:36:16</td>\n",
              "      <td>2</td>\n",
              "      <td>157507</td>\n",
              "      <td>2017-10-17 03:41:42.520</td>\n",
              "      <td>281</td>\n",
              "      <td>370</td>\n",
              "      <td>2017-10-17 10:42:25</td>\n",
              "    </tr>\n",
              "    <tr>\n",
              "      <th>2988179</th>\n",
              "      <td>123718</td>\n",
              "      <td>1508211379189330</td>\n",
              "      <td>2017-10-17 03:36:19</td>\n",
              "      <td>2</td>\n",
              "      <td>234481</td>\n",
              "      <td>2017-10-17 03:38:33.583</td>\n",
              "      <td>375</td>\n",
              "      <td>212</td>\n",
              "      <td>2017-10-16 19:19:32</td>\n",
              "    </tr>\n",
              "    <tr>\n",
              "      <th>2988180</th>\n",
              "      <td>123718</td>\n",
              "      <td>1508211379189330</td>\n",
              "      <td>2017-10-17 03:36:19</td>\n",
              "      <td>2</td>\n",
              "      <td>233578</td>\n",
              "      <td>2017-10-17 03:39:03.583</td>\n",
              "      <td>375</td>\n",
              "      <td>174</td>\n",
              "      <td>2017-10-16 17:46:50</td>\n",
              "    </tr>\n",
              "  </tbody>\n",
              "</table>\n",
              "<p>2976685 rows × 9 columns</p>\n",
              "</div>"
            ]
          },
          "metadata": {},
          "execution_count": 141
        }
      ]
    },
    {
      "cell_type": "markdown",
      "source": [
        "De même, on peut considérer que les lignes consultant des articles à 0 mots ne sont également pas pertinentes pour comprendre les goûts des utilisateurs."
      ],
      "metadata": {
        "id": "BTEYsKTpa8h1"
      }
    },
    {
      "cell_type": "code",
      "source": [
        "article_empty = dfinal[dfinal['article_words_count'] == 0]\n",
        "print(f\"Nombre de lignes avec articles vides : {len(article_empty)}\")\n",
        "article_empty"
      ],
      "metadata": {
        "colab": {
          "base_uri": "https://localhost:8080/",
          "height": 441
        },
        "id": "7uxlzh4gcDXj",
        "outputId": "cea34d5c-ce5b-4473-a484-c52e6164855a"
      },
      "execution_count": 152,
      "outputs": [
        {
          "output_type": "stream",
          "name": "stdout",
          "text": [
            "Nombre de lignes avec articles vides : 64\n"
          ]
        },
        {
          "output_type": "execute_result",
          "data": {
            "text/plain": [
              "        user_id        session_id       session_start  session_size  \\\n",
              "40           16  1506825660149753 2017-10-01 02:41:00             7   \n",
              "7151       2621  1506848948202381 2017-10-01 09:09:08             3   \n",
              "9747       3559  1506852410644332 2017-10-01 10:06:50             2   \n",
              "10034      3654  1506852643582428 2017-10-01 10:10:43             2   \n",
              "13533      4925  1506855844127726 2017-10-01 11:04:04             5   \n",
              "...         ...               ...                 ...           ...   \n",
              "1165045  202366  1507299071590156 2017-10-06 14:11:11            22   \n",
              "1169593   15747  1507300634378688 2017-10-06 14:37:14             5   \n",
              "1180464  159029  1507304161117344 2017-10-06 15:36:01             2   \n",
              "1447217   93200  1507461447272644 2017-10-08 11:17:27             4   \n",
              "2705423  182137  1508058796712308 2017-10-15 09:13:16            12   \n",
              "\n",
              "        article_id         click_timestamp article_category_id  \\\n",
              "40          206233 2017-10-01 12:31:57.687                 331   \n",
              "7151        206233 2017-10-01 09:15:23.710                 331   \n",
              "9747        206233 2017-10-01 10:12:17.434                 331   \n",
              "10034       206233 2017-10-01 10:15:56.528                 331   \n",
              "13533       206233 2017-10-01 11:17:36.425                 331   \n",
              "...            ...                     ...                 ...   \n",
              "1165045     233934 2017-10-06 15:25:17.517                 375   \n",
              "1169593     233934 2017-10-06 14:55:55.023                 375   \n",
              "1180464     233934 2017-10-06 15:36:04.432                 375   \n",
              "1447217     315395 2017-10-08 12:11:45.854                 431   \n",
              "2705423      38472 2017-10-15 09:15:07.380                  51   \n",
              "\n",
              "         article_words_count  article_created_at  \n",
              "40                         0 2017-09-30 17:11:56  \n",
              "7151                       0 2017-09-30 17:11:56  \n",
              "9747                       0 2017-09-30 17:11:56  \n",
              "10034                      0 2017-09-30 17:11:56  \n",
              "13533                      0 2017-09-30 17:11:56  \n",
              "...                      ...                 ...  \n",
              "1165045                    0 2017-10-05 13:44:16  \n",
              "1169593                    0 2017-10-05 13:44:16  \n",
              "1180464                    0 2017-10-05 13:44:16  \n",
              "1447217                    0 2015-02-05 11:34:59  \n",
              "2705423                    0 2011-04-21 21:22:43  \n",
              "\n",
              "[64 rows x 9 columns]"
            ],
            "text/html": [
              "<div>\n",
              "<style scoped>\n",
              "    .dataframe tbody tr th:only-of-type {\n",
              "        vertical-align: middle;\n",
              "    }\n",
              "\n",
              "    .dataframe tbody tr th {\n",
              "        vertical-align: top;\n",
              "    }\n",
              "\n",
              "    .dataframe thead th {\n",
              "        text-align: right;\n",
              "    }\n",
              "</style>\n",
              "<table border=\"1\" class=\"dataframe\">\n",
              "  <thead>\n",
              "    <tr style=\"text-align: right;\">\n",
              "      <th></th>\n",
              "      <th>user_id</th>\n",
              "      <th>session_id</th>\n",
              "      <th>session_start</th>\n",
              "      <th>session_size</th>\n",
              "      <th>article_id</th>\n",
              "      <th>click_timestamp</th>\n",
              "      <th>article_category_id</th>\n",
              "      <th>article_words_count</th>\n",
              "      <th>article_created_at</th>\n",
              "    </tr>\n",
              "  </thead>\n",
              "  <tbody>\n",
              "    <tr>\n",
              "      <th>40</th>\n",
              "      <td>16</td>\n",
              "      <td>1506825660149753</td>\n",
              "      <td>2017-10-01 02:41:00</td>\n",
              "      <td>7</td>\n",
              "      <td>206233</td>\n",
              "      <td>2017-10-01 12:31:57.687</td>\n",
              "      <td>331</td>\n",
              "      <td>0</td>\n",
              "      <td>2017-09-30 17:11:56</td>\n",
              "    </tr>\n",
              "    <tr>\n",
              "      <th>7151</th>\n",
              "      <td>2621</td>\n",
              "      <td>1506848948202381</td>\n",
              "      <td>2017-10-01 09:09:08</td>\n",
              "      <td>3</td>\n",
              "      <td>206233</td>\n",
              "      <td>2017-10-01 09:15:23.710</td>\n",
              "      <td>331</td>\n",
              "      <td>0</td>\n",
              "      <td>2017-09-30 17:11:56</td>\n",
              "    </tr>\n",
              "    <tr>\n",
              "      <th>9747</th>\n",
              "      <td>3559</td>\n",
              "      <td>1506852410644332</td>\n",
              "      <td>2017-10-01 10:06:50</td>\n",
              "      <td>2</td>\n",
              "      <td>206233</td>\n",
              "      <td>2017-10-01 10:12:17.434</td>\n",
              "      <td>331</td>\n",
              "      <td>0</td>\n",
              "      <td>2017-09-30 17:11:56</td>\n",
              "    </tr>\n",
              "    <tr>\n",
              "      <th>10034</th>\n",
              "      <td>3654</td>\n",
              "      <td>1506852643582428</td>\n",
              "      <td>2017-10-01 10:10:43</td>\n",
              "      <td>2</td>\n",
              "      <td>206233</td>\n",
              "      <td>2017-10-01 10:15:56.528</td>\n",
              "      <td>331</td>\n",
              "      <td>0</td>\n",
              "      <td>2017-09-30 17:11:56</td>\n",
              "    </tr>\n",
              "    <tr>\n",
              "      <th>13533</th>\n",
              "      <td>4925</td>\n",
              "      <td>1506855844127726</td>\n",
              "      <td>2017-10-01 11:04:04</td>\n",
              "      <td>5</td>\n",
              "      <td>206233</td>\n",
              "      <td>2017-10-01 11:17:36.425</td>\n",
              "      <td>331</td>\n",
              "      <td>0</td>\n",
              "      <td>2017-09-30 17:11:56</td>\n",
              "    </tr>\n",
              "    <tr>\n",
              "      <th>...</th>\n",
              "      <td>...</td>\n",
              "      <td>...</td>\n",
              "      <td>...</td>\n",
              "      <td>...</td>\n",
              "      <td>...</td>\n",
              "      <td>...</td>\n",
              "      <td>...</td>\n",
              "      <td>...</td>\n",
              "      <td>...</td>\n",
              "    </tr>\n",
              "    <tr>\n",
              "      <th>1165045</th>\n",
              "      <td>202366</td>\n",
              "      <td>1507299071590156</td>\n",
              "      <td>2017-10-06 14:11:11</td>\n",
              "      <td>22</td>\n",
              "      <td>233934</td>\n",
              "      <td>2017-10-06 15:25:17.517</td>\n",
              "      <td>375</td>\n",
              "      <td>0</td>\n",
              "      <td>2017-10-05 13:44:16</td>\n",
              "    </tr>\n",
              "    <tr>\n",
              "      <th>1169593</th>\n",
              "      <td>15747</td>\n",
              "      <td>1507300634378688</td>\n",
              "      <td>2017-10-06 14:37:14</td>\n",
              "      <td>5</td>\n",
              "      <td>233934</td>\n",
              "      <td>2017-10-06 14:55:55.023</td>\n",
              "      <td>375</td>\n",
              "      <td>0</td>\n",
              "      <td>2017-10-05 13:44:16</td>\n",
              "    </tr>\n",
              "    <tr>\n",
              "      <th>1180464</th>\n",
              "      <td>159029</td>\n",
              "      <td>1507304161117344</td>\n",
              "      <td>2017-10-06 15:36:01</td>\n",
              "      <td>2</td>\n",
              "      <td>233934</td>\n",
              "      <td>2017-10-06 15:36:04.432</td>\n",
              "      <td>375</td>\n",
              "      <td>0</td>\n",
              "      <td>2017-10-05 13:44:16</td>\n",
              "    </tr>\n",
              "    <tr>\n",
              "      <th>1447217</th>\n",
              "      <td>93200</td>\n",
              "      <td>1507461447272644</td>\n",
              "      <td>2017-10-08 11:17:27</td>\n",
              "      <td>4</td>\n",
              "      <td>315395</td>\n",
              "      <td>2017-10-08 12:11:45.854</td>\n",
              "      <td>431</td>\n",
              "      <td>0</td>\n",
              "      <td>2015-02-05 11:34:59</td>\n",
              "    </tr>\n",
              "    <tr>\n",
              "      <th>2705423</th>\n",
              "      <td>182137</td>\n",
              "      <td>1508058796712308</td>\n",
              "      <td>2017-10-15 09:13:16</td>\n",
              "      <td>12</td>\n",
              "      <td>38472</td>\n",
              "      <td>2017-10-15 09:15:07.380</td>\n",
              "      <td>51</td>\n",
              "      <td>0</td>\n",
              "      <td>2011-04-21 21:22:43</td>\n",
              "    </tr>\n",
              "  </tbody>\n",
              "</table>\n",
              "<p>64 rows × 9 columns</p>\n",
              "</div>"
            ]
          },
          "metadata": {},
          "execution_count": 152
        }
      ]
    },
    {
      "cell_type": "code",
      "source": [
        "# dfinal = dfinal.drop(dfinal[dfinal['article_words_count'] == 0].index)\n",
        "# dfinal"
      ],
      "metadata": {
        "colab": {
          "base_uri": "https://localhost:8080/",
          "height": 424
        },
        "id": "R8NrUvJcbMD0",
        "outputId": "86d98f3e-b4b6-49f3-f047-5698881b5990"
      },
      "execution_count": 185,
      "outputs": [
        {
          "output_type": "execute_result",
          "data": {
            "text/plain": [
              "        user_id        session_id       session_start  session_size  \\\n",
              "40           16  1506825660149753 2017-10-01 02:41:00             7   \n",
              "7151       2621  1506848948202381 2017-10-01 09:09:08             3   \n",
              "9747       3559  1506852410644332 2017-10-01 10:06:50             2   \n",
              "10034      3654  1506852643582428 2017-10-01 10:10:43             2   \n",
              "13533      4925  1506855844127726 2017-10-01 11:04:04             5   \n",
              "...         ...               ...                 ...           ...   \n",
              "1165045  202366  1507299071590156 2017-10-06 14:11:11            22   \n",
              "1169593   15747  1507300634378688 2017-10-06 14:37:14             5   \n",
              "1180464  159029  1507304161117344 2017-10-06 15:36:01             2   \n",
              "1447217   93200  1507461447272644 2017-10-08 11:17:27             4   \n",
              "2705423  182137  1508058796712308 2017-10-15 09:13:16            12   \n",
              "\n",
              "        article_id         click_timestamp article_category_id  \\\n",
              "40          206233 2017-10-01 12:31:57.687                 331   \n",
              "7151        206233 2017-10-01 09:15:23.710                 331   \n",
              "9747        206233 2017-10-01 10:12:17.434                 331   \n",
              "10034       206233 2017-10-01 10:15:56.528                 331   \n",
              "13533       206233 2017-10-01 11:17:36.425                 331   \n",
              "...            ...                     ...                 ...   \n",
              "1165045     233934 2017-10-06 15:25:17.517                 375   \n",
              "1169593     233934 2017-10-06 14:55:55.023                 375   \n",
              "1180464     233934 2017-10-06 15:36:04.432                 375   \n",
              "1447217     315395 2017-10-08 12:11:45.854                 431   \n",
              "2705423      38472 2017-10-15 09:15:07.380                  51   \n",
              "\n",
              "         article_words_count  article_created_at  \n",
              "40                         0 2017-09-30 17:11:56  \n",
              "7151                       0 2017-09-30 17:11:56  \n",
              "9747                       0 2017-09-30 17:11:56  \n",
              "10034                      0 2017-09-30 17:11:56  \n",
              "13533                      0 2017-09-30 17:11:56  \n",
              "...                      ...                 ...  \n",
              "1165045                    0 2017-10-05 13:44:16  \n",
              "1169593                    0 2017-10-05 13:44:16  \n",
              "1180464                    0 2017-10-05 13:44:16  \n",
              "1447217                    0 2015-02-05 11:34:59  \n",
              "2705423                    0 2011-04-21 21:22:43  \n",
              "\n",
              "[64 rows x 9 columns]"
            ],
            "text/html": [
              "<div>\n",
              "<style scoped>\n",
              "    .dataframe tbody tr th:only-of-type {\n",
              "        vertical-align: middle;\n",
              "    }\n",
              "\n",
              "    .dataframe tbody tr th {\n",
              "        vertical-align: top;\n",
              "    }\n",
              "\n",
              "    .dataframe thead th {\n",
              "        text-align: right;\n",
              "    }\n",
              "</style>\n",
              "<table border=\"1\" class=\"dataframe\">\n",
              "  <thead>\n",
              "    <tr style=\"text-align: right;\">\n",
              "      <th></th>\n",
              "      <th>user_id</th>\n",
              "      <th>session_id</th>\n",
              "      <th>session_start</th>\n",
              "      <th>session_size</th>\n",
              "      <th>article_id</th>\n",
              "      <th>click_timestamp</th>\n",
              "      <th>article_category_id</th>\n",
              "      <th>article_words_count</th>\n",
              "      <th>article_created_at</th>\n",
              "    </tr>\n",
              "  </thead>\n",
              "  <tbody>\n",
              "    <tr>\n",
              "      <th>40</th>\n",
              "      <td>16</td>\n",
              "      <td>1506825660149753</td>\n",
              "      <td>2017-10-01 02:41:00</td>\n",
              "      <td>7</td>\n",
              "      <td>206233</td>\n",
              "      <td>2017-10-01 12:31:57.687</td>\n",
              "      <td>331</td>\n",
              "      <td>0</td>\n",
              "      <td>2017-09-30 17:11:56</td>\n",
              "    </tr>\n",
              "    <tr>\n",
              "      <th>7151</th>\n",
              "      <td>2621</td>\n",
              "      <td>1506848948202381</td>\n",
              "      <td>2017-10-01 09:09:08</td>\n",
              "      <td>3</td>\n",
              "      <td>206233</td>\n",
              "      <td>2017-10-01 09:15:23.710</td>\n",
              "      <td>331</td>\n",
              "      <td>0</td>\n",
              "      <td>2017-09-30 17:11:56</td>\n",
              "    </tr>\n",
              "    <tr>\n",
              "      <th>9747</th>\n",
              "      <td>3559</td>\n",
              "      <td>1506852410644332</td>\n",
              "      <td>2017-10-01 10:06:50</td>\n",
              "      <td>2</td>\n",
              "      <td>206233</td>\n",
              "      <td>2017-10-01 10:12:17.434</td>\n",
              "      <td>331</td>\n",
              "      <td>0</td>\n",
              "      <td>2017-09-30 17:11:56</td>\n",
              "    </tr>\n",
              "    <tr>\n",
              "      <th>10034</th>\n",
              "      <td>3654</td>\n",
              "      <td>1506852643582428</td>\n",
              "      <td>2017-10-01 10:10:43</td>\n",
              "      <td>2</td>\n",
              "      <td>206233</td>\n",
              "      <td>2017-10-01 10:15:56.528</td>\n",
              "      <td>331</td>\n",
              "      <td>0</td>\n",
              "      <td>2017-09-30 17:11:56</td>\n",
              "    </tr>\n",
              "    <tr>\n",
              "      <th>13533</th>\n",
              "      <td>4925</td>\n",
              "      <td>1506855844127726</td>\n",
              "      <td>2017-10-01 11:04:04</td>\n",
              "      <td>5</td>\n",
              "      <td>206233</td>\n",
              "      <td>2017-10-01 11:17:36.425</td>\n",
              "      <td>331</td>\n",
              "      <td>0</td>\n",
              "      <td>2017-09-30 17:11:56</td>\n",
              "    </tr>\n",
              "    <tr>\n",
              "      <th>...</th>\n",
              "      <td>...</td>\n",
              "      <td>...</td>\n",
              "      <td>...</td>\n",
              "      <td>...</td>\n",
              "      <td>...</td>\n",
              "      <td>...</td>\n",
              "      <td>...</td>\n",
              "      <td>...</td>\n",
              "      <td>...</td>\n",
              "    </tr>\n",
              "    <tr>\n",
              "      <th>1165045</th>\n",
              "      <td>202366</td>\n",
              "      <td>1507299071590156</td>\n",
              "      <td>2017-10-06 14:11:11</td>\n",
              "      <td>22</td>\n",
              "      <td>233934</td>\n",
              "      <td>2017-10-06 15:25:17.517</td>\n",
              "      <td>375</td>\n",
              "      <td>0</td>\n",
              "      <td>2017-10-05 13:44:16</td>\n",
              "    </tr>\n",
              "    <tr>\n",
              "      <th>1169593</th>\n",
              "      <td>15747</td>\n",
              "      <td>1507300634378688</td>\n",
              "      <td>2017-10-06 14:37:14</td>\n",
              "      <td>5</td>\n",
              "      <td>233934</td>\n",
              "      <td>2017-10-06 14:55:55.023</td>\n",
              "      <td>375</td>\n",
              "      <td>0</td>\n",
              "      <td>2017-10-05 13:44:16</td>\n",
              "    </tr>\n",
              "    <tr>\n",
              "      <th>1180464</th>\n",
              "      <td>159029</td>\n",
              "      <td>1507304161117344</td>\n",
              "      <td>2017-10-06 15:36:01</td>\n",
              "      <td>2</td>\n",
              "      <td>233934</td>\n",
              "      <td>2017-10-06 15:36:04.432</td>\n",
              "      <td>375</td>\n",
              "      <td>0</td>\n",
              "      <td>2017-10-05 13:44:16</td>\n",
              "    </tr>\n",
              "    <tr>\n",
              "      <th>1447217</th>\n",
              "      <td>93200</td>\n",
              "      <td>1507461447272644</td>\n",
              "      <td>2017-10-08 11:17:27</td>\n",
              "      <td>4</td>\n",
              "      <td>315395</td>\n",
              "      <td>2017-10-08 12:11:45.854</td>\n",
              "      <td>431</td>\n",
              "      <td>0</td>\n",
              "      <td>2015-02-05 11:34:59</td>\n",
              "    </tr>\n",
              "    <tr>\n",
              "      <th>2705423</th>\n",
              "      <td>182137</td>\n",
              "      <td>1508058796712308</td>\n",
              "      <td>2017-10-15 09:13:16</td>\n",
              "      <td>12</td>\n",
              "      <td>38472</td>\n",
              "      <td>2017-10-15 09:15:07.380</td>\n",
              "      <td>51</td>\n",
              "      <td>0</td>\n",
              "      <td>2011-04-21 21:22:43</td>\n",
              "    </tr>\n",
              "  </tbody>\n",
              "</table>\n",
              "<p>64 rows × 9 columns</p>\n",
              "</div>"
            ]
          },
          "metadata": {},
          "execution_count": 185
        }
      ]
    },
    {
      "cell_type": "code",
      "source": [
        "dfinal.describe(include='all')"
      ],
      "metadata": {
        "colab": {
          "base_uri": "https://localhost:8080/",
          "height": 394
        },
        "id": "lRUCQI_CWH39",
        "outputId": "5bcd593f-5531-498f-fb00-27c3c1b73db0"
      },
      "execution_count": 144,
      "outputs": [
        {
          "output_type": "execute_result",
          "data": {
            "text/plain": [
              "        user_id        session_id                  session_start  \\\n",
              "count   2976685           2976685                        2976685   \n",
              "unique   322627           1047009                            NaN   \n",
              "top        5890  1507563657895091                            NaN   \n",
              "freq       1232               124                            NaN   \n",
              "mean        NaN               NaN  2017-10-08 14:18:09.318302720   \n",
              "min         NaN               NaN            2017-10-01 02:37:03   \n",
              "25%         NaN               NaN            2017-10-04 13:37:08   \n",
              "50%         NaN               NaN            2017-10-08 20:10:05   \n",
              "75%         NaN               NaN            2017-10-11 19:17:40   \n",
              "max         NaN               NaN            2017-10-17 03:36:19   \n",
              "std         NaN               NaN                            NaN   \n",
              "\n",
              "        session_size article_id                click_timestamp  \\\n",
              "count   2.976685e+06    2976685                        2976685   \n",
              "unique           NaN      45547                            NaN   \n",
              "top              NaN     160974                            NaN   \n",
              "freq             NaN      37140                            NaN   \n",
              "mean    3.859781e+00        NaN  2017-10-08 14:41:46.420856576   \n",
              "min     2.000000e+00        NaN     2017-10-01 03:00:00.026000   \n",
              "25%     2.000000e+00        NaN  2017-10-04 14:16:11.108999936   \n",
              "50%     3.000000e+00        NaN  2017-10-08 20:24:59.169999872   \n",
              "75%     4.000000e+00        NaN  2017-10-11 19:40:34.022000128   \n",
              "max     1.240000e+02        NaN     2017-10-18 00:59:45.692000   \n",
              "std     3.743679e+00        NaN                            NaN   \n",
              "\n",
              "       article_category_id  article_words_count             article_created_at  \n",
              "count              2976685         2.976685e+06                        2976685  \n",
              "unique                 315                  NaN                            NaN  \n",
              "top                    281                  NaN                            NaN  \n",
              "freq                369492                  NaN                            NaN  \n",
              "mean                   NaN         2.086449e+02  2017-09-30 05:38:21.842800128  \n",
              "min                    NaN         0.000000e+00            2006-12-20 00:00:00  \n",
              "25%                    NaN         1.730000e+02            2017-10-03 17:41:21  \n",
              "50%                    NaN         1.980000e+02            2017-10-07 18:17:39  \n",
              "75%                    NaN         2.320000e+02            2017-10-11 09:52:04  \n",
              "max                    NaN         6.690000e+03            2017-11-06 06:20:18  \n",
              "std                    NaN         8.167375e+01                            NaN  "
            ],
            "text/html": [
              "<div>\n",
              "<style scoped>\n",
              "    .dataframe tbody tr th:only-of-type {\n",
              "        vertical-align: middle;\n",
              "    }\n",
              "\n",
              "    .dataframe tbody tr th {\n",
              "        vertical-align: top;\n",
              "    }\n",
              "\n",
              "    .dataframe thead th {\n",
              "        text-align: right;\n",
              "    }\n",
              "</style>\n",
              "<table border=\"1\" class=\"dataframe\">\n",
              "  <thead>\n",
              "    <tr style=\"text-align: right;\">\n",
              "      <th></th>\n",
              "      <th>user_id</th>\n",
              "      <th>session_id</th>\n",
              "      <th>session_start</th>\n",
              "      <th>session_size</th>\n",
              "      <th>article_id</th>\n",
              "      <th>click_timestamp</th>\n",
              "      <th>article_category_id</th>\n",
              "      <th>article_words_count</th>\n",
              "      <th>article_created_at</th>\n",
              "    </tr>\n",
              "  </thead>\n",
              "  <tbody>\n",
              "    <tr>\n",
              "      <th>count</th>\n",
              "      <td>2976685</td>\n",
              "      <td>2976685</td>\n",
              "      <td>2976685</td>\n",
              "      <td>2.976685e+06</td>\n",
              "      <td>2976685</td>\n",
              "      <td>2976685</td>\n",
              "      <td>2976685</td>\n",
              "      <td>2.976685e+06</td>\n",
              "      <td>2976685</td>\n",
              "    </tr>\n",
              "    <tr>\n",
              "      <th>unique</th>\n",
              "      <td>322627</td>\n",
              "      <td>1047009</td>\n",
              "      <td>NaN</td>\n",
              "      <td>NaN</td>\n",
              "      <td>45547</td>\n",
              "      <td>NaN</td>\n",
              "      <td>315</td>\n",
              "      <td>NaN</td>\n",
              "      <td>NaN</td>\n",
              "    </tr>\n",
              "    <tr>\n",
              "      <th>top</th>\n",
              "      <td>5890</td>\n",
              "      <td>1507563657895091</td>\n",
              "      <td>NaN</td>\n",
              "      <td>NaN</td>\n",
              "      <td>160974</td>\n",
              "      <td>NaN</td>\n",
              "      <td>281</td>\n",
              "      <td>NaN</td>\n",
              "      <td>NaN</td>\n",
              "    </tr>\n",
              "    <tr>\n",
              "      <th>freq</th>\n",
              "      <td>1232</td>\n",
              "      <td>124</td>\n",
              "      <td>NaN</td>\n",
              "      <td>NaN</td>\n",
              "      <td>37140</td>\n",
              "      <td>NaN</td>\n",
              "      <td>369492</td>\n",
              "      <td>NaN</td>\n",
              "      <td>NaN</td>\n",
              "    </tr>\n",
              "    <tr>\n",
              "      <th>mean</th>\n",
              "      <td>NaN</td>\n",
              "      <td>NaN</td>\n",
              "      <td>2017-10-08 14:18:09.318302720</td>\n",
              "      <td>3.859781e+00</td>\n",
              "      <td>NaN</td>\n",
              "      <td>2017-10-08 14:41:46.420856576</td>\n",
              "      <td>NaN</td>\n",
              "      <td>2.086449e+02</td>\n",
              "      <td>2017-09-30 05:38:21.842800128</td>\n",
              "    </tr>\n",
              "    <tr>\n",
              "      <th>min</th>\n",
              "      <td>NaN</td>\n",
              "      <td>NaN</td>\n",
              "      <td>2017-10-01 02:37:03</td>\n",
              "      <td>2.000000e+00</td>\n",
              "      <td>NaN</td>\n",
              "      <td>2017-10-01 03:00:00.026000</td>\n",
              "      <td>NaN</td>\n",
              "      <td>0.000000e+00</td>\n",
              "      <td>2006-12-20 00:00:00</td>\n",
              "    </tr>\n",
              "    <tr>\n",
              "      <th>25%</th>\n",
              "      <td>NaN</td>\n",
              "      <td>NaN</td>\n",
              "      <td>2017-10-04 13:37:08</td>\n",
              "      <td>2.000000e+00</td>\n",
              "      <td>NaN</td>\n",
              "      <td>2017-10-04 14:16:11.108999936</td>\n",
              "      <td>NaN</td>\n",
              "      <td>1.730000e+02</td>\n",
              "      <td>2017-10-03 17:41:21</td>\n",
              "    </tr>\n",
              "    <tr>\n",
              "      <th>50%</th>\n",
              "      <td>NaN</td>\n",
              "      <td>NaN</td>\n",
              "      <td>2017-10-08 20:10:05</td>\n",
              "      <td>3.000000e+00</td>\n",
              "      <td>NaN</td>\n",
              "      <td>2017-10-08 20:24:59.169999872</td>\n",
              "      <td>NaN</td>\n",
              "      <td>1.980000e+02</td>\n",
              "      <td>2017-10-07 18:17:39</td>\n",
              "    </tr>\n",
              "    <tr>\n",
              "      <th>75%</th>\n",
              "      <td>NaN</td>\n",
              "      <td>NaN</td>\n",
              "      <td>2017-10-11 19:17:40</td>\n",
              "      <td>4.000000e+00</td>\n",
              "      <td>NaN</td>\n",
              "      <td>2017-10-11 19:40:34.022000128</td>\n",
              "      <td>NaN</td>\n",
              "      <td>2.320000e+02</td>\n",
              "      <td>2017-10-11 09:52:04</td>\n",
              "    </tr>\n",
              "    <tr>\n",
              "      <th>max</th>\n",
              "      <td>NaN</td>\n",
              "      <td>NaN</td>\n",
              "      <td>2017-10-17 03:36:19</td>\n",
              "      <td>1.240000e+02</td>\n",
              "      <td>NaN</td>\n",
              "      <td>2017-10-18 00:59:45.692000</td>\n",
              "      <td>NaN</td>\n",
              "      <td>6.690000e+03</td>\n",
              "      <td>2017-11-06 06:20:18</td>\n",
              "    </tr>\n",
              "    <tr>\n",
              "      <th>std</th>\n",
              "      <td>NaN</td>\n",
              "      <td>NaN</td>\n",
              "      <td>NaN</td>\n",
              "      <td>3.743679e+00</td>\n",
              "      <td>NaN</td>\n",
              "      <td>NaN</td>\n",
              "      <td>NaN</td>\n",
              "      <td>8.167375e+01</td>\n",
              "      <td>NaN</td>\n",
              "    </tr>\n",
              "  </tbody>\n",
              "</table>\n",
              "</div>"
            ]
          },
          "metadata": {},
          "execution_count": 144
        }
      ]
    },
    {
      "cell_type": "markdown",
      "source": [
        "Notre dataframe final contient 2976685 lignes de clics, de 322627 utilisateurs et de leurs 1047009 sessions.\n",
        "\n",
        "Le nombre moyen de clics par session, portés par la colonne \"session_size\",  est de 3.9 clicls avec un minimum de 2 et un maximum de 124.\n",
        "\n",
        "Les utilisateurs ont cliqués sur 45547 articles différents appartenant à 315 catégories différentes.\n",
        "\n",
        "Le nombre moyen de mots des articles consultés est d'environ 209 mots avec un minimum de 0 et un maximum de 6690.\n",
        "\n",
        "## Analyse exploratoire univariée :\n",
        "\n",
        "Les variables catégorielles sont des identifiants qui ont trop de valeurs pour qu'elles soient pertinentes à analyser.\n",
        "\n",
        "### Session_start"
      ],
      "metadata": {
        "id": "krkxV2rhZB3X"
      }
    },
    {
      "cell_type": "code",
      "source": [
        "session_per_day = dfinal['session_start'].dt.date.value_counts().sort_index()\n",
        "session_per_day.plot(figsize=(12,5),kind='bar', title=\"Volume de sessions par jour\")"
      ],
      "metadata": {
        "colab": {
          "base_uri": "https://localhost:8080/",
          "height": 571
        },
        "id": "W6qmUWb7XmwD",
        "outputId": "c5a1ef2a-e496-4a50-ebd0-545638768edf"
      },
      "execution_count": 153,
      "outputs": [
        {
          "output_type": "execute_result",
          "data": {
            "text/plain": [
              "<Axes: title={'center': 'Volume de sessions par jour'}, xlabel='session_start'>"
            ]
          },
          "metadata": {},
          "execution_count": 153
        },
        {
          "output_type": "display_data",
          "data": {
            "text/plain": [
              "<Figure size 1200x500 with 1 Axes>"
            ],
            "image/png": "[encoded data removed]"
          },
          "metadata": {}
        }
      ]
    },
    {
      "cell_type": "code",
      "source": [
        "session_per_number_day = dfinal['session_start'].dt.day_name()\n",
        "session_per_number_day.value_counts().reindex(['Monday','Tuesday','Wednesday','Thursday','Friday','Saturday','Sunday']).plot(kind='bar', title=\"Sessions par jour de la semaine\")"
      ],
      "metadata": {
        "colab": {
          "base_uri": "https://localhost:8080/",
          "height": 555
        },
        "id": "QWWgtlSIUXUj",
        "outputId": "760d1b44-64d3-4de4-a3a5-a310db0b7af3"
      },
      "execution_count": 154,
      "outputs": [
        {
          "output_type": "execute_result",
          "data": {
            "text/plain": [
              "<Axes: title={'center': 'Sessions par jour de la semaine'}, xlabel='session_start'>"
            ]
          },
          "metadata": {},
          "execution_count": 154
        },
        {
          "output_type": "display_data",
          "data": {
            "text/plain": [
              "<Figure size 640x480 with 1 Axes>"
            ],
            "image/png": "[encoded data removed]"
          },
          "metadata": {}
        }
      ]
    },
    {
      "cell_type": "code",
      "source": [
        "session_per_hour = dfinal['session_start'].dt.hour\n",
        "dfinal['session_start'].dt.hour.value_counts().sort_index().plot(kind='bar', title=\"Sessions par heure du jour\")"
      ],
      "metadata": {
        "colab": {
          "base_uri": "https://localhost:8080/",
          "height": 493
        },
        "id": "GVsjGQWOXSeG",
        "outputId": "80c432e4-c968-4f9d-dac3-28837bad6e05"
      },
      "execution_count": 159,
      "outputs": [
        {
          "output_type": "execute_result",
          "data": {
            "text/plain": [
              "<Axes: title={'center': 'Sessions par heure du jour'}, xlabel='session_start'>"
            ]
          },
          "metadata": {},
          "execution_count": 159
        },
        {
          "output_type": "display_data",
          "data": {
            "text/plain": [
              "<Figure size 640x480 with 1 Axes>"
            ],
            "image/png": "[encoded data removed]"
          },
          "metadata": {}
        }
      ]
    },
    {
      "cell_type": "markdown",
      "source": [
        "Nous avons les sessions des 17 premiers jours du mois d'octobre 2017. Le nombre de sessions par jour est plutôt fluctuant mais on peut voir qu'il y a moins de sessions ouvertes le week-end.\n",
        "\n",
        "Il y a également moins d'ouverture de sessions entre 2 heures et 10 heures.\n",
        "\n",
        "### Click_timestamp"
      ],
      "metadata": {
        "id": "ifr6ZlSVBTJO"
      }
    },
    {
      "cell_type": "code",
      "source": [
        "clic_per_day = dfinal['click_timestamp'].dt.date.value_counts().sort_index()\n",
        "clic_per_day.plot(figsize=(12,5),kind='bar', title=\"Volume de clics par jour\")"
      ],
      "metadata": {
        "colab": {
          "base_uri": "https://localhost:8080/",
          "height": 571
        },
        "id": "I49deuGnUadp",
        "outputId": "15684d9b-d759-418e-e37b-b99a3ec13f6b"
      },
      "execution_count": 156,
      "outputs": [
        {
          "output_type": "execute_result",
          "data": {
            "text/plain": [
              "<Axes: title={'center': 'Volume de clics par jour'}, xlabel='click_timestamp'>"
            ]
          },
          "metadata": {},
          "execution_count": 156
        },
        {
          "output_type": "display_data",
          "data": {
            "text/plain": [
              "<Figure size 1200x500 with 1 Axes>"
            ],
            "image/png": "[encoded data removed]"
          },
          "metadata": {}
        }
      ]
    },
    {
      "cell_type": "code",
      "source": [
        "clic_per_number_day = dfinal['click_timestamp'].dt.day_name()\n",
        "clic_per_number_day.value_counts().reindex(['Monday','Tuesday','Wednesday','Thursday','Friday','Saturday','Sunday']).plot(kind='bar', title=\"Clics par jour de la semaine\")"
      ],
      "metadata": {
        "colab": {
          "base_uri": "https://localhost:8080/",
          "height": 555
        },
        "id": "I5RmlT99O-dv",
        "outputId": "f2e35779-e361-4af1-ba58-c8e7e2e073fd"
      },
      "execution_count": 158,
      "outputs": [
        {
          "output_type": "execute_result",
          "data": {
            "text/plain": [
              "<Axes: title={'center': 'Clics par jour de la semaine'}, xlabel='click_timestamp'>"
            ]
          },
          "metadata": {},
          "execution_count": 158
        },
        {
          "output_type": "display_data",
          "data": {
            "text/plain": [
              "<Figure size 640x480 with 1 Axes>"
            ],
            "image/png": "[encoded data removed]"
          },
          "metadata": {}
        }
      ]
    },
    {
      "cell_type": "code",
      "source": [
        "clic_per_hour = dfinal['click_timestamp'].dt.hour\n",
        "dfinal['click_timestamp'].dt.hour.value_counts().sort_index().plot(kind='bar', title=\"Clics par heure du jour\")"
      ],
      "metadata": {
        "colab": {
          "base_uri": "https://localhost:8080/",
          "height": 493
        },
        "id": "eZvvcNponb6z",
        "outputId": "e6e02ce9-f9e2-4de5-a2ce-d715d77c4c94"
      },
      "execution_count": 161,
      "outputs": [
        {
          "output_type": "execute_result",
          "data": {
            "text/plain": [
              "<Axes: title={'center': 'Clics par heure du jour'}, xlabel='click_timestamp'>"
            ]
          },
          "metadata": {},
          "execution_count": 161
        },
        {
          "output_type": "display_data",
          "data": {
            "text/plain": [
              "<Figure size 640x480 with 1 Axes>"
            ],
            "image/png": "[encoded data removed]"
          },
          "metadata": {}
        }
      ]
    },
    {
      "cell_type": "markdown",
      "source": [
        "On a les mêmes distributions pour les clics que pour les sessions ce qui est logique.\n",
        "\n",
        "### Article_created_at"
      ],
      "metadata": {
        "id": "AJxJ0-TMnzGe"
      }
    },
    {
      "cell_type": "code",
      "source": [
        "df_creation_article = pd.DataFrame()\n",
        "df_creation_article['mois'] = dfinal['article_created_at'].dt.month.astype(str)\n",
        "df_creation_article['annee'] = dfinal['article_created_at'].dt.year.astype(str)\n",
        "df_creation_article['mois_annee'] = df_creation_article['mois'].str.cat(df_creation_article['annee'] , sep='-')\n",
        "df_creation_article"
      ],
      "metadata": {
        "colab": {
          "base_uri": "https://localhost:8080/",
          "height": 424
        },
        "id": "1WHt3eHJs9JM",
        "outputId": "837a9972-7563-40da-d370-7a0945352943"
      },
      "execution_count": 177,
      "outputs": [
        {
          "output_type": "execute_result",
          "data": {
            "text/plain": [
              "        mois annee mois_annee\n",
              "0          9  2017     9-2017\n",
              "1         10  2017    10-2017\n",
              "2          9  2017     9-2017\n",
              "3          9  2017     9-2017\n",
              "4          9  2017     9-2017\n",
              "...      ...   ...        ...\n",
              "2988176   10  2017    10-2017\n",
              "2988177   10  2017    10-2017\n",
              "2988178   10  2017    10-2017\n",
              "2988179   10  2017    10-2017\n",
              "2988180   10  2017    10-2017\n",
              "\n",
              "[2976685 rows x 3 columns]"
            ],
            "text/html": [
              "<div>\n",
              "<style scoped>\n",
              "    .dataframe tbody tr th:only-of-type {\n",
              "        vertical-align: middle;\n",
              "    }\n",
              "\n",
              "    .dataframe tbody tr th {\n",
              "        vertical-align: top;\n",
              "    }\n",
              "\n",
              "    .dataframe thead th {\n",
              "        text-align: right;\n",
              "    }\n",
              "</style>\n",
              "<table border=\"1\" class=\"dataframe\">\n",
              "  <thead>\n",
              "    <tr style=\"text-align: right;\">\n",
              "      <th></th>\n",
              "      <th>mois</th>\n",
              "      <th>annee</th>\n",
              "      <th>mois_annee</th>\n",
              "    </tr>\n",
              "  </thead>\n",
              "  <tbody>\n",
              "    <tr>\n",
              "      <th>0</th>\n",
              "      <td>9</td>\n",
              "      <td>2017</td>\n",
              "      <td>9-2017</td>\n",
              "    </tr>\n",
              "    <tr>\n",
              "      <th>1</th>\n",
              "      <td>10</td>\n",
              "      <td>2017</td>\n",
              "      <td>10-2017</td>\n",
              "    </tr>\n",
              "    <tr>\n",
              "      <th>2</th>\n",
              "      <td>9</td>\n",
              "      <td>2017</td>\n",
              "      <td>9-2017</td>\n",
              "    </tr>\n",
              "    <tr>\n",
              "      <th>3</th>\n",
              "      <td>9</td>\n",
              "      <td>2017</td>\n",
              "      <td>9-2017</td>\n",
              "    </tr>\n",
              "    <tr>\n",
              "      <th>4</th>\n",
              "      <td>9</td>\n",
              "      <td>2017</td>\n",
              "      <td>9-2017</td>\n",
              "    </tr>\n",
              "    <tr>\n",
              "      <th>...</th>\n",
              "      <td>...</td>\n",
              "      <td>...</td>\n",
              "      <td>...</td>\n",
              "    </tr>\n",
              "    <tr>\n",
              "      <th>2988176</th>\n",
              "      <td>10</td>\n",
              "      <td>2017</td>\n",
              "      <td>10-2017</td>\n",
              "    </tr>\n",
              "    <tr>\n",
              "      <th>2988177</th>\n",
              "      <td>10</td>\n",
              "      <td>2017</td>\n",
              "      <td>10-2017</td>\n",
              "    </tr>\n",
              "    <tr>\n",
              "      <th>2988178</th>\n",
              "      <td>10</td>\n",
              "      <td>2017</td>\n",
              "      <td>10-2017</td>\n",
              "    </tr>\n",
              "    <tr>\n",
              "      <th>2988179</th>\n",
              "      <td>10</td>\n",
              "      <td>2017</td>\n",
              "      <td>10-2017</td>\n",
              "    </tr>\n",
              "    <tr>\n",
              "      <th>2988180</th>\n",
              "      <td>10</td>\n",
              "      <td>2017</td>\n",
              "      <td>10-2017</td>\n",
              "    </tr>\n",
              "  </tbody>\n",
              "</table>\n",
              "<p>2976685 rows × 3 columns</p>\n",
              "</div>"
            ]
          },
          "metadata": {},
          "execution_count": 177
        }
      ]
    },
    {
      "cell_type": "code",
      "source": [
        "article_creation_per_year = df_creation_article['annee'].value_counts().sort_index()\n",
        "article_creation_per_year.plot(figsize=(12,5),kind='bar', title=\"Volume d'article créés par an\")"
      ],
      "metadata": {
        "colab": {
          "base_uri": "https://localhost:8080/",
          "height": 526
        },
        "id": "QBApuqrFrDS1",
        "outputId": "6942ce89-c02b-4f83-bdb4-31f96bca22e1"
      },
      "execution_count": 180,
      "outputs": [
        {
          "output_type": "execute_result",
          "data": {
            "text/plain": [
              "<Axes: title={'center': \"Volume d'article créés par jour\"}, xlabel='annee'>"
            ]
          },
          "metadata": {},
          "execution_count": 180
        },
        {
          "output_type": "display_data",
          "data": {
            "text/plain": [
              "<Figure size 1200x500 with 1 Axes>"
            ],
            "image/png": "[encoded data removed]"
          },
          "metadata": {}
        }
      ]
    },
    {
      "cell_type": "markdown",
      "source": [
        "Quasiment la totalité des articles a été créé en 2017. Etudions plus cette année là :"
      ],
      "metadata": {
        "id": "Qt4tF_luvgrG"
      }
    },
    {
      "cell_type": "code",
      "source": [
        "article_creation_2017 = df_creation_article.drop(df_creation_article[df_creation_article['annee'] != '2017'].index)\n",
        "article_creation_2017_per_month = article_creation_2017['mois_annee'].value_counts().sort_index()\n",
        "article_creation_2017_per_month.plot(figsize=(12,5),kind='bar', title=\"Volume d'article créés par mois sur 2017\")"
      ],
      "metadata": {
        "colab": {
          "base_uri": "https://localhost:8080/",
          "height": 549
        },
        "id": "oXNkZjt8vfCY",
        "outputId": "0ab25588-9e44-4a23-c10a-68bd4e487506"
      },
      "execution_count": 183,
      "outputs": [
        {
          "output_type": "execute_result",
          "data": {
            "text/plain": [
              "<Axes: title={'center': \"Volume d'article créés par mois sur 2017\"}, xlabel='mois_annee'>"
            ]
          },
          "metadata": {},
          "execution_count": 183
        },
        {
          "output_type": "display_data",
          "data": {
            "text/plain": [
              "<Figure size 1200x500 with 1 Axes>"
            ],
            "image/png": "[encoded data removed]"
          },
          "metadata": {}
        }
      ]
    }
  ]
}