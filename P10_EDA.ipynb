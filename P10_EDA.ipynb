{
  "nbformat": 4,
  "nbformat_minor": 0,
  "metadata": {
    "colab": {
      "provenance": []
    },
    "kernelspec": {
      "name": "python3",
      "display_name": "Python 3"
    },
    "language_info": {
      "name": "python"
    }
  },
  "cells": [
    {
      "cell_type": "markdown",
      "source": [
        "# Projet 10 : Réalisez une application de recommandation de contenu\n",
        "\n",
        "## Contexte\n",
        "\n",
        "Vous êtes le CTO et cofondateur de la start-up My Content qui veut encourager la lecture en recommandant des contenus pertinents pour ses utilisateurs. Vous êtes en pleine construction d’un premier MVP (Minimum Viable Product) qui prendra la forme d’une application.\n",
        "\n",
        "Dans un premier temps, votre start-up souhaite tester une solution de recommandation d’articles et de livres à des particuliers en utilisant des données disponibles en ligne puisque vous n'en avez pas encore.\n",
        "\n",
        "Votre mission est de développer une première version de votre système de recommandation d'une sélection de cinq articles, sous forme d’Azure Functions, tout en prenant en compte l'ajout de nouveaux articles et utilisateurs.\n",
        "\n",
        "Puis de réaliser une application simple de gestion du système de recommandation (interface d’affichage d’une liste d’id utilisateurs, d’appel Azure functions pour l’id choisi, et d’affichage des 5 articles recommandés)\n",
        "\n",
        "## Contenu des données du jeu de données News Portal User Interactions by Globo.com :\n",
        "\n",
        "Le jeu de données provient du portail d’actualité brésilien Globo. Il traite des clics utilisateurs/articles.\n",
        "\n",
        "Il contient 3 fichiers et un dossier zip :\n",
        "- clicks.zip : contient les données d’interaction utilisateur → article (clics, horodatage, etc.).\n",
        "\n",
        "- clicks_sample.csv : contient un échantillon des données d’interaction utilisateur → article (clics, horodatage, etc.).\n",
        "\n",
        "- articles_metadata.csv : les métadonnées des articles (titre, catégorie, etc.).\n",
        "\n",
        "- articles_embeddings.pickle : embeddings pré-calculés des articles.\n",
        "\n",
        "\n",
        "## Librairies utilisées avec le langage Python :"
      ],
      "metadata": {
        "id": "V654o6Gb3PSe"
      }
    },
    {
      "cell_type": "code",
      "execution_count": null,
      "metadata": {
        "id": "Mt4YkQE43Ji_"
      },
      "outputs": [],
      "source": [
        "# Importation des librairies\n",
        "import numpy as np\n",
        "import pandas as pd\n",
        "from collections import Counter, defaultdict\n",
        "import matplotlib.pyplot as plt\n",
        "import seaborn as sns\n",
        "from PIL import Image, ImageOps, ImageFilter\n",
        "import glob\n",
        "import os\n",
        "import warnings\n",
        "warnings.filterwarnings('ignore')"
      ]
    },
    {
      "cell_type": "markdown",
      "source": [
        "\n",
        "## Données brutes :\n",
        "\n",
        "### articles_metadata.csv"
      ],
      "metadata": {
        "id": "PRrcmtmABolv"
      }
    },
    {
      "cell_type": "code",
      "source": [
        "# Importation des données :\n",
        "# data_articles = pd.read_csv('C:/tutorial-env/OCR/Projet10/data/articles_metadata.csv',encoding='latin',delimiter=\",\")\n",
        "data_articles = pd.read_csv(\"D:/tutorial-env/OCR/Projet10/articles_metadata.csv\",encoding='latin',delimiter=\",\")\n",
        "data_articles.head()"
      ],
      "metadata": {
        "colab": {
          "base_uri": "https://localhost:8080/",
          "height": 206
        },
        "id": "ZxBcy0ZBB7Os",
        "outputId": "cc8f77df-8d8d-4236-ff88-c824f6376d9d"
      },
      "execution_count": null,
      "outputs": [
        {
          "output_type": "execute_result",
          "data": {
            "text/plain": [
              "   article_id  category_id  created_at_ts  publisher_id  words_count\n",
              "0           0            0  1513144419000             0          168\n",
              "1           1            1  1405341936000             0          189\n",
              "2           2            1  1408667706000             0          250\n",
              "3           3            1  1408468313000             0          230\n",
              "4           4            1  1407071171000             0          162"
            ],
            "text/html": [
              "<div>\n",
              "<style scoped>\n",
              "    .dataframe tbody tr th:only-of-type {\n",
              "        vertical-align: middle;\n",
              "    }\n",
              "\n",
              "    .dataframe tbody tr th {\n",
              "        vertical-align: top;\n",
              "    }\n",
              "\n",
              "    .dataframe thead th {\n",
              "        text-align: right;\n",
              "    }\n",
              "</style>\n",
              "<table border=\"1\" class=\"dataframe\">\n",
              "  <thead>\n",
              "    <tr style=\"text-align: right;\">\n",
              "      <th></th>\n",
              "      <th>article_id</th>\n",
              "      <th>category_id</th>\n",
              "      <th>created_at_ts</th>\n",
              "      <th>publisher_id</th>\n",
              "      <th>words_count</th>\n",
              "    </tr>\n",
              "  </thead>\n",
              "  <tbody>\n",
              "    <tr>\n",
              "      <th>0</th>\n",
              "      <td>0</td>\n",
              "      <td>0</td>\n",
              "      <td>1513144419000</td>\n",
              "      <td>0</td>\n",
              "      <td>168</td>\n",
              "    </tr>\n",
              "    <tr>\n",
              "      <th>1</th>\n",
              "      <td>1</td>\n",
              "      <td>1</td>\n",
              "      <td>1405341936000</td>\n",
              "      <td>0</td>\n",
              "      <td>189</td>\n",
              "    </tr>\n",
              "    <tr>\n",
              "      <th>2</th>\n",
              "      <td>2</td>\n",
              "      <td>1</td>\n",
              "      <td>1408667706000</td>\n",
              "      <td>0</td>\n",
              "      <td>250</td>\n",
              "    </tr>\n",
              "    <tr>\n",
              "      <th>3</th>\n",
              "      <td>3</td>\n",
              "      <td>1</td>\n",
              "      <td>1408468313000</td>\n",
              "      <td>0</td>\n",
              "      <td>230</td>\n",
              "    </tr>\n",
              "    <tr>\n",
              "      <th>4</th>\n",
              "      <td>4</td>\n",
              "      <td>1</td>\n",
              "      <td>1407071171000</td>\n",
              "      <td>0</td>\n",
              "      <td>162</td>\n",
              "    </tr>\n",
              "  </tbody>\n",
              "</table>\n",
              "</div>"
            ]
          },
          "metadata": {},
          "execution_count": 2
        }
      ]
    },
    {
      "cell_type": "code",
      "source": [
        "data_articles.shape"
      ],
      "metadata": {
        "colab": {
          "base_uri": "https://localhost:8080/"
        },
        "id": "ZNhHBs3muJc6",
        "outputId": "33188cfd-2d93-42c8-fcaf-92bd0c2295df"
      },
      "execution_count": null,
      "outputs": [
        {
          "output_type": "execute_result",
          "data": {
            "text/plain": [
              "(364047, 5)"
            ]
          },
          "metadata": {},
          "execution_count": 3
        }
      ]
    },
    {
      "cell_type": "code",
      "source": [
        "data_articles.dtypes"
      ],
      "metadata": {
        "colab": {
          "base_uri": "https://localhost:8080/"
        },
        "id": "4toD5dGD1OAA",
        "outputId": "6085fecf-e28a-4999-994b-83f30fe0f34b"
      },
      "execution_count": null,
      "outputs": [
        {
          "output_type": "execute_result",
          "data": {
            "text/plain": [
              "article_id       int64\n",
              "category_id      int64\n",
              "created_at_ts    int64\n",
              "publisher_id     int64\n",
              "words_count      int64\n",
              "dtype: object"
            ]
          },
          "metadata": {},
          "execution_count": 4
        }
      ]
    },
    {
      "cell_type": "code",
      "source": [
        "data_articles.duplicated().sum()"
      ],
      "metadata": {
        "colab": {
          "base_uri": "https://localhost:8080/"
        },
        "id": "HoS9XABAP1O8",
        "outputId": "5ebfe963-b665-47b0-e2aa-629ffe73e67c"
      },
      "execution_count": null,
      "outputs": [
        {
          "output_type": "execute_result",
          "data": {
            "text/plain": [
              "np.int64(0)"
            ]
          },
          "metadata": {},
          "execution_count": 5
        }
      ]
    },
    {
      "cell_type": "code",
      "source": [
        "data_articles[['article_id','category_id','publisher_id']] = data_articles[['article_id','category_id','publisher_id']].astype(str)\n",
        "data_articles[['article_id','category_id','publisher_id']].describe()"
      ],
      "metadata": {
        "colab": {
          "base_uri": "https://localhost:8080/",
          "height": 175
        },
        "id": "xoU2sgBKuZcb",
        "outputId": "e31841c9-89cd-4c2d-f3d6-56dd209dc89e"
      },
      "execution_count": null,
      "outputs": [
        {
          "output_type": "execute_result",
          "data": {
            "text/plain": [
              "       article_id category_id publisher_id\n",
              "count      364047      364047       364047\n",
              "unique     364047         461            1\n",
              "top        364046         281            0\n",
              "freq            1       12817       364047"
            ],
            "text/html": [
              "<div>\n",
              "<style scoped>\n",
              "    .dataframe tbody tr th:only-of-type {\n",
              "        vertical-align: middle;\n",
              "    }\n",
              "\n",
              "    .dataframe tbody tr th {\n",
              "        vertical-align: top;\n",
              "    }\n",
              "\n",
              "    .dataframe thead th {\n",
              "        text-align: right;\n",
              "    }\n",
              "</style>\n",
              "<table border=\"1\" class=\"dataframe\">\n",
              "  <thead>\n",
              "    <tr style=\"text-align: right;\">\n",
              "      <th></th>\n",
              "      <th>article_id</th>\n",
              "      <th>category_id</th>\n",
              "      <th>publisher_id</th>\n",
              "    </tr>\n",
              "  </thead>\n",
              "  <tbody>\n",
              "    <tr>\n",
              "      <th>count</th>\n",
              "      <td>364047</td>\n",
              "      <td>364047</td>\n",
              "      <td>364047</td>\n",
              "    </tr>\n",
              "    <tr>\n",
              "      <th>unique</th>\n",
              "      <td>364047</td>\n",
              "      <td>461</td>\n",
              "      <td>1</td>\n",
              "    </tr>\n",
              "    <tr>\n",
              "      <th>top</th>\n",
              "      <td>364046</td>\n",
              "      <td>281</td>\n",
              "      <td>0</td>\n",
              "    </tr>\n",
              "    <tr>\n",
              "      <th>freq</th>\n",
              "      <td>1</td>\n",
              "      <td>12817</td>\n",
              "      <td>364047</td>\n",
              "    </tr>\n",
              "  </tbody>\n",
              "</table>\n",
              "</div>"
            ]
          },
          "metadata": {},
          "execution_count": 6
        }
      ]
    },
    {
      "cell_type": "markdown",
      "source": [
        "Modifions le type des colonnes pour en savoir plus et pour pouvoir interpréter les dates de la colonne \"created_at_ts\""
      ],
      "metadata": {
        "id": "tDsCyJk225Wz"
      }
    },
    {
      "cell_type": "code",
      "source": [
        "data_articles['words_count'] = data_articles[['words_count']].astype(int)\n",
        "data_articles['article_created_at'] = pd.to_datetime(data_articles['created_at_ts'], unit='ms')\n",
        "data_articles.describe()"
      ],
      "metadata": {
        "colab": {
          "base_uri": "https://localhost:8080/",
          "height": 300
        },
        "id": "572wuT5ZuqLz",
        "outputId": "a3dfd618-8877-4e19-90be-a4d7e7f5eeb1"
      },
      "execution_count": null,
      "outputs": [
        {
          "output_type": "execute_result",
          "data": {
            "text/plain": [
              "       created_at_ts    words_count             article_created_at\n",
              "count   3.640470e+05  364047.000000                         364047\n",
              "mean    1.474070e+12     190.897727  2016-09-16 23:57:17.328421888\n",
              "min     1.159356e+12       0.000000            2006-09-27 11:14:35\n",
              "25%     1.444925e+12     159.000000     2015-10-15 16:00:43.500000\n",
              "50%     1.489422e+12     186.000000            2017-03-13 16:27:29\n",
              "75%     1.509891e+12     218.000000            2017-11-05 14:09:11\n",
              "max     1.520943e+12    6690.000000            2018-03-13 12:12:30\n",
              "std     4.293038e+10      59.502766                            NaN"
            ],
            "text/html": [
              "<div>\n",
              "<style scoped>\n",
              "    .dataframe tbody tr th:only-of-type {\n",
              "        vertical-align: middle;\n",
              "    }\n",
              "\n",
              "    .dataframe tbody tr th {\n",
              "        vertical-align: top;\n",
              "    }\n",
              "\n",
              "    .dataframe thead th {\n",
              "        text-align: right;\n",
              "    }\n",
              "</style>\n",
              "<table border=\"1\" class=\"dataframe\">\n",
              "  <thead>\n",
              "    <tr style=\"text-align: right;\">\n",
              "      <th></th>\n",
              "      <th>created_at_ts</th>\n",
              "      <th>words_count</th>\n",
              "      <th>article_created_at</th>\n",
              "    </tr>\n",
              "  </thead>\n",
              "  <tbody>\n",
              "    <tr>\n",
              "      <th>count</th>\n",
              "      <td>3.640470e+05</td>\n",
              "      <td>364047.000000</td>\n",
              "      <td>364047</td>\n",
              "    </tr>\n",
              "    <tr>\n",
              "      <th>mean</th>\n",
              "      <td>1.474070e+12</td>\n",
              "      <td>190.897727</td>\n",
              "      <td>2016-09-16 23:57:17.328421888</td>\n",
              "    </tr>\n",
              "    <tr>\n",
              "      <th>min</th>\n",
              "      <td>1.159356e+12</td>\n",
              "      <td>0.000000</td>\n",
              "      <td>2006-09-27 11:14:35</td>\n",
              "    </tr>\n",
              "    <tr>\n",
              "      <th>25%</th>\n",
              "      <td>1.444925e+12</td>\n",
              "      <td>159.000000</td>\n",
              "      <td>2015-10-15 16:00:43.500000</td>\n",
              "    </tr>\n",
              "    <tr>\n",
              "      <th>50%</th>\n",
              "      <td>1.489422e+12</td>\n",
              "      <td>186.000000</td>\n",
              "      <td>2017-03-13 16:27:29</td>\n",
              "    </tr>\n",
              "    <tr>\n",
              "      <th>75%</th>\n",
              "      <td>1.509891e+12</td>\n",
              "      <td>218.000000</td>\n",
              "      <td>2017-11-05 14:09:11</td>\n",
              "    </tr>\n",
              "    <tr>\n",
              "      <th>max</th>\n",
              "      <td>1.520943e+12</td>\n",
              "      <td>6690.000000</td>\n",
              "      <td>2018-03-13 12:12:30</td>\n",
              "    </tr>\n",
              "    <tr>\n",
              "      <th>std</th>\n",
              "      <td>4.293038e+10</td>\n",
              "      <td>59.502766</td>\n",
              "      <td>NaN</td>\n",
              "    </tr>\n",
              "  </tbody>\n",
              "</table>\n",
              "</div>"
            ]
          },
          "metadata": {},
          "execution_count": 7
        }
      ]
    },
    {
      "cell_type": "markdown",
      "source": [
        "Le csv articles_metadata comprend 364047 articles avec des id uniques, sans doublons et sans valeurs manquantes.\n",
        "\n",
        "Les articles appartiennent à l'une des 461 catégories.\n",
        "\n",
        "La colonne \"publisher_id\" n'a qu'un seul id, elle n'est donc pas pertinente pour notre projet.\n",
        "\n",
        "La nouvelle colonne \"created_at\" correspond à la date et heure de publication de l'article.\n",
        "\n",
        "Le nombre moyen de mots par articles est de 190 mots avec un minimum de 0 et un maximum de 6690."
      ],
      "metadata": {
        "id": "tYEbPoQGtVKG"
      }
    },
    {
      "cell_type": "markdown",
      "source": [
        "\n",
        "### clicks.csv"
      ],
      "metadata": {
        "id": "dB6jmSXeZfF9"
      }
    },
    {
      "cell_type": "code",
      "source": [
        "# Importation des données :\n",
        "# Chercher tous les fichiers .csv du dossier\n",
        "# all_files = glob.glob(os.path.join(\"C:/tutorial-env/OCR/Projet10/data/clicks/\", \"*.csv\"))\n",
        "all_files = glob.glob(os.path.join(\"D:/tutorial-env/OCR/Projet10/clicks/\", \"*.csv\"))\n",
        "\n",
        "# Charger et concaténer tous les fichiers\n",
        "dfs = []\n",
        "for f in all_files:\n",
        "    df = pd.read_csv(f,encoding='latin',delimiter=\",\")\n",
        "    dfs.append(df)\n",
        "\n",
        "clicks = pd.concat(dfs, ignore_index=True)\n",
        "clicks.head()"
      ],
      "metadata": {
        "colab": {
          "base_uri": "https://localhost:8080/",
          "height": 206
        },
        "id": "J4FAMjDPtdhf",
        "outputId": "fd15ed65-59df-48c1-d626-224bef88b852"
      },
      "execution_count": null,
      "outputs": [
        {
          "output_type": "execute_result",
          "data": {
            "text/plain": [
              "  user_id        session_id  session_start session_size click_article_id  \\\n",
              "0       0  1506825423271737  1506825423000            2           157541   \n",
              "1       0  1506825423271737  1506825423000            2            68866   \n",
              "2       1  1506825426267738  1506825426000            2           235840   \n",
              "3       1  1506825426267738  1506825426000            2            96663   \n",
              "4       2  1506825435299739  1506825435000            2           119592   \n",
              "\n",
              "  click_timestamp click_environment click_deviceGroup click_os click_country  \\\n",
              "0   1506826828020                 4                 3       20             1   \n",
              "1   1506826858020                 4                 3       20             1   \n",
              "2   1506827017951                 4                 1       17             1   \n",
              "3   1506827047951                 4                 1       17             1   \n",
              "4   1506827090575                 4                 1       17             1   \n",
              "\n",
              "  click_region click_referrer_type  \n",
              "0           20                   2  \n",
              "1           20                   2  \n",
              "2           16                   2  \n",
              "3           16                   2  \n",
              "4           24                   2  "
            ],
            "text/html": [
              "<div>\n",
              "<style scoped>\n",
              "    .dataframe tbody tr th:only-of-type {\n",
              "        vertical-align: middle;\n",
              "    }\n",
              "\n",
              "    .dataframe tbody tr th {\n",
              "        vertical-align: top;\n",
              "    }\n",
              "\n",
              "    .dataframe thead th {\n",
              "        text-align: right;\n",
              "    }\n",
              "</style>\n",
              "<table border=\"1\" class=\"dataframe\">\n",
              "  <thead>\n",
              "    <tr style=\"text-align: right;\">\n",
              "      <th></th>\n",
              "      <th>user_id</th>\n",
              "      <th>session_id</th>\n",
              "      <th>session_start</th>\n",
              "      <th>session_size</th>\n",
              "      <th>click_article_id</th>\n",
              "      <th>click_timestamp</th>\n",
              "      <th>click_environment</th>\n",
              "      <th>click_deviceGroup</th>\n",
              "      <th>click_os</th>\n",
              "      <th>click_country</th>\n",
              "      <th>click_region</th>\n",
              "      <th>click_referrer_type</th>\n",
              "    </tr>\n",
              "  </thead>\n",
              "  <tbody>\n",
              "    <tr>\n",
              "      <th>0</th>\n",
              "      <td>0</td>\n",
              "      <td>1506825423271737</td>\n",
              "      <td>1506825423000</td>\n",
              "      <td>2</td>\n",
              "      <td>157541</td>\n",
              "      <td>1506826828020</td>\n",
              "      <td>4</td>\n",
              "      <td>3</td>\n",
              "      <td>20</td>\n",
              "      <td>1</td>\n",
              "      <td>20</td>\n",
              "      <td>2</td>\n",
              "    </tr>\n",
              "    <tr>\n",
              "      <th>1</th>\n",
              "      <td>0</td>\n",
              "      <td>1506825423271737</td>\n",
              "      <td>1506825423000</td>\n",
              "      <td>2</td>\n",
              "      <td>68866</td>\n",
              "      <td>1506826858020</td>\n",
              "      <td>4</td>\n",
              "      <td>3</td>\n",
              "      <td>20</td>\n",
              "      <td>1</td>\n",
              "      <td>20</td>\n",
              "      <td>2</td>\n",
              "    </tr>\n",
              "    <tr>\n",
              "      <th>2</th>\n",
              "      <td>1</td>\n",
              "      <td>1506825426267738</td>\n",
              "      <td>1506825426000</td>\n",
              "      <td>2</td>\n",
              "      <td>235840</td>\n",
              "      <td>1506827017951</td>\n",
              "      <td>4</td>\n",
              "      <td>1</td>\n",
              "      <td>17</td>\n",
              "      <td>1</td>\n",
              "      <td>16</td>\n",
              "      <td>2</td>\n",
              "    </tr>\n",
              "    <tr>\n",
              "      <th>3</th>\n",
              "      <td>1</td>\n",
              "      <td>1506825426267738</td>\n",
              "      <td>1506825426000</td>\n",
              "      <td>2</td>\n",
              "      <td>96663</td>\n",
              "      <td>1506827047951</td>\n",
              "      <td>4</td>\n",
              "      <td>1</td>\n",
              "      <td>17</td>\n",
              "      <td>1</td>\n",
              "      <td>16</td>\n",
              "      <td>2</td>\n",
              "    </tr>\n",
              "    <tr>\n",
              "      <th>4</th>\n",
              "      <td>2</td>\n",
              "      <td>1506825435299739</td>\n",
              "      <td>1506825435000</td>\n",
              "      <td>2</td>\n",
              "      <td>119592</td>\n",
              "      <td>1506827090575</td>\n",
              "      <td>4</td>\n",
              "      <td>1</td>\n",
              "      <td>17</td>\n",
              "      <td>1</td>\n",
              "      <td>24</td>\n",
              "      <td>2</td>\n",
              "    </tr>\n",
              "  </tbody>\n",
              "</table>\n",
              "</div>"
            ]
          },
          "metadata": {},
          "execution_count": 8
        }
      ]
    },
    {
      "cell_type": "code",
      "source": [
        "clicks.shape"
      ],
      "metadata": {
        "colab": {
          "base_uri": "https://localhost:8080/"
        },
        "id": "TSLVT0qIuR4j",
        "outputId": "09d5b6a6-f2b0-4a6c-ca54-2b575564a6e6"
      },
      "execution_count": null,
      "outputs": [
        {
          "output_type": "execute_result",
          "data": {
            "text/plain": [
              "(2988181, 12)"
            ]
          },
          "metadata": {},
          "execution_count": 9
        }
      ]
    },
    {
      "cell_type": "code",
      "source": [
        "clicks.dtypes"
      ],
      "metadata": {
        "colab": {
          "base_uri": "https://localhost:8080/"
        },
        "id": "eIIisDUN5cn8",
        "outputId": "b8dfc6d9-7577-4b17-efc0-666e623e1548"
      },
      "execution_count": null,
      "outputs": [
        {
          "output_type": "execute_result",
          "data": {
            "text/plain": [
              "user_id                object\n",
              "session_id             object\n",
              "session_start          object\n",
              "session_size           object\n",
              "click_article_id       object\n",
              "click_timestamp        object\n",
              "click_environment      object\n",
              "click_deviceGroup      object\n",
              "click_os               object\n",
              "click_country          object\n",
              "click_region           object\n",
              "click_referrer_type    object\n",
              "dtype: object"
            ]
          },
          "metadata": {},
          "execution_count": 10
        }
      ]
    },
    {
      "cell_type": "code",
      "source": [
        "clicks[['user_id','session_id','click_article_id','click_environment','click_deviceGroup','click_os','click_country','click_region','click_referrer_type']] = clicks[['user_id','session_id','click_article_id','click_environment','click_deviceGroup','click_os','click_country','click_region','click_referrer_type']].astype(str)\n",
        "clicks[['user_id','session_id','click_article_id','click_environment','click_deviceGroup','click_os','click_country','click_region','click_referrer_type']].describe()"
      ],
      "metadata": {
        "colab": {
          "base_uri": "https://localhost:8080/",
          "height": 175
        },
        "id": "20FOZoXkx5w1",
        "outputId": "5e76def1-b7d4-41d3-cc02-a4690e96564b"
      },
      "execution_count": null,
      "outputs": [
        {
          "output_type": "execute_result",
          "data": {
            "text/plain": [
              "        user_id        session_id click_article_id click_environment  \\\n",
              "count   2988181           2988181          2988181           2988181   \n",
              "unique   322897           1048594            46033                 3   \n",
              "top        5890  1507563657895091           160974                 4   \n",
              "freq       1232               124            37213           2904478   \n",
              "\n",
              "       click_deviceGroup click_os click_country click_region  \\\n",
              "count            2988181  2988181       2988181      2988181   \n",
              "unique                 5        8            11           28   \n",
              "top                    1       17             1           25   \n",
              "freq             1823162  1738138       2852406       804985   \n",
              "\n",
              "       click_referrer_type  \n",
              "count              2988181  \n",
              "unique                   7  \n",
              "top                      2  \n",
              "freq               1602601  "
            ],
            "text/html": [
              "<div>\n",
              "<style scoped>\n",
              "    .dataframe tbody tr th:only-of-type {\n",
              "        vertical-align: middle;\n",
              "    }\n",
              "\n",
              "    .dataframe tbody tr th {\n",
              "        vertical-align: top;\n",
              "    }\n",
              "\n",
              "    .dataframe thead th {\n",
              "        text-align: right;\n",
              "    }\n",
              "</style>\n",
              "<table border=\"1\" class=\"dataframe\">\n",
              "  <thead>\n",
              "    <tr style=\"text-align: right;\">\n",
              "      <th></th>\n",
              "      <th>user_id</th>\n",
              "      <th>session_id</th>\n",
              "      <th>click_article_id</th>\n",
              "      <th>click_environment</th>\n",
              "      <th>click_deviceGroup</th>\n",
              "      <th>click_os</th>\n",
              "      <th>click_country</th>\n",
              "      <th>click_region</th>\n",
              "      <th>click_referrer_type</th>\n",
              "    </tr>\n",
              "  </thead>\n",
              "  <tbody>\n",
              "    <tr>\n",
              "      <th>count</th>\n",
              "      <td>2988181</td>\n",
              "      <td>2988181</td>\n",
              "      <td>2988181</td>\n",
              "      <td>2988181</td>\n",
              "      <td>2988181</td>\n",
              "      <td>2988181</td>\n",
              "      <td>2988181</td>\n",
              "      <td>2988181</td>\n",
              "      <td>2988181</td>\n",
              "    </tr>\n",
              "    <tr>\n",
              "      <th>unique</th>\n",
              "      <td>322897</td>\n",
              "      <td>1048594</td>\n",
              "      <td>46033</td>\n",
              "      <td>3</td>\n",
              "      <td>5</td>\n",
              "      <td>8</td>\n",
              "      <td>11</td>\n",
              "      <td>28</td>\n",
              "      <td>7</td>\n",
              "    </tr>\n",
              "    <tr>\n",
              "      <th>top</th>\n",
              "      <td>5890</td>\n",
              "      <td>1507563657895091</td>\n",
              "      <td>160974</td>\n",
              "      <td>4</td>\n",
              "      <td>1</td>\n",
              "      <td>17</td>\n",
              "      <td>1</td>\n",
              "      <td>25</td>\n",
              "      <td>2</td>\n",
              "    </tr>\n",
              "    <tr>\n",
              "      <th>freq</th>\n",
              "      <td>1232</td>\n",
              "      <td>124</td>\n",
              "      <td>37213</td>\n",
              "      <td>2904478</td>\n",
              "      <td>1823162</td>\n",
              "      <td>1738138</td>\n",
              "      <td>2852406</td>\n",
              "      <td>804985</td>\n",
              "      <td>1602601</td>\n",
              "    </tr>\n",
              "  </tbody>\n",
              "</table>\n",
              "</div>"
            ]
          },
          "metadata": {},
          "execution_count": 11
        }
      ]
    },
    {
      "cell_type": "code",
      "source": [
        "clicks.duplicated().sum()"
      ],
      "metadata": {
        "colab": {
          "base_uri": "https://localhost:8080/"
        },
        "id": "KfgokLRTPrD3",
        "outputId": "059976e6-152c-4499-e434-2ea756c9fa73"
      },
      "execution_count": null,
      "outputs": [
        {
          "output_type": "execute_result",
          "data": {
            "text/plain": [
              "np.int64(0)"
            ]
          },
          "metadata": {},
          "execution_count": 12
        }
      ]
    },
    {
      "cell_type": "markdown",
      "source": [
        "Modifions le type des colonnes pour en savoir plus et pour pouvoir interpréter les dates des colonnes \"session_start\" et \"click_timestamp\"."
      ],
      "metadata": {
        "id": "7J3E2YdLIiVQ"
      }
    },
    {
      "cell_type": "code",
      "source": [
        "clicks['session_size'] = clicks[['session_size']].astype(int)\n",
        "clicks['session_start'] = pd.to_datetime(clicks['session_start'], unit='ms')\n",
        "clicks['click_timestamp'] = pd.to_datetime(clicks['click_timestamp'], unit='ms')\n",
        "clicks.describe()"
      ],
      "metadata": {
        "colab": {
          "base_uri": "https://localhost:8080/",
          "height": 300
        },
        "id": "lItTfoU7IvZt",
        "outputId": "38dca8b7-0efc-4c67-b8dc-1bc619a19841"
      },
      "execution_count": null,
      "outputs": [
        {
          "output_type": "execute_result",
          "data": {
            "text/plain": [
              "                       session_start  session_size  \\\n",
              "count                        2988181  2.988181e+06   \n",
              "mean   2017-10-08 14:17:08.013157120  3.901885e+00   \n",
              "min              2017-10-01 02:37:03  2.000000e+00   \n",
              "25%              2017-10-04 13:35:52  2.000000e+00   \n",
              "50%              2017-10-08 20:09:00  3.000000e+00   \n",
              "75%              2017-10-11 19:16:54  4.000000e+00   \n",
              "max              2017-10-17 03:36:19  1.240000e+02   \n",
              "std                              NaN  3.929941e+00   \n",
              "\n",
              "                     click_timestamp  \n",
              "count                        2988181  \n",
              "mean   2017-10-08 14:51:05.606100224  \n",
              "min       2017-10-01 03:00:00.026000  \n",
              "25%    2017-10-04 14:20:52.854000128  \n",
              "50%    2017-10-08 20:35:30.480999936  \n",
              "75%    2017-10-11 19:43:24.600999936  \n",
              "max       2017-11-13 20:04:14.886000  \n",
              "std                              NaN  "
            ],
            "text/html": [
              "<div>\n",
              "<style scoped>\n",
              "    .dataframe tbody tr th:only-of-type {\n",
              "        vertical-align: middle;\n",
              "    }\n",
              "\n",
              "    .dataframe tbody tr th {\n",
              "        vertical-align: top;\n",
              "    }\n",
              "\n",
              "    .dataframe thead th {\n",
              "        text-align: right;\n",
              "    }\n",
              "</style>\n",
              "<table border=\"1\" class=\"dataframe\">\n",
              "  <thead>\n",
              "    <tr style=\"text-align: right;\">\n",
              "      <th></th>\n",
              "      <th>session_start</th>\n",
              "      <th>session_size</th>\n",
              "      <th>click_timestamp</th>\n",
              "    </tr>\n",
              "  </thead>\n",
              "  <tbody>\n",
              "    <tr>\n",
              "      <th>count</th>\n",
              "      <td>2988181</td>\n",
              "      <td>2.988181e+06</td>\n",
              "      <td>2988181</td>\n",
              "    </tr>\n",
              "    <tr>\n",
              "      <th>mean</th>\n",
              "      <td>2017-10-08 14:17:08.013157120</td>\n",
              "      <td>3.901885e+00</td>\n",
              "      <td>2017-10-08 14:51:05.606100224</td>\n",
              "    </tr>\n",
              "    <tr>\n",
              "      <th>min</th>\n",
              "      <td>2017-10-01 02:37:03</td>\n",
              "      <td>2.000000e+00</td>\n",
              "      <td>2017-10-01 03:00:00.026000</td>\n",
              "    </tr>\n",
              "    <tr>\n",
              "      <th>25%</th>\n",
              "      <td>2017-10-04 13:35:52</td>\n",
              "      <td>2.000000e+00</td>\n",
              "      <td>2017-10-04 14:20:52.854000128</td>\n",
              "    </tr>\n",
              "    <tr>\n",
              "      <th>50%</th>\n",
              "      <td>2017-10-08 20:09:00</td>\n",
              "      <td>3.000000e+00</td>\n",
              "      <td>2017-10-08 20:35:30.480999936</td>\n",
              "    </tr>\n",
              "    <tr>\n",
              "      <th>75%</th>\n",
              "      <td>2017-10-11 19:16:54</td>\n",
              "      <td>4.000000e+00</td>\n",
              "      <td>2017-10-11 19:43:24.600999936</td>\n",
              "    </tr>\n",
              "    <tr>\n",
              "      <th>max</th>\n",
              "      <td>2017-10-17 03:36:19</td>\n",
              "      <td>1.240000e+02</td>\n",
              "      <td>2017-11-13 20:04:14.886000</td>\n",
              "    </tr>\n",
              "    <tr>\n",
              "      <th>std</th>\n",
              "      <td>NaN</td>\n",
              "      <td>3.929941e+00</td>\n",
              "      <td>NaN</td>\n",
              "    </tr>\n",
              "  </tbody>\n",
              "</table>\n",
              "</div>"
            ]
          },
          "metadata": {},
          "execution_count": 13
        }
      ]
    },
    {
      "cell_type": "markdown",
      "source": [
        "La fusion des différents csv clicks_hour comprend 2988181 lignes et 12 colonnes, sans doublons et sans valeurs manquantes.\n",
        "\n",
        "Les données sont basées sur les 1048594 sessions de 322897 clients. Ils ont cliqués sur 46033 articles différents.\n",
        "\n",
        "Les colonnes 'click_environment', 'click_deviceGroup', 'click_os', 'click_country', 'click_region', 'click_referrer_type' permettent de comprendre le contexte de l'utilisateur. Nous ne les utiliserons pas dans notre projet.\n",
        "\n",
        "La colonne \"session_start\" correspond à la date et heure d'ouverture de la session.\n",
        "\n",
        "La colonne \"click_timestamp\" correspond à la date et heure du clic.\n",
        "\n",
        "Le nombre moyen de clics par session, portés par la colonne \"session_size\",  est de 3.9 clicls avec un minimum de 2 et un maximum de 124.\n",
        "\n",
        "Créons notre dataframe final avec les variables qui nous intéressent :"
      ],
      "metadata": {
        "id": "D-vQovUoLAkU"
      }
    },
    {
      "cell_type": "code",
      "source": [
        "# Renommer des colonnes pour la jointure\n",
        "clicks = clicks.rename(columns={'click_article_id': 'article_id'})\n",
        "data_articles = data_articles.rename(columns={'category_id': 'article_category_id'})\n",
        "data_articles = data_articles.rename(columns={'words_count': 'article_words_count'})"
      ],
      "metadata": {
        "id": "gc1lgzhxdYz8"
      },
      "execution_count": null,
      "outputs": []
    },
    {
      "cell_type": "code",
      "source": [
        "# Ajout des colonnes à clicks\n",
        "df = clicks.merge(data_articles[['article_id', 'article_category_id', 'article_words_count' ,\t'article_created_at']],\n",
        "    on='article_id', how='left')\n",
        "df.head()"
      ],
      "metadata": {
        "colab": {
          "base_uri": "https://localhost:8080/",
          "height": 313
        },
        "id": "hdT9lABZZOrp",
        "outputId": "b6d3b6db-cc6c-413f-8c1f-9819c55165ec"
      },
      "execution_count": null,
      "outputs": [
        {
          "output_type": "execute_result",
          "data": {
            "text/plain": [
              "  user_id        session_id       session_start  session_size article_id  \\\n",
              "0       0  1506825423271737 2017-10-01 02:37:03             2     157541   \n",
              "1       0  1506825423271737 2017-10-01 02:37:03             2      68866   \n",
              "2       1  1506825426267738 2017-10-01 02:37:06             2     235840   \n",
              "3       1  1506825426267738 2017-10-01 02:37:06             2      96663   \n",
              "4       2  1506825435299739 2017-10-01 02:37:15             2     119592   \n",
              "\n",
              "          click_timestamp click_environment click_deviceGroup click_os  \\\n",
              "0 2017-10-01 03:00:28.020                 4                 3       20   \n",
              "1 2017-10-01 03:00:58.020                 4                 3       20   \n",
              "2 2017-10-01 03:03:37.951                 4                 1       17   \n",
              "3 2017-10-01 03:04:07.951                 4                 1       17   \n",
              "4 2017-10-01 03:04:50.575                 4                 1       17   \n",
              "\n",
              "  click_country click_region click_referrer_type article_category_id  \\\n",
              "0             1           20                   2                 281   \n",
              "1             1           20                   2                 136   \n",
              "2             1           16                   2                 375   \n",
              "3             1           16                   2                 209   \n",
              "4             1           24                   2                 247   \n",
              "\n",
              "   article_words_count  article_created_at  \n",
              "0                  280 2017-09-30 19:41:58  \n",
              "1                  226 2017-10-01 00:08:02  \n",
              "2                  159 2017-09-30 21:43:59  \n",
              "3                  206 2017-09-30 16:13:45  \n",
              "4                  239 2017-09-30 15:11:56  "
            ],
            "text/html": [
              "<div>\n",
              "<style scoped>\n",
              "    .dataframe tbody tr th:only-of-type {\n",
              "        vertical-align: middle;\n",
              "    }\n",
              "\n",
              "    .dataframe tbody tr th {\n",
              "        vertical-align: top;\n",
              "    }\n",
              "\n",
              "    .dataframe thead th {\n",
              "        text-align: right;\n",
              "    }\n",
              "</style>\n",
              "<table border=\"1\" class=\"dataframe\">\n",
              "  <thead>\n",
              "    <tr style=\"text-align: right;\">\n",
              "      <th></th>\n",
              "      <th>user_id</th>\n",
              "      <th>session_id</th>\n",
              "      <th>session_start</th>\n",
              "      <th>session_size</th>\n",
              "      <th>article_id</th>\n",
              "      <th>click_timestamp</th>\n",
              "      <th>click_environment</th>\n",
              "      <th>click_deviceGroup</th>\n",
              "      <th>click_os</th>\n",
              "      <th>click_country</th>\n",
              "      <th>click_region</th>\n",
              "      <th>click_referrer_type</th>\n",
              "      <th>article_category_id</th>\n",
              "      <th>article_words_count</th>\n",
              "      <th>article_created_at</th>\n",
              "    </tr>\n",
              "  </thead>\n",
              "  <tbody>\n",
              "    <tr>\n",
              "      <th>0</th>\n",
              "      <td>0</td>\n",
              "      <td>1506825423271737</td>\n",
              "      <td>2017-10-01 02:37:03</td>\n",
              "      <td>2</td>\n",
              "      <td>157541</td>\n",
              "      <td>2017-10-01 03:00:28.020</td>\n",
              "      <td>4</td>\n",
              "      <td>3</td>\n",
              "      <td>20</td>\n",
              "      <td>1</td>\n",
              "      <td>20</td>\n",
              "      <td>2</td>\n",
              "      <td>281</td>\n",
              "      <td>280</td>\n",
              "      <td>2017-09-30 19:41:58</td>\n",
              "    </tr>\n",
              "    <tr>\n",
              "      <th>1</th>\n",
              "      <td>0</td>\n",
              "      <td>1506825423271737</td>\n",
              "      <td>2017-10-01 02:37:03</td>\n",
              "      <td>2</td>\n",
              "      <td>68866</td>\n",
              "      <td>2017-10-01 03:00:58.020</td>\n",
              "      <td>4</td>\n",
              "      <td>3</td>\n",
              "      <td>20</td>\n",
              "      <td>1</td>\n",
              "      <td>20</td>\n",
              "      <td>2</td>\n",
              "      <td>136</td>\n",
              "      <td>226</td>\n",
              "      <td>2017-10-01 00:08:02</td>\n",
              "    </tr>\n",
              "    <tr>\n",
              "      <th>2</th>\n",
              "      <td>1</td>\n",
              "      <td>1506825426267738</td>\n",
              "      <td>2017-10-01 02:37:06</td>\n",
              "      <td>2</td>\n",
              "      <td>235840</td>\n",
              "      <td>2017-10-01 03:03:37.951</td>\n",
              "      <td>4</td>\n",
              "      <td>1</td>\n",
              "      <td>17</td>\n",
              "      <td>1</td>\n",
              "      <td>16</td>\n",
              "      <td>2</td>\n",
              "      <td>375</td>\n",
              "      <td>159</td>\n",
              "      <td>2017-09-30 21:43:59</td>\n",
              "    </tr>\n",
              "    <tr>\n",
              "      <th>3</th>\n",
              "      <td>1</td>\n",
              "      <td>1506825426267738</td>\n",
              "      <td>2017-10-01 02:37:06</td>\n",
              "      <td>2</td>\n",
              "      <td>96663</td>\n",
              "      <td>2017-10-01 03:04:07.951</td>\n",
              "      <td>4</td>\n",
              "      <td>1</td>\n",
              "      <td>17</td>\n",
              "      <td>1</td>\n",
              "      <td>16</td>\n",
              "      <td>2</td>\n",
              "      <td>209</td>\n",
              "      <td>206</td>\n",
              "      <td>2017-09-30 16:13:45</td>\n",
              "    </tr>\n",
              "    <tr>\n",
              "      <th>4</th>\n",
              "      <td>2</td>\n",
              "      <td>1506825435299739</td>\n",
              "      <td>2017-10-01 02:37:15</td>\n",
              "      <td>2</td>\n",
              "      <td>119592</td>\n",
              "      <td>2017-10-01 03:04:50.575</td>\n",
              "      <td>4</td>\n",
              "      <td>1</td>\n",
              "      <td>17</td>\n",
              "      <td>1</td>\n",
              "      <td>24</td>\n",
              "      <td>2</td>\n",
              "      <td>247</td>\n",
              "      <td>239</td>\n",
              "      <td>2017-09-30 15:11:56</td>\n",
              "    </tr>\n",
              "  </tbody>\n",
              "</table>\n",
              "</div>"
            ]
          },
          "metadata": {},
          "execution_count": 15
        }
      ]
    },
    {
      "cell_type": "code",
      "source": [
        "# Suppression de colonnes non  pertinentes\n",
        "df = df.drop(['click_environment','click_deviceGroup','click_os','click_country','click_region','click_referrer_type'], axis=1)\n",
        "df.head()"
      ],
      "metadata": {
        "colab": {
          "base_uri": "https://localhost:8080/",
          "height": 206
        },
        "id": "SR8m3SfhcyIn",
        "outputId": "ca6e1d14-2344-491d-ead8-49f0bdc94bf0"
      },
      "execution_count": null,
      "outputs": [
        {
          "output_type": "execute_result",
          "data": {
            "text/plain": [
              "  user_id        session_id       session_start  session_size article_id  \\\n",
              "0       0  1506825423271737 2017-10-01 02:37:03             2     157541   \n",
              "1       0  1506825423271737 2017-10-01 02:37:03             2      68866   \n",
              "2       1  1506825426267738 2017-10-01 02:37:06             2     235840   \n",
              "3       1  1506825426267738 2017-10-01 02:37:06             2      96663   \n",
              "4       2  1506825435299739 2017-10-01 02:37:15             2     119592   \n",
              "\n",
              "          click_timestamp article_category_id  article_words_count  \\\n",
              "0 2017-10-01 03:00:28.020                 281                  280   \n",
              "1 2017-10-01 03:00:58.020                 136                  226   \n",
              "2 2017-10-01 03:03:37.951                 375                  159   \n",
              "3 2017-10-01 03:04:07.951                 209                  206   \n",
              "4 2017-10-01 03:04:50.575                 247                  239   \n",
              "\n",
              "   article_created_at  \n",
              "0 2017-09-30 19:41:58  \n",
              "1 2017-10-01 00:08:02  \n",
              "2 2017-09-30 21:43:59  \n",
              "3 2017-09-30 16:13:45  \n",
              "4 2017-09-30 15:11:56  "
            ],
            "text/html": [
              "<div>\n",
              "<style scoped>\n",
              "    .dataframe tbody tr th:only-of-type {\n",
              "        vertical-align: middle;\n",
              "    }\n",
              "\n",
              "    .dataframe tbody tr th {\n",
              "        vertical-align: top;\n",
              "    }\n",
              "\n",
              "    .dataframe thead th {\n",
              "        text-align: right;\n",
              "    }\n",
              "</style>\n",
              "<table border=\"1\" class=\"dataframe\">\n",
              "  <thead>\n",
              "    <tr style=\"text-align: right;\">\n",
              "      <th></th>\n",
              "      <th>user_id</th>\n",
              "      <th>session_id</th>\n",
              "      <th>session_start</th>\n",
              "      <th>session_size</th>\n",
              "      <th>article_id</th>\n",
              "      <th>click_timestamp</th>\n",
              "      <th>article_category_id</th>\n",
              "      <th>article_words_count</th>\n",
              "      <th>article_created_at</th>\n",
              "    </tr>\n",
              "  </thead>\n",
              "  <tbody>\n",
              "    <tr>\n",
              "      <th>0</th>\n",
              "      <td>0</td>\n",
              "      <td>1506825423271737</td>\n",
              "      <td>2017-10-01 02:37:03</td>\n",
              "      <td>2</td>\n",
              "      <td>157541</td>\n",
              "      <td>2017-10-01 03:00:28.020</td>\n",
              "      <td>281</td>\n",
              "      <td>280</td>\n",
              "      <td>2017-09-30 19:41:58</td>\n",
              "    </tr>\n",
              "    <tr>\n",
              "      <th>1</th>\n",
              "      <td>0</td>\n",
              "      <td>1506825423271737</td>\n",
              "      <td>2017-10-01 02:37:03</td>\n",
              "      <td>2</td>\n",
              "      <td>68866</td>\n",
              "      <td>2017-10-01 03:00:58.020</td>\n",
              "      <td>136</td>\n",
              "      <td>226</td>\n",
              "      <td>2017-10-01 00:08:02</td>\n",
              "    </tr>\n",
              "    <tr>\n",
              "      <th>2</th>\n",
              "      <td>1</td>\n",
              "      <td>1506825426267738</td>\n",
              "      <td>2017-10-01 02:37:06</td>\n",
              "      <td>2</td>\n",
              "      <td>235840</td>\n",
              "      <td>2017-10-01 03:03:37.951</td>\n",
              "      <td>375</td>\n",
              "      <td>159</td>\n",
              "      <td>2017-09-30 21:43:59</td>\n",
              "    </tr>\n",
              "    <tr>\n",
              "      <th>3</th>\n",
              "      <td>1</td>\n",
              "      <td>1506825426267738</td>\n",
              "      <td>2017-10-01 02:37:06</td>\n",
              "      <td>2</td>\n",
              "      <td>96663</td>\n",
              "      <td>2017-10-01 03:04:07.951</td>\n",
              "      <td>209</td>\n",
              "      <td>206</td>\n",
              "      <td>2017-09-30 16:13:45</td>\n",
              "    </tr>\n",
              "    <tr>\n",
              "      <th>4</th>\n",
              "      <td>2</td>\n",
              "      <td>1506825435299739</td>\n",
              "      <td>2017-10-01 02:37:15</td>\n",
              "      <td>2</td>\n",
              "      <td>119592</td>\n",
              "      <td>2017-10-01 03:04:50.575</td>\n",
              "      <td>247</td>\n",
              "      <td>239</td>\n",
              "      <td>2017-09-30 15:11:56</td>\n",
              "    </tr>\n",
              "  </tbody>\n",
              "</table>\n",
              "</div>"
            ]
          },
          "metadata": {},
          "execution_count": 16
        }
      ]
    },
    {
      "cell_type": "code",
      "source": [
        "df.describe(include='all')"
      ],
      "metadata": {
        "colab": {
          "base_uri": "https://localhost:8080/",
          "height": 394
        },
        "id": "szGhm8X0fdZu",
        "outputId": "138b5441-5e0e-4748-b5f0-82cbee926879"
      },
      "execution_count": null,
      "outputs": [
        {
          "output_type": "execute_result",
          "data": {
            "text/plain": [
              "        user_id        session_id                  session_start  \\\n",
              "count   2988181           2988181                        2988181   \n",
              "unique   322897           1048594                            NaN   \n",
              "top        5890  1507563657895091                            NaN   \n",
              "freq       1232               124                            NaN   \n",
              "mean        NaN               NaN  2017-10-08 14:17:08.013157120   \n",
              "min         NaN               NaN            2017-10-01 02:37:03   \n",
              "25%         NaN               NaN            2017-10-04 13:35:52   \n",
              "50%         NaN               NaN            2017-10-08 20:09:00   \n",
              "75%         NaN               NaN            2017-10-11 19:16:54   \n",
              "max         NaN               NaN            2017-10-17 03:36:19   \n",
              "std         NaN               NaN                            NaN   \n",
              "\n",
              "        session_size article_id                click_timestamp  \\\n",
              "count   2.988181e+06    2988181                        2988181   \n",
              "unique           NaN      46033                            NaN   \n",
              "top              NaN     160974                            NaN   \n",
              "freq             NaN      37213                            NaN   \n",
              "mean    3.901885e+00        NaN  2017-10-08 14:51:05.606100224   \n",
              "min     2.000000e+00        NaN     2017-10-01 03:00:00.026000   \n",
              "25%     2.000000e+00        NaN  2017-10-04 14:20:52.854000128   \n",
              "50%     3.000000e+00        NaN  2017-10-08 20:35:30.480999936   \n",
              "75%     4.000000e+00        NaN  2017-10-11 19:43:24.600999936   \n",
              "max     1.240000e+02        NaN     2017-11-13 20:04:14.886000   \n",
              "std     3.929941e+00        NaN                            NaN   \n",
              "\n",
              "       article_category_id  article_words_count             article_created_at  \n",
              "count              2988181         2.988181e+06                        2988181  \n",
              "unique                 316                  NaN                            NaN  \n",
              "top                    281                  NaN                            NaN  \n",
              "freq                370843                  NaN                            NaN  \n",
              "mean                   NaN         2.086283e+02  2017-09-30 05:50:23.356218368  \n",
              "min                    NaN         0.000000e+00            2006-12-20 00:00:00  \n",
              "25%                    NaN         1.730000e+02            2017-10-03 17:56:13  \n",
              "50%                    NaN         1.980000e+02            2017-10-07 19:10:41  \n",
              "75%                    NaN         2.320000e+02            2017-10-11 10:10:51  \n",
              "max                    NaN         6.690000e+03            2017-11-14 13:26:54  \n",
              "std                    NaN         8.160152e+01                            NaN  "
            ],
            "text/html": [
              "<div>\n",
              "<style scoped>\n",
              "    .dataframe tbody tr th:only-of-type {\n",
              "        vertical-align: middle;\n",
              "    }\n",
              "\n",
              "    .dataframe tbody tr th {\n",
              "        vertical-align: top;\n",
              "    }\n",
              "\n",
              "    .dataframe thead th {\n",
              "        text-align: right;\n",
              "    }\n",
              "</style>\n",
              "<table border=\"1\" class=\"dataframe\">\n",
              "  <thead>\n",
              "    <tr style=\"text-align: right;\">\n",
              "      <th></th>\n",
              "      <th>user_id</th>\n",
              "      <th>session_id</th>\n",
              "      <th>session_start</th>\n",
              "      <th>session_size</th>\n",
              "      <th>article_id</th>\n",
              "      <th>click_timestamp</th>\n",
              "      <th>article_category_id</th>\n",
              "      <th>article_words_count</th>\n",
              "      <th>article_created_at</th>\n",
              "    </tr>\n",
              "  </thead>\n",
              "  <tbody>\n",
              "    <tr>\n",
              "      <th>count</th>\n",
              "      <td>2988181</td>\n",
              "      <td>2988181</td>\n",
              "      <td>2988181</td>\n",
              "      <td>2.988181e+06</td>\n",
              "      <td>2988181</td>\n",
              "      <td>2988181</td>\n",
              "      <td>2988181</td>\n",
              "      <td>2.988181e+06</td>\n",
              "      <td>2988181</td>\n",
              "    </tr>\n",
              "    <tr>\n",
              "      <th>unique</th>\n",
              "      <td>322897</td>\n",
              "      <td>1048594</td>\n",
              "      <td>NaN</td>\n",
              "      <td>NaN</td>\n",
              "      <td>46033</td>\n",
              "      <td>NaN</td>\n",
              "      <td>316</td>\n",
              "      <td>NaN</td>\n",
              "      <td>NaN</td>\n",
              "    </tr>\n",
              "    <tr>\n",
              "      <th>top</th>\n",
              "      <td>5890</td>\n",
              "      <td>1507563657895091</td>\n",
              "      <td>NaN</td>\n",
              "      <td>NaN</td>\n",
              "      <td>160974</td>\n",
              "      <td>NaN</td>\n",
              "      <td>281</td>\n",
              "      <td>NaN</td>\n",
              "      <td>NaN</td>\n",
              "    </tr>\n",
              "    <tr>\n",
              "      <th>freq</th>\n",
              "      <td>1232</td>\n",
              "      <td>124</td>\n",
              "      <td>NaN</td>\n",
              "      <td>NaN</td>\n",
              "      <td>37213</td>\n",
              "      <td>NaN</td>\n",
              "      <td>370843</td>\n",
              "      <td>NaN</td>\n",
              "      <td>NaN</td>\n",
              "    </tr>\n",
              "    <tr>\n",
              "      <th>mean</th>\n",
              "      <td>NaN</td>\n",
              "      <td>NaN</td>\n",
              "      <td>2017-10-08 14:17:08.013157120</td>\n",
              "      <td>3.901885e+00</td>\n",
              "      <td>NaN</td>\n",
              "      <td>2017-10-08 14:51:05.606100224</td>\n",
              "      <td>NaN</td>\n",
              "      <td>2.086283e+02</td>\n",
              "      <td>2017-09-30 05:50:23.356218368</td>\n",
              "    </tr>\n",
              "    <tr>\n",
              "      <th>min</th>\n",
              "      <td>NaN</td>\n",
              "      <td>NaN</td>\n",
              "      <td>2017-10-01 02:37:03</td>\n",
              "      <td>2.000000e+00</td>\n",
              "      <td>NaN</td>\n",
              "      <td>2017-10-01 03:00:00.026000</td>\n",
              "      <td>NaN</td>\n",
              "      <td>0.000000e+00</td>\n",
              "      <td>2006-12-20 00:00:00</td>\n",
              "    </tr>\n",
              "    <tr>\n",
              "      <th>25%</th>\n",
              "      <td>NaN</td>\n",
              "      <td>NaN</td>\n",
              "      <td>2017-10-04 13:35:52</td>\n",
              "      <td>2.000000e+00</td>\n",
              "      <td>NaN</td>\n",
              "      <td>2017-10-04 14:20:52.854000128</td>\n",
              "      <td>NaN</td>\n",
              "      <td>1.730000e+02</td>\n",
              "      <td>2017-10-03 17:56:13</td>\n",
              "    </tr>\n",
              "    <tr>\n",
              "      <th>50%</th>\n",
              "      <td>NaN</td>\n",
              "      <td>NaN</td>\n",
              "      <td>2017-10-08 20:09:00</td>\n",
              "      <td>3.000000e+00</td>\n",
              "      <td>NaN</td>\n",
              "      <td>2017-10-08 20:35:30.480999936</td>\n",
              "      <td>NaN</td>\n",
              "      <td>1.980000e+02</td>\n",
              "      <td>2017-10-07 19:10:41</td>\n",
              "    </tr>\n",
              "    <tr>\n",
              "      <th>75%</th>\n",
              "      <td>NaN</td>\n",
              "      <td>NaN</td>\n",
              "      <td>2017-10-11 19:16:54</td>\n",
              "      <td>4.000000e+00</td>\n",
              "      <td>NaN</td>\n",
              "      <td>2017-10-11 19:43:24.600999936</td>\n",
              "      <td>NaN</td>\n",
              "      <td>2.320000e+02</td>\n",
              "      <td>2017-10-11 10:10:51</td>\n",
              "    </tr>\n",
              "    <tr>\n",
              "      <th>max</th>\n",
              "      <td>NaN</td>\n",
              "      <td>NaN</td>\n",
              "      <td>2017-10-17 03:36:19</td>\n",
              "      <td>1.240000e+02</td>\n",
              "      <td>NaN</td>\n",
              "      <td>2017-11-13 20:04:14.886000</td>\n",
              "      <td>NaN</td>\n",
              "      <td>6.690000e+03</td>\n",
              "      <td>2017-11-14 13:26:54</td>\n",
              "    </tr>\n",
              "    <tr>\n",
              "      <th>std</th>\n",
              "      <td>NaN</td>\n",
              "      <td>NaN</td>\n",
              "      <td>NaN</td>\n",
              "      <td>3.929941e+00</td>\n",
              "      <td>NaN</td>\n",
              "      <td>NaN</td>\n",
              "      <td>NaN</td>\n",
              "      <td>8.160152e+01</td>\n",
              "      <td>NaN</td>\n",
              "    </tr>\n",
              "  </tbody>\n",
              "</table>\n",
              "</div>"
            ]
          },
          "metadata": {},
          "execution_count": 17
        }
      ]
    },
    {
      "cell_type": "markdown",
      "source": [
        "Il paraît étrange que les dates des sessions soient comprises entre le 01/10/2017 et le 17/10/2017 alors que certains clics ont une date jusqu'au 13/11/2017.\n",
        "\n",
        "On peut considérer que les sessions ont une validité maximum de 24h et donc enlever les sessions qui ont des clics plus de 24h après le début de la session."
      ],
      "metadata": {
        "id": "nxrlwoAcoKhL"
      }
    },
    {
      "cell_type": "code",
      "source": [
        "# Récupérer les lignes des clics invalides\n",
        "invalid_click = df[df['click_timestamp'] > df['session_start'] + pd.Timedelta(hours=24)]\n",
        "print(f\"Nb de clics invalides (plus de 24h après le début de la session) : {len(invalid_click)}\")"
      ],
      "metadata": {
        "colab": {
          "base_uri": "https://localhost:8080/"
        },
        "id": "IAnH0YqPQ6aD",
        "outputId": "a8eb3181-e24b-4112-fb94-6700275d8d39"
      },
      "execution_count": null,
      "outputs": [
        {
          "output_type": "stream",
          "name": "stdout",
          "text": [
            "Nb de clics invalides (plus de 24h après le début de la session) : 7331\n"
          ]
        }
      ]
    },
    {
      "cell_type": "code",
      "source": [
        "# Récupérer les session_id uniques des clics invalides\n",
        "invalid_sessions = invalid_click['session_id'].unique()\n",
        "print(f\"Nombre de sessions invalides : {len(invalid_sessions)}\")\n",
        "print(invalid_sessions)"
      ],
      "metadata": {
        "colab": {
          "base_uri": "https://localhost:8080/"
        },
        "id": "KmxQYZlaUG3b",
        "outputId": "818ba9ca-c19f-4e14-ade7-149bc9439cf7"
      },
      "execution_count": null,
      "outputs": [
        {
          "output_type": "stream",
          "name": "stdout",
          "text": [
            "Nombre de sessions invalides : 1585\n",
            "['1506826396181805' '1506828700132376' '1506838680312490' ...\n",
            " '1508204557329180' '1508208124139509' '1508209734334947']\n"
          ]
        }
      ]
    },
    {
      "cell_type": "code",
      "source": [
        "# Supprimer du DataFrame principal toutes les lignes de ces sessions invalides\n",
        "dfinal = df[~df['session_id'].isin(invalid_sessions)].copy()\n",
        "dfinal"
      ],
      "metadata": {
        "colab": {
          "base_uri": "https://localhost:8080/",
          "height": 423
        },
        "id": "Q6I3ZO3aVL0t",
        "outputId": "ff069785-4517-44a9-ddeb-0a43a47247b6"
      },
      "execution_count": null,
      "outputs": [
        {
          "output_type": "execute_result",
          "data": {
            "text/plain": [
              "        user_id        session_id       session_start  session_size  \\\n",
              "0             0  1506825423271737 2017-10-01 02:37:03             2   \n",
              "1             0  1506825423271737 2017-10-01 02:37:03             2   \n",
              "2             1  1506825426267738 2017-10-01 02:37:06             2   \n",
              "3             1  1506825426267738 2017-10-01 02:37:06             2   \n",
              "4             2  1506825435299739 2017-10-01 02:37:15             2   \n",
              "...         ...               ...                 ...           ...   \n",
              "2988176   10051  1508211372158328 2017-10-17 03:36:12             2   \n",
              "2988177  322896  1508211376302329 2017-10-17 03:36:16             2   \n",
              "2988178  322896  1508211376302329 2017-10-17 03:36:16             2   \n",
              "2988179  123718  1508211379189330 2017-10-17 03:36:19             2   \n",
              "2988180  123718  1508211379189330 2017-10-17 03:36:19             2   \n",
              "\n",
              "        article_id         click_timestamp article_category_id  \\\n",
              "0           157541 2017-10-01 03:00:28.020                 281   \n",
              "1            68866 2017-10-01 03:00:58.020                 136   \n",
              "2           235840 2017-10-01 03:03:37.951                 375   \n",
              "3            96663 2017-10-01 03:04:07.951                 209   \n",
              "4           119592 2017-10-01 03:04:50.575                 247   \n",
              "...            ...                     ...                 ...   \n",
              "2988176      84911 2017-10-17 03:39:17.302                 174   \n",
              "2988177      30760 2017-10-17 03:41:12.520                  26   \n",
              "2988178     157507 2017-10-17 03:41:42.520                 281   \n",
              "2988179     234481 2017-10-17 03:38:33.583                 375   \n",
              "2988180     233578 2017-10-17 03:39:03.583                 375   \n",
              "\n",
              "         article_words_count  article_created_at  \n",
              "0                        280 2017-09-30 19:41:58  \n",
              "1                        226 2017-10-01 00:08:02  \n",
              "2                        159 2017-09-30 21:43:59  \n",
              "3                        206 2017-09-30 16:13:45  \n",
              "4                        239 2017-09-30 15:11:56  \n",
              "...                      ...                 ...  \n",
              "2988176                  171 2017-10-16 21:00:19  \n",
              "2988177                  162 2017-10-16 20:18:11  \n",
              "2988178                  370 2017-10-17 10:42:25  \n",
              "2988179                  212 2017-10-16 19:19:32  \n",
              "2988180                  174 2017-10-16 17:46:50  \n",
              "\n",
              "[2976685 rows x 9 columns]"
            ],
            "text/html": [
              "<div>\n",
              "<style scoped>\n",
              "    .dataframe tbody tr th:only-of-type {\n",
              "        vertical-align: middle;\n",
              "    }\n",
              "\n",
              "    .dataframe tbody tr th {\n",
              "        vertical-align: top;\n",
              "    }\n",
              "\n",
              "    .dataframe thead th {\n",
              "        text-align: right;\n",
              "    }\n",
              "</style>\n",
              "<table border=\"1\" class=\"dataframe\">\n",
              "  <thead>\n",
              "    <tr style=\"text-align: right;\">\n",
              "      <th></th>\n",
              "      <th>user_id</th>\n",
              "      <th>session_id</th>\n",
              "      <th>session_start</th>\n",
              "      <th>session_size</th>\n",
              "      <th>article_id</th>\n",
              "      <th>click_timestamp</th>\n",
              "      <th>article_category_id</th>\n",
              "      <th>article_words_count</th>\n",
              "      <th>article_created_at</th>\n",
              "    </tr>\n",
              "  </thead>\n",
              "  <tbody>\n",
              "    <tr>\n",
              "      <th>0</th>\n",
              "      <td>0</td>\n",
              "      <td>1506825423271737</td>\n",
              "      <td>2017-10-01 02:37:03</td>\n",
              "      <td>2</td>\n",
              "      <td>157541</td>\n",
              "      <td>2017-10-01 03:00:28.020</td>\n",
              "      <td>281</td>\n",
              "      <td>280</td>\n",
              "      <td>2017-09-30 19:41:58</td>\n",
              "    </tr>\n",
              "    <tr>\n",
              "      <th>1</th>\n",
              "      <td>0</td>\n",
              "      <td>1506825423271737</td>\n",
              "      <td>2017-10-01 02:37:03</td>\n",
              "      <td>2</td>\n",
              "      <td>68866</td>\n",
              "      <td>2017-10-01 03:00:58.020</td>\n",
              "      <td>136</td>\n",
              "      <td>226</td>\n",
              "      <td>2017-10-01 00:08:02</td>\n",
              "    </tr>\n",
              "    <tr>\n",
              "      <th>2</th>\n",
              "      <td>1</td>\n",
              "      <td>1506825426267738</td>\n",
              "      <td>2017-10-01 02:37:06</td>\n",
              "      <td>2</td>\n",
              "      <td>235840</td>\n",
              "      <td>2017-10-01 03:03:37.951</td>\n",
              "      <td>375</td>\n",
              "      <td>159</td>\n",
              "      <td>2017-09-30 21:43:59</td>\n",
              "    </tr>\n",
              "    <tr>\n",
              "      <th>3</th>\n",
              "      <td>1</td>\n",
              "      <td>1506825426267738</td>\n",
              "      <td>2017-10-01 02:37:06</td>\n",
              "      <td>2</td>\n",
              "      <td>96663</td>\n",
              "      <td>2017-10-01 03:04:07.951</td>\n",
              "      <td>209</td>\n",
              "      <td>206</td>\n",
              "      <td>2017-09-30 16:13:45</td>\n",
              "    </tr>\n",
              "    <tr>\n",
              "      <th>4</th>\n",
              "      <td>2</td>\n",
              "      <td>1506825435299739</td>\n",
              "      <td>2017-10-01 02:37:15</td>\n",
              "      <td>2</td>\n",
              "      <td>119592</td>\n",
              "      <td>2017-10-01 03:04:50.575</td>\n",
              "      <td>247</td>\n",
              "      <td>239</td>\n",
              "      <td>2017-09-30 15:11:56</td>\n",
              "    </tr>\n",
              "    <tr>\n",
              "      <th>...</th>\n",
              "      <td>...</td>\n",
              "      <td>...</td>\n",
              "      <td>...</td>\n",
              "      <td>...</td>\n",
              "      <td>...</td>\n",
              "      <td>...</td>\n",
              "      <td>...</td>\n",
              "      <td>...</td>\n",
              "      <td>...</td>\n",
              "    </tr>\n",
              "    <tr>\n",
              "      <th>2988176</th>\n",
              "      <td>10051</td>\n",
              "      <td>1508211372158328</td>\n",
              "      <td>2017-10-17 03:36:12</td>\n",
              "      <td>2</td>\n",
              "      <td>84911</td>\n",
              "      <td>2017-10-17 03:39:17.302</td>\n",
              "      <td>174</td>\n",
              "      <td>171</td>\n",
              "      <td>2017-10-16 21:00:19</td>\n",
              "    </tr>\n",
              "    <tr>\n",
              "      <th>2988177</th>\n",
              "      <td>322896</td>\n",
              "      <td>1508211376302329</td>\n",
              "      <td>2017-10-17 03:36:16</td>\n",
              "      <td>2</td>\n",
              "      <td>30760</td>\n",
              "      <td>2017-10-17 03:41:12.520</td>\n",
              "      <td>26</td>\n",
              "      <td>162</td>\n",
              "      <td>2017-10-16 20:18:11</td>\n",
              "    </tr>\n",
              "    <tr>\n",
              "      <th>2988178</th>\n",
              "      <td>322896</td>\n",
              "      <td>1508211376302329</td>\n",
              "      <td>2017-10-17 03:36:16</td>\n",
              "      <td>2</td>\n",
              "      <td>157507</td>\n",
              "      <td>2017-10-17 03:41:42.520</td>\n",
              "      <td>281</td>\n",
              "      <td>370</td>\n",
              "      <td>2017-10-17 10:42:25</td>\n",
              "    </tr>\n",
              "    <tr>\n",
              "      <th>2988179</th>\n",
              "      <td>123718</td>\n",
              "      <td>1508211379189330</td>\n",
              "      <td>2017-10-17 03:36:19</td>\n",
              "      <td>2</td>\n",
              "      <td>234481</td>\n",
              "      <td>2017-10-17 03:38:33.583</td>\n",
              "      <td>375</td>\n",
              "      <td>212</td>\n",
              "      <td>2017-10-16 19:19:32</td>\n",
              "    </tr>\n",
              "    <tr>\n",
              "      <th>2988180</th>\n",
              "      <td>123718</td>\n",
              "      <td>1508211379189330</td>\n",
              "      <td>2017-10-17 03:36:19</td>\n",
              "      <td>2</td>\n",
              "      <td>233578</td>\n",
              "      <td>2017-10-17 03:39:03.583</td>\n",
              "      <td>375</td>\n",
              "      <td>174</td>\n",
              "      <td>2017-10-16 17:46:50</td>\n",
              "    </tr>\n",
              "  </tbody>\n",
              "</table>\n",
              "<p>2976685 rows × 9 columns</p>\n",
              "</div>"
            ]
          },
          "metadata": {},
          "execution_count": 20
        }
      ]
    },
    {
      "cell_type": "markdown",
      "source": [
        "De même, on peut considérer que les lignes consultant des articles à 0 mots ne sont également pas pertinentes pour comprendre les goûts des utilisateurs."
      ],
      "metadata": {
        "id": "BTEYsKTpa8h1"
      }
    },
    {
      "cell_type": "code",
      "source": [
        "article_empty = dfinal[dfinal['article_words_count'] == 0]\n",
        "print(f\"Nombre de lignes avec articles vides : {len(article_empty)}\")\n",
        "article_empty"
      ],
      "metadata": {
        "colab": {
          "base_uri": "https://localhost:8080/",
          "height": 442
        },
        "id": "7uxlzh4gcDXj",
        "outputId": "5946ff83-e57f-4f76-d8ee-58e46625c8db"
      },
      "execution_count": null,
      "outputs": [
        {
          "output_type": "stream",
          "name": "stdout",
          "text": [
            "Nombre de lignes avec articles vides : 64\n"
          ]
        },
        {
          "output_type": "execute_result",
          "data": {
            "text/plain": [
              "        user_id        session_id       session_start  session_size  \\\n",
              "40           16  1506825660149753 2017-10-01 02:41:00             7   \n",
              "7151       2621  1506848948202381 2017-10-01 09:09:08             3   \n",
              "9747       3559  1506852410644332 2017-10-01 10:06:50             2   \n",
              "10034      3654  1506852643582428 2017-10-01 10:10:43             2   \n",
              "13533      4925  1506855844127726 2017-10-01 11:04:04             5   \n",
              "...         ...               ...                 ...           ...   \n",
              "1165045  202366  1507299071590156 2017-10-06 14:11:11            22   \n",
              "1169593   15747  1507300634378688 2017-10-06 14:37:14             5   \n",
              "1180464  159029  1507304161117344 2017-10-06 15:36:01             2   \n",
              "1447217   93200  1507461447272644 2017-10-08 11:17:27             4   \n",
              "2705423  182137  1508058796712308 2017-10-15 09:13:16            12   \n",
              "\n",
              "        article_id         click_timestamp article_category_id  \\\n",
              "40          206233 2017-10-01 12:31:57.687                 331   \n",
              "7151        206233 2017-10-01 09:15:23.710                 331   \n",
              "9747        206233 2017-10-01 10:12:17.434                 331   \n",
              "10034       206233 2017-10-01 10:15:56.528                 331   \n",
              "13533       206233 2017-10-01 11:17:36.425                 331   \n",
              "...            ...                     ...                 ...   \n",
              "1165045     233934 2017-10-06 15:25:17.517                 375   \n",
              "1169593     233934 2017-10-06 14:55:55.023                 375   \n",
              "1180464     233934 2017-10-06 15:36:04.432                 375   \n",
              "1447217     315395 2017-10-08 12:11:45.854                 431   \n",
              "2705423      38472 2017-10-15 09:15:07.380                  51   \n",
              "\n",
              "         article_words_count  article_created_at  \n",
              "40                         0 2017-09-30 17:11:56  \n",
              "7151                       0 2017-09-30 17:11:56  \n",
              "9747                       0 2017-09-30 17:11:56  \n",
              "10034                      0 2017-09-30 17:11:56  \n",
              "13533                      0 2017-09-30 17:11:56  \n",
              "...                      ...                 ...  \n",
              "1165045                    0 2017-10-05 13:44:16  \n",
              "1169593                    0 2017-10-05 13:44:16  \n",
              "1180464                    0 2017-10-05 13:44:16  \n",
              "1447217                    0 2015-02-05 11:34:59  \n",
              "2705423                    0 2011-04-21 21:22:43  \n",
              "\n",
              "[64 rows x 9 columns]"
            ],
            "text/html": [
              "<div>\n",
              "<style scoped>\n",
              "    .dataframe tbody tr th:only-of-type {\n",
              "        vertical-align: middle;\n",
              "    }\n",
              "\n",
              "    .dataframe tbody tr th {\n",
              "        vertical-align: top;\n",
              "    }\n",
              "\n",
              "    .dataframe thead th {\n",
              "        text-align: right;\n",
              "    }\n",
              "</style>\n",
              "<table border=\"1\" class=\"dataframe\">\n",
              "  <thead>\n",
              "    <tr style=\"text-align: right;\">\n",
              "      <th></th>\n",
              "      <th>user_id</th>\n",
              "      <th>session_id</th>\n",
              "      <th>session_start</th>\n",
              "      <th>session_size</th>\n",
              "      <th>article_id</th>\n",
              "      <th>click_timestamp</th>\n",
              "      <th>article_category_id</th>\n",
              "      <th>article_words_count</th>\n",
              "      <th>article_created_at</th>\n",
              "    </tr>\n",
              "  </thead>\n",
              "  <tbody>\n",
              "    <tr>\n",
              "      <th>40</th>\n",
              "      <td>16</td>\n",
              "      <td>1506825660149753</td>\n",
              "      <td>2017-10-01 02:41:00</td>\n",
              "      <td>7</td>\n",
              "      <td>206233</td>\n",
              "      <td>2017-10-01 12:31:57.687</td>\n",
              "      <td>331</td>\n",
              "      <td>0</td>\n",
              "      <td>2017-09-30 17:11:56</td>\n",
              "    </tr>\n",
              "    <tr>\n",
              "      <th>7151</th>\n",
              "      <td>2621</td>\n",
              "      <td>1506848948202381</td>\n",
              "      <td>2017-10-01 09:09:08</td>\n",
              "      <td>3</td>\n",
              "      <td>206233</td>\n",
              "      <td>2017-10-01 09:15:23.710</td>\n",
              "      <td>331</td>\n",
              "      <td>0</td>\n",
              "      <td>2017-09-30 17:11:56</td>\n",
              "    </tr>\n",
              "    <tr>\n",
              "      <th>9747</th>\n",
              "      <td>3559</td>\n",
              "      <td>1506852410644332</td>\n",
              "      <td>2017-10-01 10:06:50</td>\n",
              "      <td>2</td>\n",
              "      <td>206233</td>\n",
              "      <td>2017-10-01 10:12:17.434</td>\n",
              "      <td>331</td>\n",
              "      <td>0</td>\n",
              "      <td>2017-09-30 17:11:56</td>\n",
              "    </tr>\n",
              "    <tr>\n",
              "      <th>10034</th>\n",
              "      <td>3654</td>\n",
              "      <td>1506852643582428</td>\n",
              "      <td>2017-10-01 10:10:43</td>\n",
              "      <td>2</td>\n",
              "      <td>206233</td>\n",
              "      <td>2017-10-01 10:15:56.528</td>\n",
              "      <td>331</td>\n",
              "      <td>0</td>\n",
              "      <td>2017-09-30 17:11:56</td>\n",
              "    </tr>\n",
              "    <tr>\n",
              "      <th>13533</th>\n",
              "      <td>4925</td>\n",
              "      <td>1506855844127726</td>\n",
              "      <td>2017-10-01 11:04:04</td>\n",
              "      <td>5</td>\n",
              "      <td>206233</td>\n",
              "      <td>2017-10-01 11:17:36.425</td>\n",
              "      <td>331</td>\n",
              "      <td>0</td>\n",
              "      <td>2017-09-30 17:11:56</td>\n",
              "    </tr>\n",
              "    <tr>\n",
              "      <th>...</th>\n",
              "      <td>...</td>\n",
              "      <td>...</td>\n",
              "      <td>...</td>\n",
              "      <td>...</td>\n",
              "      <td>...</td>\n",
              "      <td>...</td>\n",
              "      <td>...</td>\n",
              "      <td>...</td>\n",
              "      <td>...</td>\n",
              "    </tr>\n",
              "    <tr>\n",
              "      <th>1165045</th>\n",
              "      <td>202366</td>\n",
              "      <td>1507299071590156</td>\n",
              "      <td>2017-10-06 14:11:11</td>\n",
              "      <td>22</td>\n",
              "      <td>233934</td>\n",
              "      <td>2017-10-06 15:25:17.517</td>\n",
              "      <td>375</td>\n",
              "      <td>0</td>\n",
              "      <td>2017-10-05 13:44:16</td>\n",
              "    </tr>\n",
              "    <tr>\n",
              "      <th>1169593</th>\n",
              "      <td>15747</td>\n",
              "      <td>1507300634378688</td>\n",
              "      <td>2017-10-06 14:37:14</td>\n",
              "      <td>5</td>\n",
              "      <td>233934</td>\n",
              "      <td>2017-10-06 14:55:55.023</td>\n",
              "      <td>375</td>\n",
              "      <td>0</td>\n",
              "      <td>2017-10-05 13:44:16</td>\n",
              "    </tr>\n",
              "    <tr>\n",
              "      <th>1180464</th>\n",
              "      <td>159029</td>\n",
              "      <td>1507304161117344</td>\n",
              "      <td>2017-10-06 15:36:01</td>\n",
              "      <td>2</td>\n",
              "      <td>233934</td>\n",
              "      <td>2017-10-06 15:36:04.432</td>\n",
              "      <td>375</td>\n",
              "      <td>0</td>\n",
              "      <td>2017-10-05 13:44:16</td>\n",
              "    </tr>\n",
              "    <tr>\n",
              "      <th>1447217</th>\n",
              "      <td>93200</td>\n",
              "      <td>1507461447272644</td>\n",
              "      <td>2017-10-08 11:17:27</td>\n",
              "      <td>4</td>\n",
              "      <td>315395</td>\n",
              "      <td>2017-10-08 12:11:45.854</td>\n",
              "      <td>431</td>\n",
              "      <td>0</td>\n",
              "      <td>2015-02-05 11:34:59</td>\n",
              "    </tr>\n",
              "    <tr>\n",
              "      <th>2705423</th>\n",
              "      <td>182137</td>\n",
              "      <td>1508058796712308</td>\n",
              "      <td>2017-10-15 09:13:16</td>\n",
              "      <td>12</td>\n",
              "      <td>38472</td>\n",
              "      <td>2017-10-15 09:15:07.380</td>\n",
              "      <td>51</td>\n",
              "      <td>0</td>\n",
              "      <td>2011-04-21 21:22:43</td>\n",
              "    </tr>\n",
              "  </tbody>\n",
              "</table>\n",
              "<p>64 rows × 9 columns</p>\n",
              "</div>"
            ]
          },
          "metadata": {},
          "execution_count": 21
        }
      ]
    },
    {
      "cell_type": "code",
      "source": [
        "# dfinal = dfinal.drop(dfinal[dfinal['article_words_count'] == 0].index)\n",
        "# dfinal"
      ],
      "metadata": {
        "id": "R8NrUvJcbMD0"
      },
      "execution_count": null,
      "outputs": []
    },
    {
      "cell_type": "code",
      "source": [
        "dfinal.describe(include='all')"
      ],
      "metadata": {
        "colab": {
          "base_uri": "https://localhost:8080/",
          "height": 394
        },
        "id": "lRUCQI_CWH39",
        "outputId": "feba6d8e-dcd2-4364-bdd3-b94359298564"
      },
      "execution_count": null,
      "outputs": [
        {
          "output_type": "execute_result",
          "data": {
            "text/plain": [
              "        user_id        session_id                  session_start  \\\n",
              "count   2976685           2976685                        2976685   \n",
              "unique   322627           1047009                            NaN   \n",
              "top        5890  1507563657895091                            NaN   \n",
              "freq       1232               124                            NaN   \n",
              "mean        NaN               NaN  2017-10-08 14:18:09.318302720   \n",
              "min         NaN               NaN            2017-10-01 02:37:03   \n",
              "25%         NaN               NaN            2017-10-04 13:37:08   \n",
              "50%         NaN               NaN            2017-10-08 20:10:05   \n",
              "75%         NaN               NaN            2017-10-11 19:17:40   \n",
              "max         NaN               NaN            2017-10-17 03:36:19   \n",
              "std         NaN               NaN                            NaN   \n",
              "\n",
              "        session_size article_id                click_timestamp  \\\n",
              "count   2.976685e+06    2976685                        2976685   \n",
              "unique           NaN      45547                            NaN   \n",
              "top              NaN     160974                            NaN   \n",
              "freq             NaN      37140                            NaN   \n",
              "mean    3.859781e+00        NaN  2017-10-08 14:41:46.420856576   \n",
              "min     2.000000e+00        NaN     2017-10-01 03:00:00.026000   \n",
              "25%     2.000000e+00        NaN  2017-10-04 14:16:11.108999936   \n",
              "50%     3.000000e+00        NaN  2017-10-08 20:24:59.169999872   \n",
              "75%     4.000000e+00        NaN  2017-10-11 19:40:34.022000128   \n",
              "max     1.240000e+02        NaN     2017-10-18 00:59:45.692000   \n",
              "std     3.743679e+00        NaN                            NaN   \n",
              "\n",
              "       article_category_id  article_words_count             article_created_at  \n",
              "count              2976685         2.976685e+06                        2976685  \n",
              "unique                 315                  NaN                            NaN  \n",
              "top                    281                  NaN                            NaN  \n",
              "freq                369492                  NaN                            NaN  \n",
              "mean                   NaN         2.086449e+02  2017-09-30 05:38:21.842800128  \n",
              "min                    NaN         0.000000e+00            2006-12-20 00:00:00  \n",
              "25%                    NaN         1.730000e+02            2017-10-03 17:41:21  \n",
              "50%                    NaN         1.980000e+02            2017-10-07 18:17:39  \n",
              "75%                    NaN         2.320000e+02            2017-10-11 09:52:04  \n",
              "max                    NaN         6.690000e+03            2017-11-06 06:20:18  \n",
              "std                    NaN         8.167375e+01                            NaN  "
            ],
            "text/html": [
              "<div>\n",
              "<style scoped>\n",
              "    .dataframe tbody tr th:only-of-type {\n",
              "        vertical-align: middle;\n",
              "    }\n",
              "\n",
              "    .dataframe tbody tr th {\n",
              "        vertical-align: top;\n",
              "    }\n",
              "\n",
              "    .dataframe thead th {\n",
              "        text-align: right;\n",
              "    }\n",
              "</style>\n",
              "<table border=\"1\" class=\"dataframe\">\n",
              "  <thead>\n",
              "    <tr style=\"text-align: right;\">\n",
              "      <th></th>\n",
              "      <th>user_id</th>\n",
              "      <th>session_id</th>\n",
              "      <th>session_start</th>\n",
              "      <th>session_size</th>\n",
              "      <th>article_id</th>\n",
              "      <th>click_timestamp</th>\n",
              "      <th>article_category_id</th>\n",
              "      <th>article_words_count</th>\n",
              "      <th>article_created_at</th>\n",
              "    </tr>\n",
              "  </thead>\n",
              "  <tbody>\n",
              "    <tr>\n",
              "      <th>count</th>\n",
              "      <td>2976685</td>\n",
              "      <td>2976685</td>\n",
              "      <td>2976685</td>\n",
              "      <td>2.976685e+06</td>\n",
              "      <td>2976685</td>\n",
              "      <td>2976685</td>\n",
              "      <td>2976685</td>\n",
              "      <td>2.976685e+06</td>\n",
              "      <td>2976685</td>\n",
              "    </tr>\n",
              "    <tr>\n",
              "      <th>unique</th>\n",
              "      <td>322627</td>\n",
              "      <td>1047009</td>\n",
              "      <td>NaN</td>\n",
              "      <td>NaN</td>\n",
              "      <td>45547</td>\n",
              "      <td>NaN</td>\n",
              "      <td>315</td>\n",
              "      <td>NaN</td>\n",
              "      <td>NaN</td>\n",
              "    </tr>\n",
              "    <tr>\n",
              "      <th>top</th>\n",
              "      <td>5890</td>\n",
              "      <td>1507563657895091</td>\n",
              "      <td>NaN</td>\n",
              "      <td>NaN</td>\n",
              "      <td>160974</td>\n",
              "      <td>NaN</td>\n",
              "      <td>281</td>\n",
              "      <td>NaN</td>\n",
              "      <td>NaN</td>\n",
              "    </tr>\n",
              "    <tr>\n",
              "      <th>freq</th>\n",
              "      <td>1232</td>\n",
              "      <td>124</td>\n",
              "      <td>NaN</td>\n",
              "      <td>NaN</td>\n",
              "      <td>37140</td>\n",
              "      <td>NaN</td>\n",
              "      <td>369492</td>\n",
              "      <td>NaN</td>\n",
              "      <td>NaN</td>\n",
              "    </tr>\n",
              "    <tr>\n",
              "      <th>mean</th>\n",
              "      <td>NaN</td>\n",
              "      <td>NaN</td>\n",
              "      <td>2017-10-08 14:18:09.318302720</td>\n",
              "      <td>3.859781e+00</td>\n",
              "      <td>NaN</td>\n",
              "      <td>2017-10-08 14:41:46.420856576</td>\n",
              "      <td>NaN</td>\n",
              "      <td>2.086449e+02</td>\n",
              "      <td>2017-09-30 05:38:21.842800128</td>\n",
              "    </tr>\n",
              "    <tr>\n",
              "      <th>min</th>\n",
              "      <td>NaN</td>\n",
              "      <td>NaN</td>\n",
              "      <td>2017-10-01 02:37:03</td>\n",
              "      <td>2.000000e+00</td>\n",
              "      <td>NaN</td>\n",
              "      <td>2017-10-01 03:00:00.026000</td>\n",
              "      <td>NaN</td>\n",
              "      <td>0.000000e+00</td>\n",
              "      <td>2006-12-20 00:00:00</td>\n",
              "    </tr>\n",
              "    <tr>\n",
              "      <th>25%</th>\n",
              "      <td>NaN</td>\n",
              "      <td>NaN</td>\n",
              "      <td>2017-10-04 13:37:08</td>\n",
              "      <td>2.000000e+00</td>\n",
              "      <td>NaN</td>\n",
              "      <td>2017-10-04 14:16:11.108999936</td>\n",
              "      <td>NaN</td>\n",
              "      <td>1.730000e+02</td>\n",
              "      <td>2017-10-03 17:41:21</td>\n",
              "    </tr>\n",
              "    <tr>\n",
              "      <th>50%</th>\n",
              "      <td>NaN</td>\n",
              "      <td>NaN</td>\n",
              "      <td>2017-10-08 20:10:05</td>\n",
              "      <td>3.000000e+00</td>\n",
              "      <td>NaN</td>\n",
              "      <td>2017-10-08 20:24:59.169999872</td>\n",
              "      <td>NaN</td>\n",
              "      <td>1.980000e+02</td>\n",
              "      <td>2017-10-07 18:17:39</td>\n",
              "    </tr>\n",
              "    <tr>\n",
              "      <th>75%</th>\n",
              "      <td>NaN</td>\n",
              "      <td>NaN</td>\n",
              "      <td>2017-10-11 19:17:40</td>\n",
              "      <td>4.000000e+00</td>\n",
              "      <td>NaN</td>\n",
              "      <td>2017-10-11 19:40:34.022000128</td>\n",
              "      <td>NaN</td>\n",
              "      <td>2.320000e+02</td>\n",
              "      <td>2017-10-11 09:52:04</td>\n",
              "    </tr>\n",
              "    <tr>\n",
              "      <th>max</th>\n",
              "      <td>NaN</td>\n",
              "      <td>NaN</td>\n",
              "      <td>2017-10-17 03:36:19</td>\n",
              "      <td>1.240000e+02</td>\n",
              "      <td>NaN</td>\n",
              "      <td>2017-10-18 00:59:45.692000</td>\n",
              "      <td>NaN</td>\n",
              "      <td>6.690000e+03</td>\n",
              "      <td>2017-11-06 06:20:18</td>\n",
              "    </tr>\n",
              "    <tr>\n",
              "      <th>std</th>\n",
              "      <td>NaN</td>\n",
              "      <td>NaN</td>\n",
              "      <td>NaN</td>\n",
              "      <td>3.743679e+00</td>\n",
              "      <td>NaN</td>\n",
              "      <td>NaN</td>\n",
              "      <td>NaN</td>\n",
              "      <td>8.167375e+01</td>\n",
              "      <td>NaN</td>\n",
              "    </tr>\n",
              "  </tbody>\n",
              "</table>\n",
              "</div>"
            ]
          },
          "metadata": {},
          "execution_count": 23
        }
      ]
    },
    {
      "cell_type": "markdown",
      "source": [
        "Notre dataframe final contient 2976685 lignes de clics, de 322627 utilisateurs et de leurs 1047009 sessions.\n",
        "\n",
        "Le nombre moyen de clics par session, portés par la colonne \"session_size\",  est de 3.9 clicls avec un minimum de 2 et un maximum de 124.\n",
        "\n",
        "Les utilisateurs ont cliqués sur 45547 articles différents appartenant à 315 catégories différentes.\n",
        "\n",
        "Le nombre moyen de mots des articles consultés est d'environ 209 mots avec un minimum de 0 et un maximum de 6690.\n",
        "\n",
        "## Analyse exploratoire univariée :\n",
        "\n",
        "Les variables catégorielles sont des identifiants qui ont trop de valeurs pour qu'elles soient pertinentes à analyser.\n",
        "\n",
        "### Session_start"
      ],
      "metadata": {
        "id": "krkxV2rhZB3X"
      }
    },
    {
      "cell_type": "code",
      "source": [
        "session_per_day = dfinal['session_start'].dt.date.value_counts().sort_index()\n",
        "session_per_day.plot(figsize=(12,5),kind='bar', title=\"Volume de sessions par jour\")"
      ],
      "metadata": {
        "colab": {
          "base_uri": "https://localhost:8080/",
          "height": 572
        },
        "id": "W6qmUWb7XmwD",
        "outputId": "2f9cc2e0-cb72-41dc-b3db-3e3c1bf96c1c"
      },
      "execution_count": null,
      "outputs": [
        {
          "output_type": "execute_result",
          "data": {
            "text/plain": [
              "<Axes: title={'center': 'Volume de sessions par jour'}, xlabel='session_start'>"
            ]
          },
          "metadata": {},
          "execution_count": 24
        },
        {
          "output_type": "display_data",
          "data": {
            "text/plain": [
              "<Figure size 1200x500 with 1 Axes>"
            ],
            "image/png": "[encoded data removed]"
          },
          "metadata": {}
        }
      ]
    },
    {
      "cell_type": "code",
      "source": [
        "session_per_number_day = dfinal['session_start'].dt.day_name()\n",
        "session_per_number_day.value_counts().reindex(['Monday','Tuesday','Wednesday','Thursday','Friday','Saturday','Sunday']).plot(kind='bar', title=\"Sessions par jour de la semaine\")"
      ],
      "metadata": {
        "colab": {
          "base_uri": "https://localhost:8080/",
          "height": 556
        },
        "id": "QWWgtlSIUXUj",
        "outputId": "99f6c050-4359-464a-dc05-999968be9b32"
      },
      "execution_count": null,
      "outputs": [
        {
          "output_type": "execute_result",
          "data": {
            "text/plain": [
              "<Axes: title={'center': 'Sessions par jour de la semaine'}, xlabel='session_start'>"
            ]
          },
          "metadata": {},
          "execution_count": 25
        },
        {
          "output_type": "display_data",
          "data": {
            "text/plain": [
              "<Figure size 640x480 with 1 Axes>"
            ],
            "image/png": "[encoded data removed]"
          },
          "metadata": {}
        }
      ]
    },
    {
      "cell_type": "code",
      "source": [
        "session_per_hour = dfinal['session_start'].dt.hour\n",
        "dfinal['session_start'].dt.hour.value_counts().sort_index().plot(kind='bar', title=\"Sessions par heure du jour\")"
      ],
      "metadata": {
        "colab": {
          "base_uri": "https://localhost:8080/",
          "height": 494
        },
        "id": "GVsjGQWOXSeG",
        "outputId": "091a7f8a-6fe8-46d5-89c8-9ec83e6f274f"
      },
      "execution_count": null,
      "outputs": [
        {
          "output_type": "execute_result",
          "data": {
            "text/plain": [
              "<Axes: title={'center': 'Sessions par heure du jour'}, xlabel='session_start'>"
            ]
          },
          "metadata": {},
          "execution_count": 26
        },
        {
          "output_type": "display_data",
          "data": {
            "text/plain": [
              "<Figure size 640x480 with 1 Axes>"
            ],
            "image/png": "[encoded data removed]"
          },
          "metadata": {}
        }
      ]
    },
    {
      "cell_type": "markdown",
      "source": [
        "Nous avons les sessions des 17 premiers jours du mois d'octobre 2017. Le nombre de sessions par jour est plutôt fluctuant mais on peut voir qu'il y a moins de sessions ouvertes le week-end.\n",
        "\n",
        "Il y a également moins d'ouverture de sessions entre 2 heures et 10 heures.\n",
        "\n",
        "### Click_timestamp"
      ],
      "metadata": {
        "id": "ifr6ZlSVBTJO"
      }
    },
    {
      "cell_type": "code",
      "source": [
        "clic_per_day = dfinal['click_timestamp'].dt.date.value_counts().sort_index()\n",
        "clic_per_day.plot(figsize=(12,5),kind='bar', title=\"Volume de clics par jour\")"
      ],
      "metadata": {
        "colab": {
          "base_uri": "https://localhost:8080/",
          "height": 572
        },
        "id": "I49deuGnUadp",
        "outputId": "8e190ec5-bf15-408c-8839-0bc1bee5fa0b"
      },
      "execution_count": null,
      "outputs": [
        {
          "output_type": "execute_result",
          "data": {
            "text/plain": [
              "<Axes: title={'center': 'Volume de clics par jour'}, xlabel='click_timestamp'>"
            ]
          },
          "metadata": {},
          "execution_count": 27
        },
        {
          "output_type": "display_data",
          "data": {
            "text/plain": [
              "<Figure size 1200x500 with 1 Axes>"
            ],
            "image/png": "[encoded data removed]"
          },
          "metadata": {}
        }
      ]
    },
    {
      "cell_type": "code",
      "source": [
        "clic_per_number_day = dfinal['click_timestamp'].dt.day_name()\n",
        "clic_per_number_day.value_counts().reindex(['Monday','Tuesday','Wednesday','Thursday','Friday','Saturday','Sunday']).plot(kind='bar', title=\"Clics par jour de la semaine\")"
      ],
      "metadata": {
        "colab": {
          "base_uri": "https://localhost:8080/",
          "height": 556
        },
        "id": "I5RmlT99O-dv",
        "outputId": "1c79dd32-ab0e-4482-cb96-0dad0f0bac92"
      },
      "execution_count": null,
      "outputs": [
        {
          "output_type": "execute_result",
          "data": {
            "text/plain": [
              "<Axes: title={'center': 'Clics par jour de la semaine'}, xlabel='click_timestamp'>"
            ]
          },
          "metadata": {},
          "execution_count": 28
        },
        {
          "output_type": "display_data",
          "data": {
            "text/plain": [
              "<Figure size 640x480 with 1 Axes>"
            ],
            "image/png": "[encoded data removed]"
          },
          "metadata": {}
        }
      ]
    },
    {
      "cell_type": "code",
      "source": [
        "clic_per_hour = dfinal['click_timestamp'].dt.hour\n",
        "dfinal['click_timestamp'].dt.hour.value_counts().sort_index().plot(kind='bar', title=\"Clics par heure du jour\")"
      ],
      "metadata": {
        "colab": {
          "base_uri": "https://localhost:8080/",
          "height": 494
        },
        "id": "eZvvcNponb6z",
        "outputId": "eaddd837-1f10-4597-face-8d9e23759ddc"
      },
      "execution_count": null,
      "outputs": [
        {
          "output_type": "execute_result",
          "data": {
            "text/plain": [
              "<Axes: title={'center': 'Clics par heure du jour'}, xlabel='click_timestamp'>"
            ]
          },
          "metadata": {},
          "execution_count": 29
        },
        {
          "output_type": "display_data",
          "data": {
            "text/plain": [
              "<Figure size 640x480 with 1 Axes>"
            ],
            "image/png": "[encoded data removed]"
          },
          "metadata": {}
        }
      ]
    },
    {
      "cell_type": "markdown",
      "source": [
        "On a les mêmes distributions pour les clics que pour les sessions ce qui est logique.\n",
        "\n",
        "### Article_created_at"
      ],
      "metadata": {
        "id": "AJxJ0-TMnzGe"
      }
    },
    {
      "cell_type": "code",
      "source": [
        "df_creation_article = pd.DataFrame()\n",
        "df_creation_article['jour'] = dfinal['article_created_at'].dt.day.astype(str)\n",
        "df_creation_article['mois'] = dfinal['article_created_at'].dt.month.astype(str)\n",
        "df_creation_article['annee'] = dfinal['article_created_at'].dt.year.astype(str)\n",
        "df_creation_article['mois_annee'] = df_creation_article['mois'].str.cat(df_creation_article['annee'] , sep='-')\n",
        "df_creation_article"
      ],
      "metadata": {
        "colab": {
          "base_uri": "https://localhost:8080/",
          "height": 423
        },
        "id": "1WHt3eHJs9JM",
        "outputId": "6021b396-8256-4578-cea0-f87393154580"
      },
      "execution_count": null,
      "outputs": [
        {
          "output_type": "execute_result",
          "data": {
            "text/plain": [
              "        jour mois annee mois_annee\n",
              "0         30    9  2017     9-2017\n",
              "1          1   10  2017    10-2017\n",
              "2         30    9  2017     9-2017\n",
              "3         30    9  2017     9-2017\n",
              "4         30    9  2017     9-2017\n",
              "...      ...  ...   ...        ...\n",
              "2988176   16   10  2017    10-2017\n",
              "2988177   16   10  2017    10-2017\n",
              "2988178   17   10  2017    10-2017\n",
              "2988179   16   10  2017    10-2017\n",
              "2988180   16   10  2017    10-2017\n",
              "\n",
              "[2976685 rows x 4 columns]"
            ],
            "text/html": [
              "<div>\n",
              "<style scoped>\n",
              "    .dataframe tbody tr th:only-of-type {\n",
              "        vertical-align: middle;\n",
              "    }\n",
              "\n",
              "    .dataframe tbody tr th {\n",
              "        vertical-align: top;\n",
              "    }\n",
              "\n",
              "    .dataframe thead th {\n",
              "        text-align: right;\n",
              "    }\n",
              "</style>\n",
              "<table border=\"1\" class=\"dataframe\">\n",
              "  <thead>\n",
              "    <tr style=\"text-align: right;\">\n",
              "      <th></th>\n",
              "      <th>jour</th>\n",
              "      <th>mois</th>\n",
              "      <th>annee</th>\n",
              "      <th>mois_annee</th>\n",
              "    </tr>\n",
              "  </thead>\n",
              "  <tbody>\n",
              "    <tr>\n",
              "      <th>0</th>\n",
              "      <td>30</td>\n",
              "      <td>9</td>\n",
              "      <td>2017</td>\n",
              "      <td>9-2017</td>\n",
              "    </tr>\n",
              "    <tr>\n",
              "      <th>1</th>\n",
              "      <td>1</td>\n",
              "      <td>10</td>\n",
              "      <td>2017</td>\n",
              "      <td>10-2017</td>\n",
              "    </tr>\n",
              "    <tr>\n",
              "      <th>2</th>\n",
              "      <td>30</td>\n",
              "      <td>9</td>\n",
              "      <td>2017</td>\n",
              "      <td>9-2017</td>\n",
              "    </tr>\n",
              "    <tr>\n",
              "      <th>3</th>\n",
              "      <td>30</td>\n",
              "      <td>9</td>\n",
              "      <td>2017</td>\n",
              "      <td>9-2017</td>\n",
              "    </tr>\n",
              "    <tr>\n",
              "      <th>4</th>\n",
              "      <td>30</td>\n",
              "      <td>9</td>\n",
              "      <td>2017</td>\n",
              "      <td>9-2017</td>\n",
              "    </tr>\n",
              "    <tr>\n",
              "      <th>...</th>\n",
              "      <td>...</td>\n",
              "      <td>...</td>\n",
              "      <td>...</td>\n",
              "      <td>...</td>\n",
              "    </tr>\n",
              "    <tr>\n",
              "      <th>2988176</th>\n",
              "      <td>16</td>\n",
              "      <td>10</td>\n",
              "      <td>2017</td>\n",
              "      <td>10-2017</td>\n",
              "    </tr>\n",
              "    <tr>\n",
              "      <th>2988177</th>\n",
              "      <td>16</td>\n",
              "      <td>10</td>\n",
              "      <td>2017</td>\n",
              "      <td>10-2017</td>\n",
              "    </tr>\n",
              "    <tr>\n",
              "      <th>2988178</th>\n",
              "      <td>17</td>\n",
              "      <td>10</td>\n",
              "      <td>2017</td>\n",
              "      <td>10-2017</td>\n",
              "    </tr>\n",
              "    <tr>\n",
              "      <th>2988179</th>\n",
              "      <td>16</td>\n",
              "      <td>10</td>\n",
              "      <td>2017</td>\n",
              "      <td>10-2017</td>\n",
              "    </tr>\n",
              "    <tr>\n",
              "      <th>2988180</th>\n",
              "      <td>16</td>\n",
              "      <td>10</td>\n",
              "      <td>2017</td>\n",
              "      <td>10-2017</td>\n",
              "    </tr>\n",
              "  </tbody>\n",
              "</table>\n",
              "<p>2976685 rows × 4 columns</p>\n",
              "</div>"
            ]
          },
          "metadata": {},
          "execution_count": 36
        }
      ]
    },
    {
      "cell_type": "code",
      "source": [
        "article_creation_per_year = df_creation_article['annee'].value_counts().sort_index()\n",
        "article_creation_per_year.plot(figsize=(12,5),kind='bar', title=\"Volume d'article créés par an\")"
      ],
      "metadata": {
        "colab": {
          "base_uri": "https://localhost:8080/",
          "height": 527
        },
        "id": "QBApuqrFrDS1",
        "outputId": "d92cf12b-cbdb-4735-a10e-6d70d4f8d75c"
      },
      "execution_count": null,
      "outputs": [
        {
          "output_type": "execute_result",
          "data": {
            "text/plain": [
              "<Axes: title={'center': \"Volume d'article créés par an\"}, xlabel='annee'>"
            ]
          },
          "metadata": {},
          "execution_count": 31
        },
        {
          "output_type": "display_data",
          "data": {
            "text/plain": [
              "<Figure size 1200x500 with 1 Axes>"
            ],
            "image/png": "[encoded data removed]"
          },
          "metadata": {}
        }
      ]
    },
    {
      "cell_type": "markdown",
      "source": [
        "Quasiment la totalité des articles a été créé en 2017. Etudions plus cette année là :"
      ],
      "metadata": {
        "id": "Qt4tF_luvgrG"
      }
    },
    {
      "cell_type": "code",
      "source": [
        "# Filtrer uniquement 2017\n",
        "article_creation_2017 = df_creation_article[df_creation_article['annee'] == '2017']\n",
        "\n",
        "# Ordre des mois\n",
        "order = ['1-2017', '2-2017', '3-2017', '4-2017', '5-2017', '6-2017', '7-2017', '8-2017', '9-2017', '10-2017', '11-2017']\n",
        "\n",
        "# Forcer l'ordre dans la colonne\n",
        "article_creation_2017['mois_annee'] = pd.Categorical(\n",
        "    article_creation_2017['mois_annee'],\n",
        "    categories=order,\n",
        "    ordered=True\n",
        ")\n",
        "\n",
        "# Compter les valeurs en respectant l'ordre défini\n",
        "article_creation_2017_per_month = (\n",
        "    article_creation_2017['mois_annee']\n",
        "    .value_counts()\n",
        "    .reindex(order) # respecte l'ordre défini\n",
        ")\n",
        "\n",
        "# Tracer\n",
        "article_creation_2017_per_month.plot(\n",
        "    figsize=(12,5),\n",
        "    kind='bar',\n",
        "    title=\"Volume d'articles créés par mois sur 2017\"\n",
        ")"
      ],
      "metadata": {
        "colab": {
          "base_uri": "https://localhost:8080/",
          "height": 550
        },
        "id": "oXNkZjt8vfCY",
        "outputId": "69ed958d-9e72-4f11-a9e1-3d7ce65fe20e"
      },
      "execution_count": null,
      "outputs": [
        {
          "output_type": "execute_result",
          "data": {
            "text/plain": [
              "<Axes: title={'center': \"Volume d'articles créés par mois sur 2017\"}, xlabel='mois_annee'>"
            ]
          },
          "metadata": {},
          "execution_count": 33
        },
        {
          "output_type": "display_data",
          "data": {
            "text/plain": [
              "<Figure size 1200x500 with 1 Axes>"
            ],
            "image/png": "[encoded data removed]"
          },
          "metadata": {}
        }
      ]
    },
    {
      "cell_type": "markdown",
      "source": [
        "Quasiment la totalité des articles a été créé au mois d'octobre 2017. Etudions plus ce mois là :"
      ],
      "metadata": {
        "id": "9dnsYMEN9fZu"
      }
    },
    {
      "cell_type": "code",
      "source": [
        "article_creation_oct_2017 = df_creation_article[df_creation_article['mois_annee'] == '10-2017']\n",
        "# Ordre des mois\n",
        "order = ['1', '2', '3', '4', '5', '6', '7', '8', '9', '10', '11', '12', '13', '14', '15', '16', '17', '18', '19', '20', '21', '22', '26']\n",
        "\n",
        "# Forcer l'ordre dans la colonne\n",
        "article_creation_oct_2017['jour'] = pd.Categorical(\n",
        "    article_creation_oct_2017['jour'],\n",
        "    categories=order,\n",
        "    ordered=True\n",
        ")\n",
        "\n",
        "# Compter les valeurs en respectant l'ordre défini\n",
        "article_creation_oct_2017_per_day = (\n",
        "    article_creation_oct_2017['jour']\n",
        "    .value_counts()\n",
        "    .reindex(order) # respecte l'ordre défini\n",
        ")\n",
        "\n",
        "# Tracer\n",
        "article_creation_oct_2017_per_day.plot(\n",
        "    figsize=(12,5),\n",
        "    kind='bar',\n",
        "    title=\"Volume d'articles créés par jour sur le mois d'octobre 2017\"\n",
        ")"
      ],
      "metadata": {
        "colab": {
          "base_uri": "https://localhost:8080/",
          "height": 509
        },
        "id": "upfsWo_l-HB2",
        "outputId": "2b1a0cd5-f28a-47bf-b9cb-c2a6d1837862"
      },
      "execution_count": null,
      "outputs": [
        {
          "output_type": "execute_result",
          "data": {
            "text/plain": [
              "<Axes: title={'center': \"Volume d'articles créés par jour sur le mois d'octobre 2017\"}, xlabel='jour'>"
            ]
          },
          "metadata": {},
          "execution_count": 38
        },
        {
          "output_type": "display_data",
          "data": {
            "text/plain": [
              "<Figure size 1200x500 with 1 Axes>"
            ],
            "image/png": "[encoded data removed]"
          },
          "metadata": {}
        }
      ]
    },
    {
      "cell_type": "markdown",
      "source": [
        "La création des articles s'est fait au fur et à mesure, donc chaque jour les utilisateurs peuvent accéder à de nouveaux articles.\n",
        "\n",
        "Il y a un peu moins de création d'articles le week-end.\n",
        "\n",
        "### Session_size"
      ],
      "metadata": {
        "id": "V37J3Z6HAekN"
      }
    },
    {
      "cell_type": "code",
      "source": [
        "def describe_data_quant(data: pd.DataFrame,\n",
        "                    col: str) :\n",
        "    '''Génère des statistiques descriptives et leurs visualisation graphiques pour une colonne d'un dataframe\n",
        "    Args:\n",
        "        data (pd.DataFrame): Dataframe contenant les données à analyser\n",
        "        col (str): Nom de la colonne que l'on veut analyser\n",
        "    Sortie:\n",
        "        Boxplot de la distribution de la colonne\n",
        "        Histogramme de la distribution de la colonne\n",
        "        pd.DataFrame: Affichage des statistiques descriptives sous forme d'un dataframe\n",
        "    '''\n",
        "    # Calcul des statistiques descriptives\n",
        "    data_des = data.describe()\n",
        "\n",
        "    # Création d'un dataframe avec les statistiques descriptives\n",
        "    df = pd.DataFrame({\n",
        "        'Caractéristiques': data_des[col].index,\n",
        "        'Valeurs': data_des[col].values\n",
        "    })\n",
        "\n",
        "    sns.set_style(\"whitegrid\")\n",
        "\n",
        "    # Boxplot\n",
        "    plt.figure(figsize=(8, 6))\n",
        "    ax = sns.boxplot(x=data[col])\n",
        "    plt.title(f'Boxplot de {col}')\n",
        "    plt.show()\n",
        "\n",
        "    # Histogramme\n",
        "    plt.figure(figsize=(9, 8))\n",
        "    sns.distplot(data[col], color='blue', kde=True)\n",
        "    plt.title(f'Distribution de {col}')\n",
        "    plt.ylabel(\"Fréquence de la donnée\")\n",
        "    plt.grid()\n",
        "    plt.show()\n",
        "\n",
        "    return df.style.set_caption(f'Caractéristiques de {col}')"
      ],
      "metadata": {
        "id": "LztzFZTgBPP1"
      },
      "execution_count": null,
      "outputs": []
    },
    {
      "cell_type": "code",
      "source": [
        "describe_data_quant(dfinal, 'session_size')"
      ],
      "metadata": {
        "colab": {
          "base_uri": "https://localhost:8080/",
          "height": 1000
        },
        "id": "K60AWOeTCnCu",
        "outputId": "81610103-e9ff-4400-bdf2-9f51c981c4dc"
      },
      "execution_count": null,
      "outputs": [
        {
          "output_type": "display_data",
          "data": {
            "text/plain": [
              "<Figure size 800x600 with 1 Axes>"
            ],
            "image/png": "[encoded data removed]"
          },
          "metadata": {}
        },
        {
          "output_type": "display_data",
          "data": {
            "text/plain": [
              "<Figure size 900x800 with 1 Axes>"
            ],
            "image/png": "[encoded data removed]"
          },
          "metadata": {}
        },
        {
          "output_type": "execute_result",
          "data": {
            "text/plain": [
              "<pandas.io.formats.style.Styler at 0x242800d97f0>"
            ],
            "text/html": [
              "<style type=\"text/css\">\n",
              "</style>\n",
              "<table id=\"T_5de68\">\n",
              "  <caption>Caractéristiques de session_size</caption>\n",
              "  <thead>\n",
              "    <tr>\n",
              "      <th class=\"blank level0\" >&nbsp;</th>\n",
              "      <th id=\"T_5de68_level0_col0\" class=\"col_heading level0 col0\" >Caractéristiques</th>\n",
              "      <th id=\"T_5de68_level0_col1\" class=\"col_heading level0 col1\" >Valeurs</th>\n",
              "    </tr>\n",
              "  </thead>\n",
              "  <tbody>\n",
              "    <tr>\n",
              "      <th id=\"T_5de68_level0_row0\" class=\"row_heading level0 row0\" >0</th>\n",
              "      <td id=\"T_5de68_row0_col0\" class=\"data row0 col0\" >count</td>\n",
              "      <td id=\"T_5de68_row0_col1\" class=\"data row0 col1\" >2976685.000000</td>\n",
              "    </tr>\n",
              "    <tr>\n",
              "      <th id=\"T_5de68_level0_row1\" class=\"row_heading level0 row1\" >1</th>\n",
              "      <td id=\"T_5de68_row1_col0\" class=\"data row1 col0\" >mean</td>\n",
              "      <td id=\"T_5de68_row1_col1\" class=\"data row1 col1\" >3.859781</td>\n",
              "    </tr>\n",
              "    <tr>\n",
              "      <th id=\"T_5de68_level0_row2\" class=\"row_heading level0 row2\" >2</th>\n",
              "      <td id=\"T_5de68_row2_col0\" class=\"data row2 col0\" >min</td>\n",
              "      <td id=\"T_5de68_row2_col1\" class=\"data row2 col1\" >2.000000</td>\n",
              "    </tr>\n",
              "    <tr>\n",
              "      <th id=\"T_5de68_level0_row3\" class=\"row_heading level0 row3\" >3</th>\n",
              "      <td id=\"T_5de68_row3_col0\" class=\"data row3 col0\" >25%</td>\n",
              "      <td id=\"T_5de68_row3_col1\" class=\"data row3 col1\" >2.000000</td>\n",
              "    </tr>\n",
              "    <tr>\n",
              "      <th id=\"T_5de68_level0_row4\" class=\"row_heading level0 row4\" >4</th>\n",
              "      <td id=\"T_5de68_row4_col0\" class=\"data row4 col0\" >50%</td>\n",
              "      <td id=\"T_5de68_row4_col1\" class=\"data row4 col1\" >3.000000</td>\n",
              "    </tr>\n",
              "    <tr>\n",
              "      <th id=\"T_5de68_level0_row5\" class=\"row_heading level0 row5\" >5</th>\n",
              "      <td id=\"T_5de68_row5_col0\" class=\"data row5 col0\" >75%</td>\n",
              "      <td id=\"T_5de68_row5_col1\" class=\"data row5 col1\" >4.000000</td>\n",
              "    </tr>\n",
              "    <tr>\n",
              "      <th id=\"T_5de68_level0_row6\" class=\"row_heading level0 row6\" >6</th>\n",
              "      <td id=\"T_5de68_row6_col0\" class=\"data row6 col0\" >max</td>\n",
              "      <td id=\"T_5de68_row6_col1\" class=\"data row6 col1\" >124.000000</td>\n",
              "    </tr>\n",
              "    <tr>\n",
              "      <th id=\"T_5de68_level0_row7\" class=\"row_heading level0 row7\" >7</th>\n",
              "      <td id=\"T_5de68_row7_col0\" class=\"data row7 col0\" >std</td>\n",
              "      <td id=\"T_5de68_row7_col1\" class=\"data row7 col1\" >3.743679</td>\n",
              "    </tr>\n",
              "  </tbody>\n",
              "</table>\n"
            ]
          },
          "metadata": {},
          "execution_count": 41
        }
      ]
    },
    {
      "cell_type": "markdown",
      "source": [
        "On peut observer que les utilisateurs ont consulté au moins deux articles à chaque session. Dans la grande majorité des sessions, les utilisateurs ont consultés entre 2 et 4 articles.\n",
        "\n",
        "### Article_words_count"
      ],
      "metadata": {
        "id": "TMXTCqsIDWr1"
      }
    },
    {
      "cell_type": "code",
      "source": [
        "describe_data_quant(dfinal, 'article_words_count')"
      ],
      "metadata": {
        "colab": {
          "base_uri": "https://localhost:8080/",
          "height": 1000
        },
        "id": "Z8p12UglEEu-",
        "outputId": "9a634beb-7feb-42a7-a0dc-3dfdbd72e033"
      },
      "execution_count": null,
      "outputs": [
        {
          "output_type": "display_data",
          "data": {
            "text/plain": [
              "<Figure size 800x600 with 1 Axes>"
            ],
            "image/png": "[encoded data removed]"
          },
          "metadata": {}
        },
        {
          "output_type": "display_data",
          "data": {
            "text/plain": [
              "<Figure size 900x800 with 1 Axes>"
            ],
            "image/png": "[encoded data removed]"
          },
          "metadata": {}
        },
        {
          "output_type": "execute_result",
          "data": {
            "text/plain": [
              "<pandas.io.formats.style.Styler at 0x24280dd8550>"
            ],
            "text/html": [
              "<style type=\"text/css\">\n",
              "</style>\n",
              "<table id=\"T_8236c\">\n",
              "  <caption>Caractéristiques de article_words_count</caption>\n",
              "  <thead>\n",
              "    <tr>\n",
              "      <th class=\"blank level0\" >&nbsp;</th>\n",
              "      <th id=\"T_8236c_level0_col0\" class=\"col_heading level0 col0\" >Caractéristiques</th>\n",
              "      <th id=\"T_8236c_level0_col1\" class=\"col_heading level0 col1\" >Valeurs</th>\n",
              "    </tr>\n",
              "  </thead>\n",
              "  <tbody>\n",
              "    <tr>\n",
              "      <th id=\"T_8236c_level0_row0\" class=\"row_heading level0 row0\" >0</th>\n",
              "      <td id=\"T_8236c_row0_col0\" class=\"data row0 col0\" >count</td>\n",
              "      <td id=\"T_8236c_row0_col1\" class=\"data row0 col1\" >2976685.000000</td>\n",
              "    </tr>\n",
              "    <tr>\n",
              "      <th id=\"T_8236c_level0_row1\" class=\"row_heading level0 row1\" >1</th>\n",
              "      <td id=\"T_8236c_row1_col0\" class=\"data row1 col0\" >mean</td>\n",
              "      <td id=\"T_8236c_row1_col1\" class=\"data row1 col1\" >208.644946</td>\n",
              "    </tr>\n",
              "    <tr>\n",
              "      <th id=\"T_8236c_level0_row2\" class=\"row_heading level0 row2\" >2</th>\n",
              "      <td id=\"T_8236c_row2_col0\" class=\"data row2 col0\" >min</td>\n",
              "      <td id=\"T_8236c_row2_col1\" class=\"data row2 col1\" >0.000000</td>\n",
              "    </tr>\n",
              "    <tr>\n",
              "      <th id=\"T_8236c_level0_row3\" class=\"row_heading level0 row3\" >3</th>\n",
              "      <td id=\"T_8236c_row3_col0\" class=\"data row3 col0\" >25%</td>\n",
              "      <td id=\"T_8236c_row3_col1\" class=\"data row3 col1\" >173.000000</td>\n",
              "    </tr>\n",
              "    <tr>\n",
              "      <th id=\"T_8236c_level0_row4\" class=\"row_heading level0 row4\" >4</th>\n",
              "      <td id=\"T_8236c_row4_col0\" class=\"data row4 col0\" >50%</td>\n",
              "      <td id=\"T_8236c_row4_col1\" class=\"data row4 col1\" >198.000000</td>\n",
              "    </tr>\n",
              "    <tr>\n",
              "      <th id=\"T_8236c_level0_row5\" class=\"row_heading level0 row5\" >5</th>\n",
              "      <td id=\"T_8236c_row5_col0\" class=\"data row5 col0\" >75%</td>\n",
              "      <td id=\"T_8236c_row5_col1\" class=\"data row5 col1\" >232.000000</td>\n",
              "    </tr>\n",
              "    <tr>\n",
              "      <th id=\"T_8236c_level0_row6\" class=\"row_heading level0 row6\" >6</th>\n",
              "      <td id=\"T_8236c_row6_col0\" class=\"data row6 col0\" >max</td>\n",
              "      <td id=\"T_8236c_row6_col1\" class=\"data row6 col1\" >6690.000000</td>\n",
              "    </tr>\n",
              "    <tr>\n",
              "      <th id=\"T_8236c_level0_row7\" class=\"row_heading level0 row7\" >7</th>\n",
              "      <td id=\"T_8236c_row7_col0\" class=\"data row7 col0\" >std</td>\n",
              "      <td id=\"T_8236c_row7_col1\" class=\"data row7 col1\" >81.673752</td>\n",
              "    </tr>\n",
              "  </tbody>\n",
              "</table>\n"
            ]
          },
          "metadata": {},
          "execution_count": 42
        }
      ]
    },
    {
      "cell_type": "markdown",
      "source": [
        "Les 3/4 des articles ont moins de 232 mots. En moyenne, les articles font environ 209 mots.\n",
        "\n",
        "## Analyse multivariée:\n",
        "### Corrélations:"
      ],
      "metadata": {
        "id": "aUYhRtKqFEkm"
      }
    },
    {
      "cell_type": "code",
      "source": [
        "plt.figure(figsize = (8, 6))\n",
        "\n",
        "# Sélection des colonnes numériques\n",
        "data_corr = dfinal.select_dtypes(include=['float', 'int64', 'int32'])\n",
        "\n",
        "# Heatmap des correlations\n",
        "sns.heatmap(data_corr.corr(),\n",
        "            cmap = plt.cm.RdYlBu_r,\n",
        "            vmin = -0.25,\n",
        "            vmax = 0.6,\n",
        "            annot = True)\n",
        "plt.title('Heatmap des corrélations')\n",
        "plt.show()"
      ],
      "metadata": {
        "colab": {
          "base_uri": "https://localhost:8080/",
          "height": 543
        },
        "id": "ZAWUL49-F0WU",
        "outputId": "053bc9c9-98a3-4b93-fdc3-f20bd18a12bd"
      },
      "execution_count": null,
      "outputs": [
        {
          "output_type": "display_data",
          "data": {
            "text/plain": [
              "<Figure size 800x600 with 2 Axes>"
            ],
            "image/png": "[encoded data removed]"
          },
          "metadata": {}
        }
      ]
    },
    {
      "cell_type": "markdown",
      "source": [
        "La taille des sessions ou nombre de clics par session n'est pas corrélé avec le nombre de mots des articles consultés.\n",
        "\n",
        "### Nombre d'utilisateur selon leur nombre de sessions"
      ],
      "metadata": {
        "id": "G6KR4H7EGx7l"
      }
    },
    {
      "cell_type": "code",
      "source": [
        "df = dfinal[['user_id','session_id']]\n",
        "\n",
        "# Nombre de sessions par utilisateur\n",
        "sessions_par_utilisateur = df['user_id'].value_counts()\n",
        "\n",
        "# Distribution : combien d'utilisateurs ont X sessions\n",
        "distribution_sessions = sessions_par_utilisateur.value_counts().sort_index()\n",
        "\n",
        "# Histogramme avec Matplotlib\n",
        "plt.figure(figsize=(10,6))\n",
        "distribution_sessions.plot(kind='bar')\n",
        "plt.title(\"Distribution du nombre de sessions par utilisateur\")\n",
        "plt.xlabel(\"Nombre de sessions\")\n",
        "plt.ylabel(\"Nombre d'utilisateurs\")\n",
        "plt.xticks(rotation=0)\n",
        "plt.tight_layout()\n",
        "plt.show()\n"
      ],
      "metadata": {
        "colab": {
          "base_uri": "https://localhost:8080/"
        },
        "id": "H3uVgmPaH-Az",
        "outputId": "70b280c9-f504-4474-944b-579d03d145c1"
      },
      "execution_count": null,
      "outputs": [
        {
          "output_type": "stream",
          "name": "stderr",
          "text": [
            "\n",
            "KeyboardInterrupt\n",
            "\n"
          ]
        },
        {
          "output_type": "stream",
          "name": "stdout",
          "text": [
            "Error in callback <function _draw_all_if_interactive at 0x0000024113783560> (for post_execute), with arguments args (),kwargs {}:"
          ]
        }
      ]
    },
    {
      "cell_type": "code",
      "source": [],
      "metadata": {
        "id": "0lgT-tReH9-I"
      },
      "execution_count": null,
      "outputs": []
    },
    {
      "cell_type": "code",
      "source": [],
      "metadata": {
        "id": "0CZ1tTmyH97r"
      },
      "execution_count": null,
      "outputs": []
    },
    {
      "cell_type": "code",
      "source": [
        "\n",
        "plt.figure(figsize = (16, 10))\n",
        "sns.countplot(\n",
        "    data = data,\n",
        "    x=\"order_purchase_hour\",\n",
        "    hue=\"order_purchase_day\",\n",
        "    order=['00','01','02','03','04','05','06','07','08','09','10','11','12','13','14','15','16','17','18','19','20','21','22','23'],\n",
        "    hue_order=['1','2','3','4','5','6','0']\n",
        ")\n",
        "plt.title(\"Distribution des commandes par heure et jour de la semaine\")\n",
        "plt.show()"
      ],
      "metadata": {
        "id": "OxCAPYqyHq37"
      },
      "execution_count": null,
      "outputs": []
    }
  ]
}