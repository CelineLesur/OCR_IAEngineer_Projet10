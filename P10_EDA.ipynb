{
  "nbformat": 4,
  "nbformat_minor": 0,
  "metadata": {
    "colab": {
      "provenance": []
    },
    "kernelspec": {
      "name": "python3",
      "display_name": "Python 3"
    },
    "language_info": {
      "name": "python"
    }
  },
  "cells": [
    {
      "cell_type": "markdown",
      "source": [
        "# Projet 10 : Réalisez une application de recommandation de contenu\n",
        "\n",
        "## Contexte\n",
        "\n",
        "Vous êtes le CTO et cofondateur de la start-up My Content qui veut encourager la lecture en recommandant des contenus pertinents pour ses utilisateurs. Vous êtes en pleine construction d’un premier MVP (Minimum Viable Product) qui prendra la forme d’une application.\n",
        "\n",
        "Dans un premier temps, votre start-up souhaite tester une solution de recommandation d’articles et de livres à des particuliers en utilisant des données disponibles en ligne puisque vous n'en avez pas encore.\n",
        "\n",
        "Votre mission est de développer une première version de votre système de recommandation d'une sélection de cinq articles, sous forme d’Azure Functions, tout en prenant en compte l'ajout de nouveaux articles et utilisateurs.\n",
        "\n",
        "Puis de réaliser une application simple de gestion du système de recommandation (interface d’affichage d’une liste d’id utilisateurs, d’appel Azure functions pour l’id choisi, et d’affichage des 5 articles recommandés)\n",
        "\n",
        "## Contenu des données du jeu de données News Portal User Interactions by Globo.com :\n",
        "\n",
        "Le jeu de données provient du portail d’actualité brésilien Globo. Il traite des clics utilisateurs/articles.\n",
        "\n",
        "Il contient 3 fichiers et un dossier zip :\n",
        "- clicks.zip : contient les données d’interaction utilisateur → article (clics, horodatage, etc.).\n",
        "\n",
        "- clicks_sample.csv : contient un échantillon des données d’interaction utilisateur → article (clics, horodatage, etc.).\n",
        "\n",
        "- articles_metadata.csv : les métadonnées des articles (titre, catégorie, etc.).\n",
        "\n",
        "- articles_embeddings.pickle : embeddings pré-calculés des articles.\n",
        "\n",
        "\n",
        "## Librairies utilisées avec le langage Python :"
      ],
      "metadata": {
        "id": "V654o6Gb3PSe"
      }
    },
    {
      "cell_type": "code",
      "execution_count": 44,
      "metadata": {
        "id": "Mt4YkQE43Ji_"
      },
      "outputs": [],
      "source": [
        "# Importation des librairies\n",
        "import numpy as np\n",
        "import pandas as pd\n",
        "from collections import Counter, defaultdict\n",
        "import matplotlib.pyplot as plt\n",
        "import seaborn as sns\n",
        "from PIL import Image, ImageOps, ImageFilter\n",
        "import glob\n",
        "import os\n",
        "import warnings\n",
        "warnings.filterwarnings('ignore')"
      ]
    },
    {
      "cell_type": "markdown",
      "source": [
        "\n",
        "## Données brutes :\n",
        "\n",
        "### articles_metadata.csv"
      ],
      "metadata": {
        "id": "PRrcmtmABolv"
      }
    },
    {
      "cell_type": "code",
      "source": [
        "# Importation des données :\n",
        "data_articles = pd.read_csv('C:/tutorial-env/OCR/Projet10/data/articles_metadata.csv',encoding='latin',delimiter=\",\")\n",
        "data_articles.head()"
      ],
      "metadata": {
        "colab": {
          "base_uri": "https://localhost:8080/",
          "height": 206
        },
        "id": "ZxBcy0ZBB7Os",
        "outputId": "6579f3c5-e698-403b-8480-1641554df582"
      },
      "execution_count": 45,
      "outputs": [
        {
          "output_type": "execute_result",
          "data": {
            "text/plain": [
              "   article_id  category_id  created_at_ts  publisher_id  words_count\n",
              "0           0            0  1513144419000             0          168\n",
              "1           1            1  1405341936000             0          189\n",
              "2           2            1  1408667706000             0          250\n",
              "3           3            1  1408468313000             0          230\n",
              "4           4            1  1407071171000             0          162"
            ],
            "text/html": [
              "<div>\n",
              "<style scoped>\n",
              "    .dataframe tbody tr th:only-of-type {\n",
              "        vertical-align: middle;\n",
              "    }\n",
              "\n",
              "    .dataframe tbody tr th {\n",
              "        vertical-align: top;\n",
              "    }\n",
              "\n",
              "    .dataframe thead th {\n",
              "        text-align: right;\n",
              "    }\n",
              "</style>\n",
              "<table border=\"1\" class=\"dataframe\">\n",
              "  <thead>\n",
              "    <tr style=\"text-align: right;\">\n",
              "      <th></th>\n",
              "      <th>article_id</th>\n",
              "      <th>category_id</th>\n",
              "      <th>created_at_ts</th>\n",
              "      <th>publisher_id</th>\n",
              "      <th>words_count</th>\n",
              "    </tr>\n",
              "  </thead>\n",
              "  <tbody>\n",
              "    <tr>\n",
              "      <th>0</th>\n",
              "      <td>0</td>\n",
              "      <td>0</td>\n",
              "      <td>1513144419000</td>\n",
              "      <td>0</td>\n",
              "      <td>168</td>\n",
              "    </tr>\n",
              "    <tr>\n",
              "      <th>1</th>\n",
              "      <td>1</td>\n",
              "      <td>1</td>\n",
              "      <td>1405341936000</td>\n",
              "      <td>0</td>\n",
              "      <td>189</td>\n",
              "    </tr>\n",
              "    <tr>\n",
              "      <th>2</th>\n",
              "      <td>2</td>\n",
              "      <td>1</td>\n",
              "      <td>1408667706000</td>\n",
              "      <td>0</td>\n",
              "      <td>250</td>\n",
              "    </tr>\n",
              "    <tr>\n",
              "      <th>3</th>\n",
              "      <td>3</td>\n",
              "      <td>1</td>\n",
              "      <td>1408468313000</td>\n",
              "      <td>0</td>\n",
              "      <td>230</td>\n",
              "    </tr>\n",
              "    <tr>\n",
              "      <th>4</th>\n",
              "      <td>4</td>\n",
              "      <td>1</td>\n",
              "      <td>1407071171000</td>\n",
              "      <td>0</td>\n",
              "      <td>162</td>\n",
              "    </tr>\n",
              "  </tbody>\n",
              "</table>\n",
              "</div>"
            ]
          },
          "metadata": {},
          "execution_count": 45
        }
      ]
    },
    {
      "cell_type": "code",
      "source": [
        "data_articles.shape"
      ],
      "metadata": {
        "colab": {
          "base_uri": "https://localhost:8080/"
        },
        "id": "ZNhHBs3muJc6",
        "outputId": "abdaa7cf-b789-4ecc-e437-16af88ce9d0c"
      },
      "execution_count": 46,
      "outputs": [
        {
          "output_type": "execute_result",
          "data": {
            "text/plain": [
              "(364047, 5)"
            ]
          },
          "metadata": {},
          "execution_count": 46
        }
      ]
    },
    {
      "cell_type": "code",
      "source": [
        "data_articles.dtypes"
      ],
      "metadata": {
        "colab": {
          "base_uri": "https://localhost:8080/"
        },
        "id": "4toD5dGD1OAA",
        "outputId": "2a9d9e1d-5c0c-4c79-b452-50f0509eed5a"
      },
      "execution_count": 47,
      "outputs": [
        {
          "output_type": "execute_result",
          "data": {
            "text/plain": [
              "article_id       int64\n",
              "category_id      int64\n",
              "created_at_ts    int64\n",
              "publisher_id     int64\n",
              "words_count      int64\n",
              "dtype: object"
            ]
          },
          "metadata": {},
          "execution_count": 47
        }
      ]
    },
    {
      "cell_type": "code",
      "source": [
        "data_articles.duplicated().sum()"
      ],
      "metadata": {
        "colab": {
          "base_uri": "https://localhost:8080/"
        },
        "id": "HoS9XABAP1O8",
        "outputId": "e5151273-7ac3-4197-fdb7-efe81717e1d5"
      },
      "execution_count": 48,
      "outputs": [
        {
          "output_type": "execute_result",
          "data": {
            "text/plain": [
              "0"
            ]
          },
          "metadata": {},
          "execution_count": 48
        }
      ]
    },
    {
      "cell_type": "code",
      "source": [
        "data_articles[['article_id','category_id','publisher_id']] = data_articles[['article_id','category_id','publisher_id']].astype(str)\n",
        "data_articles[['article_id','category_id','publisher_id']].describe()"
      ],
      "metadata": {
        "colab": {
          "base_uri": "https://localhost:8080/",
          "height": 175
        },
        "id": "xoU2sgBKuZcb",
        "outputId": "8f134cf7-66f0-4ee6-a2a0-d384917da28b"
      },
      "execution_count": 49,
      "outputs": [
        {
          "output_type": "execute_result",
          "data": {
            "text/plain": [
              "       article_id category_id publisher_id\n",
              "count      364047      364047       364047\n",
              "unique     364047         461            1\n",
              "top             0         281            0\n",
              "freq            1       12817       364047"
            ],
            "text/html": [
              "<div>\n",
              "<style scoped>\n",
              "    .dataframe tbody tr th:only-of-type {\n",
              "        vertical-align: middle;\n",
              "    }\n",
              "\n",
              "    .dataframe tbody tr th {\n",
              "        vertical-align: top;\n",
              "    }\n",
              "\n",
              "    .dataframe thead th {\n",
              "        text-align: right;\n",
              "    }\n",
              "</style>\n",
              "<table border=\"1\" class=\"dataframe\">\n",
              "  <thead>\n",
              "    <tr style=\"text-align: right;\">\n",
              "      <th></th>\n",
              "      <th>article_id</th>\n",
              "      <th>category_id</th>\n",
              "      <th>publisher_id</th>\n",
              "    </tr>\n",
              "  </thead>\n",
              "  <tbody>\n",
              "    <tr>\n",
              "      <th>count</th>\n",
              "      <td>364047</td>\n",
              "      <td>364047</td>\n",
              "      <td>364047</td>\n",
              "    </tr>\n",
              "    <tr>\n",
              "      <th>unique</th>\n",
              "      <td>364047</td>\n",
              "      <td>461</td>\n",
              "      <td>1</td>\n",
              "    </tr>\n",
              "    <tr>\n",
              "      <th>top</th>\n",
              "      <td>0</td>\n",
              "      <td>281</td>\n",
              "      <td>0</td>\n",
              "    </tr>\n",
              "    <tr>\n",
              "      <th>freq</th>\n",
              "      <td>1</td>\n",
              "      <td>12817</td>\n",
              "      <td>364047</td>\n",
              "    </tr>\n",
              "  </tbody>\n",
              "</table>\n",
              "</div>"
            ]
          },
          "metadata": {},
          "execution_count": 49
        }
      ]
    },
    {
      "cell_type": "markdown",
      "source": [
        "Modifions le type des colonnes pour en savoir plus et pour pouvoir interpréter les dates de la colonne \"created_at_ts\""
      ],
      "metadata": {
        "id": "tDsCyJk225Wz"
      }
    },
    {
      "cell_type": "code",
      "source": [
        "data_articles['words_count'] = data_articles[['words_count']].astype(int)\n",
        "data_articles['article_created_at'] = pd.to_datetime(data_articles['created_at_ts'], unit='ms')\n",
        "data.describe()"
      ],
      "metadata": {
        "colab": {
          "base_uri": "https://localhost:8080/",
          "height": 300
        },
        "id": "572wuT5ZuqLz",
        "outputId": "dfd9fe81-6584-46b1-c5d1-81046adc4797"
      },
      "execution_count": 50,
      "outputs": [
        {
          "output_type": "execute_result",
          "data": {
            "text/plain": [
              "         words_count                     created_at\n",
              "count  364047.000000                         364047\n",
              "mean      190.897727  2016-09-16 23:57:17.328421888\n",
              "min         0.000000            2006-09-27 11:14:35\n",
              "25%       159.000000     2015-10-15 16:00:43.500000\n",
              "50%       186.000000            2017-03-13 16:27:29\n",
              "75%       218.000000            2017-11-05 14:09:11\n",
              "max      6690.000000            2018-03-13 12:12:30\n",
              "std        59.502766                            NaN"
            ],
            "text/html": [
              "<div>\n",
              "<style scoped>\n",
              "    .dataframe tbody tr th:only-of-type {\n",
              "        vertical-align: middle;\n",
              "    }\n",
              "\n",
              "    .dataframe tbody tr th {\n",
              "        vertical-align: top;\n",
              "    }\n",
              "\n",
              "    .dataframe thead th {\n",
              "        text-align: right;\n",
              "    }\n",
              "</style>\n",
              "<table border=\"1\" class=\"dataframe\">\n",
              "  <thead>\n",
              "    <tr style=\"text-align: right;\">\n",
              "      <th></th>\n",
              "      <th>words_count</th>\n",
              "      <th>created_at</th>\n",
              "    </tr>\n",
              "  </thead>\n",
              "  <tbody>\n",
              "    <tr>\n",
              "      <th>count</th>\n",
              "      <td>364047.000000</td>\n",
              "      <td>364047</td>\n",
              "    </tr>\n",
              "    <tr>\n",
              "      <th>mean</th>\n",
              "      <td>190.897727</td>\n",
              "      <td>2016-09-16 23:57:17.328421888</td>\n",
              "    </tr>\n",
              "    <tr>\n",
              "      <th>min</th>\n",
              "      <td>0.000000</td>\n",
              "      <td>2006-09-27 11:14:35</td>\n",
              "    </tr>\n",
              "    <tr>\n",
              "      <th>25%</th>\n",
              "      <td>159.000000</td>\n",
              "      <td>2015-10-15 16:00:43.500000</td>\n",
              "    </tr>\n",
              "    <tr>\n",
              "      <th>50%</th>\n",
              "      <td>186.000000</td>\n",
              "      <td>2017-03-13 16:27:29</td>\n",
              "    </tr>\n",
              "    <tr>\n",
              "      <th>75%</th>\n",
              "      <td>218.000000</td>\n",
              "      <td>2017-11-05 14:09:11</td>\n",
              "    </tr>\n",
              "    <tr>\n",
              "      <th>max</th>\n",
              "      <td>6690.000000</td>\n",
              "      <td>2018-03-13 12:12:30</td>\n",
              "    </tr>\n",
              "    <tr>\n",
              "      <th>std</th>\n",
              "      <td>59.502766</td>\n",
              "      <td>NaN</td>\n",
              "    </tr>\n",
              "  </tbody>\n",
              "</table>\n",
              "</div>"
            ]
          },
          "metadata": {},
          "execution_count": 50
        }
      ]
    },
    {
      "cell_type": "markdown",
      "source": [
        "Le csv articles_metadata comprend 364047 articles avec des id uniques, sans doublons et sans valeurs manquantes.\n",
        "\n",
        "Les articles appartiennent à l'une des 461 catégories.\n",
        "\n",
        "La colonne \"publisher_id\" n'a qu'un seul id, elle n'est donc pas pertinente pour notre projet.\n",
        "\n",
        "La nouvelle colonne \"created_at\" correspond à la date et heure de publication de l'article.\n",
        "\n",
        "Le nombre moyen de mots par articles est de 190 mots avec un minimum de 0 et un maximum de 6690.\n",
        "\n",
        "### clicks.csv"
      ],
      "metadata": {
        "id": "tYEbPoQGtVKG"
      }
    },
    {
      "cell_type": "code",
      "source": [
        "# Importation des données :\n",
        "# Chercher tous les fichiers .csv du dossier\n",
        "all_files = glob.glob(os.path.join(\"C:/tutorial-env/OCR/Projet10/data/clicks/\", \"*.csv\"))\n",
        "\n",
        "# Charger et concaténer tous les fichiers\n",
        "dfs = []\n",
        "for f in all_files:\n",
        "    df = pd.read_csv(f,encoding='latin',delimiter=\",\")\n",
        "    dfs.append(df)\n",
        "\n",
        "clicks = pd.concat(dfs, ignore_index=True)\n",
        "clicks.head()"
      ],
      "metadata": {
        "colab": {
          "base_uri": "https://localhost:8080/",
          "height": 206
        },
        "id": "J4FAMjDPtdhf",
        "outputId": "69d73373-fe3d-40c7-8a27-37008297e540"
      },
      "execution_count": 51,
      "outputs": [
        {
          "output_type": "execute_result",
          "data": {
            "text/plain": [
              "  user_id        session_id  session_start session_size click_article_id  \\\n",
              "0       0  1506825423271737  1506825423000            2           157541   \n",
              "1       0  1506825423271737  1506825423000            2            68866   \n",
              "2       1  1506825426267738  1506825426000            2           235840   \n",
              "3       1  1506825426267738  1506825426000            2            96663   \n",
              "4       2  1506825435299739  1506825435000            2           119592   \n",
              "\n",
              "  click_timestamp click_environment click_deviceGroup click_os click_country  \\\n",
              "0   1506826828020                 4                 3       20             1   \n",
              "1   1506826858020                 4                 3       20             1   \n",
              "2   1506827017951                 4                 1       17             1   \n",
              "3   1506827047951                 4                 1       17             1   \n",
              "4   1506827090575                 4                 1       17             1   \n",
              "\n",
              "  click_region click_referrer_type  \n",
              "0           20                   2  \n",
              "1           20                   2  \n",
              "2           16                   2  \n",
              "3           16                   2  \n",
              "4           24                   2  "
            ],
            "text/html": [
              "<div>\n",
              "<style scoped>\n",
              "    .dataframe tbody tr th:only-of-type {\n",
              "        vertical-align: middle;\n",
              "    }\n",
              "\n",
              "    .dataframe tbody tr th {\n",
              "        vertical-align: top;\n",
              "    }\n",
              "\n",
              "    .dataframe thead th {\n",
              "        text-align: right;\n",
              "    }\n",
              "</style>\n",
              "<table border=\"1\" class=\"dataframe\">\n",
              "  <thead>\n",
              "    <tr style=\"text-align: right;\">\n",
              "      <th></th>\n",
              "      <th>user_id</th>\n",
              "      <th>session_id</th>\n",
              "      <th>session_start</th>\n",
              "      <th>session_size</th>\n",
              "      <th>click_article_id</th>\n",
              "      <th>click_timestamp</th>\n",
              "      <th>click_environment</th>\n",
              "      <th>click_deviceGroup</th>\n",
              "      <th>click_os</th>\n",
              "      <th>click_country</th>\n",
              "      <th>click_region</th>\n",
              "      <th>click_referrer_type</th>\n",
              "    </tr>\n",
              "  </thead>\n",
              "  <tbody>\n",
              "    <tr>\n",
              "      <th>0</th>\n",
              "      <td>0</td>\n",
              "      <td>1506825423271737</td>\n",
              "      <td>1506825423000</td>\n",
              "      <td>2</td>\n",
              "      <td>157541</td>\n",
              "      <td>1506826828020</td>\n",
              "      <td>4</td>\n",
              "      <td>3</td>\n",
              "      <td>20</td>\n",
              "      <td>1</td>\n",
              "      <td>20</td>\n",
              "      <td>2</td>\n",
              "    </tr>\n",
              "    <tr>\n",
              "      <th>1</th>\n",
              "      <td>0</td>\n",
              "      <td>1506825423271737</td>\n",
              "      <td>1506825423000</td>\n",
              "      <td>2</td>\n",
              "      <td>68866</td>\n",
              "      <td>1506826858020</td>\n",
              "      <td>4</td>\n",
              "      <td>3</td>\n",
              "      <td>20</td>\n",
              "      <td>1</td>\n",
              "      <td>20</td>\n",
              "      <td>2</td>\n",
              "    </tr>\n",
              "    <tr>\n",
              "      <th>2</th>\n",
              "      <td>1</td>\n",
              "      <td>1506825426267738</td>\n",
              "      <td>1506825426000</td>\n",
              "      <td>2</td>\n",
              "      <td>235840</td>\n",
              "      <td>1506827017951</td>\n",
              "      <td>4</td>\n",
              "      <td>1</td>\n",
              "      <td>17</td>\n",
              "      <td>1</td>\n",
              "      <td>16</td>\n",
              "      <td>2</td>\n",
              "    </tr>\n",
              "    <tr>\n",
              "      <th>3</th>\n",
              "      <td>1</td>\n",
              "      <td>1506825426267738</td>\n",
              "      <td>1506825426000</td>\n",
              "      <td>2</td>\n",
              "      <td>96663</td>\n",
              "      <td>1506827047951</td>\n",
              "      <td>4</td>\n",
              "      <td>1</td>\n",
              "      <td>17</td>\n",
              "      <td>1</td>\n",
              "      <td>16</td>\n",
              "      <td>2</td>\n",
              "    </tr>\n",
              "    <tr>\n",
              "      <th>4</th>\n",
              "      <td>2</td>\n",
              "      <td>1506825435299739</td>\n",
              "      <td>1506825435000</td>\n",
              "      <td>2</td>\n",
              "      <td>119592</td>\n",
              "      <td>1506827090575</td>\n",
              "      <td>4</td>\n",
              "      <td>1</td>\n",
              "      <td>17</td>\n",
              "      <td>1</td>\n",
              "      <td>24</td>\n",
              "      <td>2</td>\n",
              "    </tr>\n",
              "  </tbody>\n",
              "</table>\n",
              "</div>"
            ]
          },
          "metadata": {},
          "execution_count": 51
        }
      ]
    },
    {
      "cell_type": "code",
      "source": [
        "clicks.shape"
      ],
      "metadata": {
        "colab": {
          "base_uri": "https://localhost:8080/"
        },
        "id": "TSLVT0qIuR4j",
        "outputId": "946a9f44-a88b-4b01-bc97-1f83682bbe17"
      },
      "execution_count": 52,
      "outputs": [
        {
          "output_type": "execute_result",
          "data": {
            "text/plain": [
              "(2988181, 12)"
            ]
          },
          "metadata": {},
          "execution_count": 52
        }
      ]
    },
    {
      "cell_type": "code",
      "source": [
        "clicks.dtypes"
      ],
      "metadata": {
        "colab": {
          "base_uri": "https://localhost:8080/"
        },
        "id": "eIIisDUN5cn8",
        "outputId": "7f208299-e3cc-4e4e-f1d7-e1ac21b670e0"
      },
      "execution_count": 53,
      "outputs": [
        {
          "output_type": "execute_result",
          "data": {
            "text/plain": [
              "user_id                object\n",
              "session_id             object\n",
              "session_start          object\n",
              "session_size           object\n",
              "click_article_id       object\n",
              "click_timestamp        object\n",
              "click_environment      object\n",
              "click_deviceGroup      object\n",
              "click_os               object\n",
              "click_country          object\n",
              "click_region           object\n",
              "click_referrer_type    object\n",
              "dtype: object"
            ]
          },
          "metadata": {},
          "execution_count": 53
        }
      ]
    },
    {
      "cell_type": "code",
      "source": [
        "clicks[['user_id','session_id','click_article_id','click_environment','click_deviceGroup','click_os','click_country','click_region','click_referrer_type']] = clicks[['user_id','session_id','click_article_id','click_environment','click_deviceGroup','click_os','click_country','click_region','click_referrer_type']].astype(str)\n",
        "clicks[['user_id','session_id','click_article_id','click_environment','click_deviceGroup','click_os','click_country','click_region','click_referrer_type']].describe()"
      ],
      "metadata": {
        "colab": {
          "base_uri": "https://localhost:8080/",
          "height": 175
        },
        "id": "20FOZoXkx5w1",
        "outputId": "c301e637-951b-4acb-b9c3-4e41e4a03413"
      },
      "execution_count": 54,
      "outputs": [
        {
          "output_type": "execute_result",
          "data": {
            "text/plain": [
              "        user_id        session_id click_article_id click_environment  \\\n",
              "count   2988181           2988181          2988181           2988181   \n",
              "unique   322897           1048594            46033                 3   \n",
              "top        5890  1507563657895091           160974                 4   \n",
              "freq       1232               124            37213           2904478   \n",
              "\n",
              "       click_deviceGroup click_os click_country click_region  \\\n",
              "count            2988181  2988181       2988181      2988181   \n",
              "unique                 5        8            11           28   \n",
              "top                    1       17             1           25   \n",
              "freq             1823162  1738138       2852406       804985   \n",
              "\n",
              "       click_referrer_type  \n",
              "count              2988181  \n",
              "unique                   7  \n",
              "top                      2  \n",
              "freq               1602601  "
            ],
            "text/html": [
              "<div>\n",
              "<style scoped>\n",
              "    .dataframe tbody tr th:only-of-type {\n",
              "        vertical-align: middle;\n",
              "    }\n",
              "\n",
              "    .dataframe tbody tr th {\n",
              "        vertical-align: top;\n",
              "    }\n",
              "\n",
              "    .dataframe thead th {\n",
              "        text-align: right;\n",
              "    }\n",
              "</style>\n",
              "<table border=\"1\" class=\"dataframe\">\n",
              "  <thead>\n",
              "    <tr style=\"text-align: right;\">\n",
              "      <th></th>\n",
              "      <th>user_id</th>\n",
              "      <th>session_id</th>\n",
              "      <th>click_article_id</th>\n",
              "      <th>click_environment</th>\n",
              "      <th>click_deviceGroup</th>\n",
              "      <th>click_os</th>\n",
              "      <th>click_country</th>\n",
              "      <th>click_region</th>\n",
              "      <th>click_referrer_type</th>\n",
              "    </tr>\n",
              "  </thead>\n",
              "  <tbody>\n",
              "    <tr>\n",
              "      <th>count</th>\n",
              "      <td>2988181</td>\n",
              "      <td>2988181</td>\n",
              "      <td>2988181</td>\n",
              "      <td>2988181</td>\n",
              "      <td>2988181</td>\n",
              "      <td>2988181</td>\n",
              "      <td>2988181</td>\n",
              "      <td>2988181</td>\n",
              "      <td>2988181</td>\n",
              "    </tr>\n",
              "    <tr>\n",
              "      <th>unique</th>\n",
              "      <td>322897</td>\n",
              "      <td>1048594</td>\n",
              "      <td>46033</td>\n",
              "      <td>3</td>\n",
              "      <td>5</td>\n",
              "      <td>8</td>\n",
              "      <td>11</td>\n",
              "      <td>28</td>\n",
              "      <td>7</td>\n",
              "    </tr>\n",
              "    <tr>\n",
              "      <th>top</th>\n",
              "      <td>5890</td>\n",
              "      <td>1507563657895091</td>\n",
              "      <td>160974</td>\n",
              "      <td>4</td>\n",
              "      <td>1</td>\n",
              "      <td>17</td>\n",
              "      <td>1</td>\n",
              "      <td>25</td>\n",
              "      <td>2</td>\n",
              "    </tr>\n",
              "    <tr>\n",
              "      <th>freq</th>\n",
              "      <td>1232</td>\n",
              "      <td>124</td>\n",
              "      <td>37213</td>\n",
              "      <td>2904478</td>\n",
              "      <td>1823162</td>\n",
              "      <td>1738138</td>\n",
              "      <td>2852406</td>\n",
              "      <td>804985</td>\n",
              "      <td>1602601</td>\n",
              "    </tr>\n",
              "  </tbody>\n",
              "</table>\n",
              "</div>"
            ]
          },
          "metadata": {},
          "execution_count": 54
        }
      ]
    },
    {
      "cell_type": "code",
      "source": [
        "clicks.duplicated().sum()"
      ],
      "metadata": {
        "colab": {
          "base_uri": "https://localhost:8080/"
        },
        "id": "KfgokLRTPrD3",
        "outputId": "6c6af260-64c5-4642-c8ee-5b5d83991759"
      },
      "execution_count": 55,
      "outputs": [
        {
          "output_type": "execute_result",
          "data": {
            "text/plain": [
              "0"
            ]
          },
          "metadata": {},
          "execution_count": 55
        }
      ]
    },
    {
      "cell_type": "markdown",
      "source": [
        "Modifions le type des colonnes pour en savoir plus et pour pouvoir interpréter les dates des colonnes \"session_start\" et \"click_timestamp\"."
      ],
      "metadata": {
        "id": "7J3E2YdLIiVQ"
      }
    },
    {
      "cell_type": "code",
      "source": [
        "clicks['session_size'] = clicks[['session_size']].astype(int)\n",
        "clicks['session_start'] = pd.to_datetime(clicks['session_start'], unit='ms')\n",
        "clicks['click_timestamp'] = pd.to_datetime(clicks['click_timestamp'], unit='ms')\n",
        "clicks.describe()"
      ],
      "metadata": {
        "colab": {
          "base_uri": "https://localhost:8080/",
          "height": 300
        },
        "id": "lItTfoU7IvZt",
        "outputId": "15e87fdd-d7ab-4477-de41-d8d4efc1441c"
      },
      "execution_count": 56,
      "outputs": [
        {
          "output_type": "execute_result",
          "data": {
            "text/plain": [
              "                       session_start  session_size  \\\n",
              "count                        2988181  2.988181e+06   \n",
              "mean   2017-10-08 14:17:08.013157120  3.901885e+00   \n",
              "min              2017-10-01 02:37:03  2.000000e+00   \n",
              "25%              2017-10-04 13:35:52  2.000000e+00   \n",
              "50%              2017-10-08 20:09:00  3.000000e+00   \n",
              "75%              2017-10-11 19:16:54  4.000000e+00   \n",
              "max              2017-10-17 03:36:19  1.240000e+02   \n",
              "std                              NaN  3.929941e+00   \n",
              "\n",
              "                     click_timestamp  \n",
              "count                        2988181  \n",
              "mean   2017-10-08 14:51:05.606100224  \n",
              "min       2017-10-01 03:00:00.026000  \n",
              "25%    2017-10-04 14:20:52.854000128  \n",
              "50%    2017-10-08 20:35:30.480999936  \n",
              "75%    2017-10-11 19:43:24.600999936  \n",
              "max       2017-11-13 20:04:14.886000  \n",
              "std                              NaN  "
            ],
            "text/html": [
              "<div>\n",
              "<style scoped>\n",
              "    .dataframe tbody tr th:only-of-type {\n",
              "        vertical-align: middle;\n",
              "    }\n",
              "\n",
              "    .dataframe tbody tr th {\n",
              "        vertical-align: top;\n",
              "    }\n",
              "\n",
              "    .dataframe thead th {\n",
              "        text-align: right;\n",
              "    }\n",
              "</style>\n",
              "<table border=\"1\" class=\"dataframe\">\n",
              "  <thead>\n",
              "    <tr style=\"text-align: right;\">\n",
              "      <th></th>\n",
              "      <th>session_start</th>\n",
              "      <th>session_size</th>\n",
              "      <th>click_timestamp</th>\n",
              "    </tr>\n",
              "  </thead>\n",
              "  <tbody>\n",
              "    <tr>\n",
              "      <th>count</th>\n",
              "      <td>2988181</td>\n",
              "      <td>2.988181e+06</td>\n",
              "      <td>2988181</td>\n",
              "    </tr>\n",
              "    <tr>\n",
              "      <th>mean</th>\n",
              "      <td>2017-10-08 14:17:08.013157120</td>\n",
              "      <td>3.901885e+00</td>\n",
              "      <td>2017-10-08 14:51:05.606100224</td>\n",
              "    </tr>\n",
              "    <tr>\n",
              "      <th>min</th>\n",
              "      <td>2017-10-01 02:37:03</td>\n",
              "      <td>2.000000e+00</td>\n",
              "      <td>2017-10-01 03:00:00.026000</td>\n",
              "    </tr>\n",
              "    <tr>\n",
              "      <th>25%</th>\n",
              "      <td>2017-10-04 13:35:52</td>\n",
              "      <td>2.000000e+00</td>\n",
              "      <td>2017-10-04 14:20:52.854000128</td>\n",
              "    </tr>\n",
              "    <tr>\n",
              "      <th>50%</th>\n",
              "      <td>2017-10-08 20:09:00</td>\n",
              "      <td>3.000000e+00</td>\n",
              "      <td>2017-10-08 20:35:30.480999936</td>\n",
              "    </tr>\n",
              "    <tr>\n",
              "      <th>75%</th>\n",
              "      <td>2017-10-11 19:16:54</td>\n",
              "      <td>4.000000e+00</td>\n",
              "      <td>2017-10-11 19:43:24.600999936</td>\n",
              "    </tr>\n",
              "    <tr>\n",
              "      <th>max</th>\n",
              "      <td>2017-10-17 03:36:19</td>\n",
              "      <td>1.240000e+02</td>\n",
              "      <td>2017-11-13 20:04:14.886000</td>\n",
              "    </tr>\n",
              "    <tr>\n",
              "      <th>std</th>\n",
              "      <td>NaN</td>\n",
              "      <td>3.929941e+00</td>\n",
              "      <td>NaN</td>\n",
              "    </tr>\n",
              "  </tbody>\n",
              "</table>\n",
              "</div>"
            ]
          },
          "metadata": {},
          "execution_count": 56
        }
      ]
    },
    {
      "cell_type": "markdown",
      "source": [
        "La fusion des différents csv clicks_hour comprend 2988181 lignes et 12 colonnes, sans doublons et sans valeurs manquantes.\n",
        "\n",
        "Les données sont basées sur les 1048594 sessions de 322897 clients. Ils ont cliqués sur 46033 articles différents.\n",
        "\n",
        "Les colonnes 'click_environment', 'click_deviceGroup', 'click_os', 'click_country', 'click_region', 'click_referrer_type' permettent de comprendre le contexte de l'utilisateur. Nous ne les utiliserons pas dans notre projet.\n",
        "\n",
        "La colonne \"session_start\" correspond à la date et heure d'ouverture de la session.\n",
        "\n",
        "La colonne \"click_timestamp\" correspond à la date et heure du clic.\n",
        "\n",
        "Le nombre moyen de clics par session, portés par la colonne \"session_size\",  est de 3.9 clicls avec un minimum de 2 et un maximum de 124.\n",
        "\n",
        "Créons notre dataframe final avec les variables qui nous intéressent :"
      ],
      "metadata": {
        "id": "D-vQovUoLAkU"
      }
    },
    {
      "cell_type": "code",
      "source": [
        "# Renommer des colonnes pour la jointure\n",
        "clicks = clicks.rename(columns={'click_article_id': 'article_id'})\n",
        "data_articles = data_articles.rename(columns={'category_id': 'article_category_id'})\n",
        "data_articles = data_articles.rename(columns={'words_count': 'article_words_count'})"
      ],
      "metadata": {
        "id": "gc1lgzhxdYz8"
      },
      "execution_count": 57,
      "outputs": []
    },
    {
      "cell_type": "code",
      "source": [
        "# Ajout des colonnes à clicks\n",
        "df = clicks.merge(data_articles[['article_id', 'article_category_id', 'article_words_count' ,\t'article_created_at']],\n",
        "    on='article_id', how='left')\n",
        "df.head()"
      ],
      "metadata": {
        "colab": {
          "base_uri": "https://localhost:8080/",
          "height": 206
        },
        "id": "hdT9lABZZOrp",
        "outputId": "9013f472-9bf8-4770-9e66-848094a65199"
      },
      "execution_count": 59,
      "outputs": [
        {
          "output_type": "execute_result",
          "data": {
            "text/plain": [
              "  user_id        session_id       session_start  session_size article_id  \\\n",
              "0       0  1506825423271737 2017-10-01 02:37:03             2     157541   \n",
              "1       0  1506825423271737 2017-10-01 02:37:03             2      68866   \n",
              "2       1  1506825426267738 2017-10-01 02:37:06             2     235840   \n",
              "3       1  1506825426267738 2017-10-01 02:37:06             2      96663   \n",
              "4       2  1506825435299739 2017-10-01 02:37:15             2     119592   \n",
              "\n",
              "          click_timestamp click_environment click_deviceGroup click_os  \\\n",
              "0 2017-10-01 03:00:28.020                 4                 3       20   \n",
              "1 2017-10-01 03:00:58.020                 4                 3       20   \n",
              "2 2017-10-01 03:03:37.951                 4                 1       17   \n",
              "3 2017-10-01 03:04:07.951                 4                 1       17   \n",
              "4 2017-10-01 03:04:50.575                 4                 1       17   \n",
              "\n",
              "  click_country click_region click_referrer_type article_category_id  \\\n",
              "0             1           20                   2                 281   \n",
              "1             1           20                   2                 136   \n",
              "2             1           16                   2                 375   \n",
              "3             1           16                   2                 209   \n",
              "4             1           24                   2                 247   \n",
              "\n",
              "   article_words_count  article_created_at  \n",
              "0                  280 2017-09-30 19:41:58  \n",
              "1                  226 2017-10-01 00:08:02  \n",
              "2                  159 2017-09-30 21:43:59  \n",
              "3                  206 2017-09-30 16:13:45  \n",
              "4                  239 2017-09-30 15:11:56  "
            ],
            "text/html": [
              "<div>\n",
              "<style scoped>\n",
              "    .dataframe tbody tr th:only-of-type {\n",
              "        vertical-align: middle;\n",
              "    }\n",
              "\n",
              "    .dataframe tbody tr th {\n",
              "        vertical-align: top;\n",
              "    }\n",
              "\n",
              "    .dataframe thead th {\n",
              "        text-align: right;\n",
              "    }\n",
              "</style>\n",
              "<table border=\"1\" class=\"dataframe\">\n",
              "  <thead>\n",
              "    <tr style=\"text-align: right;\">\n",
              "      <th></th>\n",
              "      <th>user_id</th>\n",
              "      <th>session_id</th>\n",
              "      <th>session_start</th>\n",
              "      <th>session_size</th>\n",
              "      <th>article_id</th>\n",
              "      <th>click_timestamp</th>\n",
              "      <th>click_environment</th>\n",
              "      <th>click_deviceGroup</th>\n",
              "      <th>click_os</th>\n",
              "      <th>click_country</th>\n",
              "      <th>click_region</th>\n",
              "      <th>click_referrer_type</th>\n",
              "      <th>article_category_id</th>\n",
              "      <th>article_words_count</th>\n",
              "      <th>article_created_at</th>\n",
              "    </tr>\n",
              "  </thead>\n",
              "  <tbody>\n",
              "    <tr>\n",
              "      <th>0</th>\n",
              "      <td>0</td>\n",
              "      <td>1506825423271737</td>\n",
              "      <td>2017-10-01 02:37:03</td>\n",
              "      <td>2</td>\n",
              "      <td>157541</td>\n",
              "      <td>2017-10-01 03:00:28.020</td>\n",
              "      <td>4</td>\n",
              "      <td>3</td>\n",
              "      <td>20</td>\n",
              "      <td>1</td>\n",
              "      <td>20</td>\n",
              "      <td>2</td>\n",
              "      <td>281</td>\n",
              "      <td>280</td>\n",
              "      <td>2017-09-30 19:41:58</td>\n",
              "    </tr>\n",
              "    <tr>\n",
              "      <th>1</th>\n",
              "      <td>0</td>\n",
              "      <td>1506825423271737</td>\n",
              "      <td>2017-10-01 02:37:03</td>\n",
              "      <td>2</td>\n",
              "      <td>68866</td>\n",
              "      <td>2017-10-01 03:00:58.020</td>\n",
              "      <td>4</td>\n",
              "      <td>3</td>\n",
              "      <td>20</td>\n",
              "      <td>1</td>\n",
              "      <td>20</td>\n",
              "      <td>2</td>\n",
              "      <td>136</td>\n",
              "      <td>226</td>\n",
              "      <td>2017-10-01 00:08:02</td>\n",
              "    </tr>\n",
              "    <tr>\n",
              "      <th>2</th>\n",
              "      <td>1</td>\n",
              "      <td>1506825426267738</td>\n",
              "      <td>2017-10-01 02:37:06</td>\n",
              "      <td>2</td>\n",
              "      <td>235840</td>\n",
              "      <td>2017-10-01 03:03:37.951</td>\n",
              "      <td>4</td>\n",
              "      <td>1</td>\n",
              "      <td>17</td>\n",
              "      <td>1</td>\n",
              "      <td>16</td>\n",
              "      <td>2</td>\n",
              "      <td>375</td>\n",
              "      <td>159</td>\n",
              "      <td>2017-09-30 21:43:59</td>\n",
              "    </tr>\n",
              "    <tr>\n",
              "      <th>3</th>\n",
              "      <td>1</td>\n",
              "      <td>1506825426267738</td>\n",
              "      <td>2017-10-01 02:37:06</td>\n",
              "      <td>2</td>\n",
              "      <td>96663</td>\n",
              "      <td>2017-10-01 03:04:07.951</td>\n",
              "      <td>4</td>\n",
              "      <td>1</td>\n",
              "      <td>17</td>\n",
              "      <td>1</td>\n",
              "      <td>16</td>\n",
              "      <td>2</td>\n",
              "      <td>209</td>\n",
              "      <td>206</td>\n",
              "      <td>2017-09-30 16:13:45</td>\n",
              "    </tr>\n",
              "    <tr>\n",
              "      <th>4</th>\n",
              "      <td>2</td>\n",
              "      <td>1506825435299739</td>\n",
              "      <td>2017-10-01 02:37:15</td>\n",
              "      <td>2</td>\n",
              "      <td>119592</td>\n",
              "      <td>2017-10-01 03:04:50.575</td>\n",
              "      <td>4</td>\n",
              "      <td>1</td>\n",
              "      <td>17</td>\n",
              "      <td>1</td>\n",
              "      <td>24</td>\n",
              "      <td>2</td>\n",
              "      <td>247</td>\n",
              "      <td>239</td>\n",
              "      <td>2017-09-30 15:11:56</td>\n",
              "    </tr>\n",
              "  </tbody>\n",
              "</table>\n",
              "</div>"
            ]
          },
          "metadata": {},
          "execution_count": 59
        }
      ]
    },
    {
      "cell_type": "code",
      "source": [
        "# Suppression de colonnes non  pertinentes\n",
        "df = df.drop(['click_environment','click_deviceGroup','click_os','click_country','click_region','click_referrer_type'], axis=1)\n",
        "df.head()"
      ],
      "metadata": {
        "colab": {
          "base_uri": "https://localhost:8080/",
          "height": 206
        },
        "id": "SR8m3SfhcyIn",
        "outputId": "a1929189-b5c4-4c96-be89-c72f6ad9ae11"
      },
      "execution_count": 60,
      "outputs": [
        {
          "output_type": "execute_result",
          "data": {
            "text/plain": [
              "  user_id        session_id       session_start  session_size article_id  \\\n",
              "0       0  1506825423271737 2017-10-01 02:37:03             2     157541   \n",
              "1       0  1506825423271737 2017-10-01 02:37:03             2      68866   \n",
              "2       1  1506825426267738 2017-10-01 02:37:06             2     235840   \n",
              "3       1  1506825426267738 2017-10-01 02:37:06             2      96663   \n",
              "4       2  1506825435299739 2017-10-01 02:37:15             2     119592   \n",
              "\n",
              "          click_timestamp article_category_id  article_words_count  \\\n",
              "0 2017-10-01 03:00:28.020                 281                  280   \n",
              "1 2017-10-01 03:00:58.020                 136                  226   \n",
              "2 2017-10-01 03:03:37.951                 375                  159   \n",
              "3 2017-10-01 03:04:07.951                 209                  206   \n",
              "4 2017-10-01 03:04:50.575                 247                  239   \n",
              "\n",
              "   article_created_at  \n",
              "0 2017-09-30 19:41:58  \n",
              "1 2017-10-01 00:08:02  \n",
              "2 2017-09-30 21:43:59  \n",
              "3 2017-09-30 16:13:45  \n",
              "4 2017-09-30 15:11:56  "
            ],
            "text/html": [
              "<div>\n",
              "<style scoped>\n",
              "    .dataframe tbody tr th:only-of-type {\n",
              "        vertical-align: middle;\n",
              "    }\n",
              "\n",
              "    .dataframe tbody tr th {\n",
              "        vertical-align: top;\n",
              "    }\n",
              "\n",
              "    .dataframe thead th {\n",
              "        text-align: right;\n",
              "    }\n",
              "</style>\n",
              "<table border=\"1\" class=\"dataframe\">\n",
              "  <thead>\n",
              "    <tr style=\"text-align: right;\">\n",
              "      <th></th>\n",
              "      <th>user_id</th>\n",
              "      <th>session_id</th>\n",
              "      <th>session_start</th>\n",
              "      <th>session_size</th>\n",
              "      <th>article_id</th>\n",
              "      <th>click_timestamp</th>\n",
              "      <th>article_category_id</th>\n",
              "      <th>article_words_count</th>\n",
              "      <th>article_created_at</th>\n",
              "    </tr>\n",
              "  </thead>\n",
              "  <tbody>\n",
              "    <tr>\n",
              "      <th>0</th>\n",
              "      <td>0</td>\n",
              "      <td>1506825423271737</td>\n",
              "      <td>2017-10-01 02:37:03</td>\n",
              "      <td>2</td>\n",
              "      <td>157541</td>\n",
              "      <td>2017-10-01 03:00:28.020</td>\n",
              "      <td>281</td>\n",
              "      <td>280</td>\n",
              "      <td>2017-09-30 19:41:58</td>\n",
              "    </tr>\n",
              "    <tr>\n",
              "      <th>1</th>\n",
              "      <td>0</td>\n",
              "      <td>1506825423271737</td>\n",
              "      <td>2017-10-01 02:37:03</td>\n",
              "      <td>2</td>\n",
              "      <td>68866</td>\n",
              "      <td>2017-10-01 03:00:58.020</td>\n",
              "      <td>136</td>\n",
              "      <td>226</td>\n",
              "      <td>2017-10-01 00:08:02</td>\n",
              "    </tr>\n",
              "    <tr>\n",
              "      <th>2</th>\n",
              "      <td>1</td>\n",
              "      <td>1506825426267738</td>\n",
              "      <td>2017-10-01 02:37:06</td>\n",
              "      <td>2</td>\n",
              "      <td>235840</td>\n",
              "      <td>2017-10-01 03:03:37.951</td>\n",
              "      <td>375</td>\n",
              "      <td>159</td>\n",
              "      <td>2017-09-30 21:43:59</td>\n",
              "    </tr>\n",
              "    <tr>\n",
              "      <th>3</th>\n",
              "      <td>1</td>\n",
              "      <td>1506825426267738</td>\n",
              "      <td>2017-10-01 02:37:06</td>\n",
              "      <td>2</td>\n",
              "      <td>96663</td>\n",
              "      <td>2017-10-01 03:04:07.951</td>\n",
              "      <td>209</td>\n",
              "      <td>206</td>\n",
              "      <td>2017-09-30 16:13:45</td>\n",
              "    </tr>\n",
              "    <tr>\n",
              "      <th>4</th>\n",
              "      <td>2</td>\n",
              "      <td>1506825435299739</td>\n",
              "      <td>2017-10-01 02:37:15</td>\n",
              "      <td>2</td>\n",
              "      <td>119592</td>\n",
              "      <td>2017-10-01 03:04:50.575</td>\n",
              "      <td>247</td>\n",
              "      <td>239</td>\n",
              "      <td>2017-09-30 15:11:56</td>\n",
              "    </tr>\n",
              "  </tbody>\n",
              "</table>\n",
              "</div>"
            ]
          },
          "metadata": {},
          "execution_count": 60
        }
      ]
    },
    {
      "cell_type": "code",
      "source": [
        "df.describe(include='all')"
      ],
      "metadata": {
        "colab": {
          "base_uri": "https://localhost:8080/",
          "height": 394
        },
        "id": "szGhm8X0fdZu",
        "outputId": "65db577b-6c1e-4204-f63e-85930485169a"
      },
      "execution_count": 64,
      "outputs": [
        {
          "output_type": "execute_result",
          "data": {
            "text/plain": [
              "        user_id        session_id                  session_start  \\\n",
              "count   2988181           2988181                        2988181   \n",
              "unique   322897           1048594                            NaN   \n",
              "top        5890  1507563657895091                            NaN   \n",
              "freq       1232               124                            NaN   \n",
              "mean        NaN               NaN  2017-10-08 14:17:08.013157120   \n",
              "min         NaN               NaN            2017-10-01 02:37:03   \n",
              "25%         NaN               NaN            2017-10-04 13:35:52   \n",
              "50%         NaN               NaN            2017-10-08 20:09:00   \n",
              "75%         NaN               NaN            2017-10-11 19:16:54   \n",
              "max         NaN               NaN            2017-10-17 03:36:19   \n",
              "std         NaN               NaN                            NaN   \n",
              "\n",
              "        session_size article_id                click_timestamp  \\\n",
              "count   2.988181e+06    2988181                        2988181   \n",
              "unique           NaN      46033                            NaN   \n",
              "top              NaN     160974                            NaN   \n",
              "freq             NaN      37213                            NaN   \n",
              "mean    3.901885e+00        NaN  2017-10-08 14:51:05.606100224   \n",
              "min     2.000000e+00        NaN     2017-10-01 03:00:00.026000   \n",
              "25%     2.000000e+00        NaN  2017-10-04 14:20:52.854000128   \n",
              "50%     3.000000e+00        NaN  2017-10-08 20:35:30.480999936   \n",
              "75%     4.000000e+00        NaN  2017-10-11 19:43:24.600999936   \n",
              "max     1.240000e+02        NaN     2017-11-13 20:04:14.886000   \n",
              "std     3.929941e+00        NaN                            NaN   \n",
              "\n",
              "       article_category_id  article_words_count             article_created_at  \n",
              "count              2988181         2.988181e+06                        2988181  \n",
              "unique                 316                  NaN                            NaN  \n",
              "top                    281                  NaN                            NaN  \n",
              "freq                370843                  NaN                            NaN  \n",
              "mean                   NaN         2.086283e+02  2017-09-30 05:50:23.356218368  \n",
              "min                    NaN         0.000000e+00            2006-12-20 00:00:00  \n",
              "25%                    NaN         1.730000e+02            2017-10-03 17:56:13  \n",
              "50%                    NaN         1.980000e+02            2017-10-07 19:10:41  \n",
              "75%                    NaN         2.320000e+02            2017-10-11 10:10:51  \n",
              "max                    NaN         6.690000e+03            2017-11-14 13:26:54  \n",
              "std                    NaN         8.160152e+01                            NaN  "
            ],
            "text/html": [
              "<div>\n",
              "<style scoped>\n",
              "    .dataframe tbody tr th:only-of-type {\n",
              "        vertical-align: middle;\n",
              "    }\n",
              "\n",
              "    .dataframe tbody tr th {\n",
              "        vertical-align: top;\n",
              "    }\n",
              "\n",
              "    .dataframe thead th {\n",
              "        text-align: right;\n",
              "    }\n",
              "</style>\n",
              "<table border=\"1\" class=\"dataframe\">\n",
              "  <thead>\n",
              "    <tr style=\"text-align: right;\">\n",
              "      <th></th>\n",
              "      <th>user_id</th>\n",
              "      <th>session_id</th>\n",
              "      <th>session_start</th>\n",
              "      <th>session_size</th>\n",
              "      <th>article_id</th>\n",
              "      <th>click_timestamp</th>\n",
              "      <th>article_category_id</th>\n",
              "      <th>article_words_count</th>\n",
              "      <th>article_created_at</th>\n",
              "    </tr>\n",
              "  </thead>\n",
              "  <tbody>\n",
              "    <tr>\n",
              "      <th>count</th>\n",
              "      <td>2988181</td>\n",
              "      <td>2988181</td>\n",
              "      <td>2988181</td>\n",
              "      <td>2.988181e+06</td>\n",
              "      <td>2988181</td>\n",
              "      <td>2988181</td>\n",
              "      <td>2988181</td>\n",
              "      <td>2.988181e+06</td>\n",
              "      <td>2988181</td>\n",
              "    </tr>\n",
              "    <tr>\n",
              "      <th>unique</th>\n",
              "      <td>322897</td>\n",
              "      <td>1048594</td>\n",
              "      <td>NaN</td>\n",
              "      <td>NaN</td>\n",
              "      <td>46033</td>\n",
              "      <td>NaN</td>\n",
              "      <td>316</td>\n",
              "      <td>NaN</td>\n",
              "      <td>NaN</td>\n",
              "    </tr>\n",
              "    <tr>\n",
              "      <th>top</th>\n",
              "      <td>5890</td>\n",
              "      <td>1507563657895091</td>\n",
              "      <td>NaN</td>\n",
              "      <td>NaN</td>\n",
              "      <td>160974</td>\n",
              "      <td>NaN</td>\n",
              "      <td>281</td>\n",
              "      <td>NaN</td>\n",
              "      <td>NaN</td>\n",
              "    </tr>\n",
              "    <tr>\n",
              "      <th>freq</th>\n",
              "      <td>1232</td>\n",
              "      <td>124</td>\n",
              "      <td>NaN</td>\n",
              "      <td>NaN</td>\n",
              "      <td>37213</td>\n",
              "      <td>NaN</td>\n",
              "      <td>370843</td>\n",
              "      <td>NaN</td>\n",
              "      <td>NaN</td>\n",
              "    </tr>\n",
              "    <tr>\n",
              "      <th>mean</th>\n",
              "      <td>NaN</td>\n",
              "      <td>NaN</td>\n",
              "      <td>2017-10-08 14:17:08.013157120</td>\n",
              "      <td>3.901885e+00</td>\n",
              "      <td>NaN</td>\n",
              "      <td>2017-10-08 14:51:05.606100224</td>\n",
              "      <td>NaN</td>\n",
              "      <td>2.086283e+02</td>\n",
              "      <td>2017-09-30 05:50:23.356218368</td>\n",
              "    </tr>\n",
              "    <tr>\n",
              "      <th>min</th>\n",
              "      <td>NaN</td>\n",
              "      <td>NaN</td>\n",
              "      <td>2017-10-01 02:37:03</td>\n",
              "      <td>2.000000e+00</td>\n",
              "      <td>NaN</td>\n",
              "      <td>2017-10-01 03:00:00.026000</td>\n",
              "      <td>NaN</td>\n",
              "      <td>0.000000e+00</td>\n",
              "      <td>2006-12-20 00:00:00</td>\n",
              "    </tr>\n",
              "    <tr>\n",
              "      <th>25%</th>\n",
              "      <td>NaN</td>\n",
              "      <td>NaN</td>\n",
              "      <td>2017-10-04 13:35:52</td>\n",
              "      <td>2.000000e+00</td>\n",
              "      <td>NaN</td>\n",
              "      <td>2017-10-04 14:20:52.854000128</td>\n",
              "      <td>NaN</td>\n",
              "      <td>1.730000e+02</td>\n",
              "      <td>2017-10-03 17:56:13</td>\n",
              "    </tr>\n",
              "    <tr>\n",
              "      <th>50%</th>\n",
              "      <td>NaN</td>\n",
              "      <td>NaN</td>\n",
              "      <td>2017-10-08 20:09:00</td>\n",
              "      <td>3.000000e+00</td>\n",
              "      <td>NaN</td>\n",
              "      <td>2017-10-08 20:35:30.480999936</td>\n",
              "      <td>NaN</td>\n",
              "      <td>1.980000e+02</td>\n",
              "      <td>2017-10-07 19:10:41</td>\n",
              "    </tr>\n",
              "    <tr>\n",
              "      <th>75%</th>\n",
              "      <td>NaN</td>\n",
              "      <td>NaN</td>\n",
              "      <td>2017-10-11 19:16:54</td>\n",
              "      <td>4.000000e+00</td>\n",
              "      <td>NaN</td>\n",
              "      <td>2017-10-11 19:43:24.600999936</td>\n",
              "      <td>NaN</td>\n",
              "      <td>2.320000e+02</td>\n",
              "      <td>2017-10-11 10:10:51</td>\n",
              "    </tr>\n",
              "    <tr>\n",
              "      <th>max</th>\n",
              "      <td>NaN</td>\n",
              "      <td>NaN</td>\n",
              "      <td>2017-10-17 03:36:19</td>\n",
              "      <td>1.240000e+02</td>\n",
              "      <td>NaN</td>\n",
              "      <td>2017-11-13 20:04:14.886000</td>\n",
              "      <td>NaN</td>\n",
              "      <td>6.690000e+03</td>\n",
              "      <td>2017-11-14 13:26:54</td>\n",
              "    </tr>\n",
              "    <tr>\n",
              "      <th>std</th>\n",
              "      <td>NaN</td>\n",
              "      <td>NaN</td>\n",
              "      <td>NaN</td>\n",
              "      <td>3.929941e+00</td>\n",
              "      <td>NaN</td>\n",
              "      <td>NaN</td>\n",
              "      <td>NaN</td>\n",
              "      <td>8.160152e+01</td>\n",
              "      <td>NaN</td>\n",
              "    </tr>\n",
              "  </tbody>\n",
              "</table>\n",
              "</div>"
            ]
          },
          "metadata": {},
          "execution_count": 64
        }
      ]
    },
    {
      "cell_type": "markdown",
      "source": [
        "Il paraît étrange que les dates des sessions soient comprises entre le 01/10/2017 et le 17/10/2017 alors que certains clics ont une date jusqu'au 13/11/2017.\n",
        "\n",
        "On peut considérer que les sessions ont une validité maximum de 24h et donc enlever les sessions qui ont des clics plus de 24h après le début de la session."
      ],
      "metadata": {
        "id": "nxrlwoAcoKhL"
      }
    },
    {
      "cell_type": "code",
      "source": [
        "invalid2 = df[df['click_timestamp'] > df['session_start'] + pd.Timedelta(hours=24)]\n",
        "print(f\"Nb de clics trop loin après le début de la session : {len(invalid2)}\")"
      ],
      "metadata": {
        "colab": {
          "base_uri": "https://localhost:8080/"
        },
        "id": "IAnH0YqPQ6aD",
        "outputId": "ccf03377-7da5-408b-d60f-cf37a6463131"
      },
      "execution_count": 74,
      "outputs": [
        {
          "output_type": "stream",
          "name": "stdout",
          "text": [
            "Nb de clics trop loin après le début de la session : 7331\n"
          ]
        }
      ]
    },
    {
      "cell_type": "markdown",
      "source": [
        "\n",
        "## Analyse exploratoire univariée :\n",
        "\n",
        "Les variables catégorielles sont des identifiants qui ont trop de valeurs pour qu'elles soient pertinentes à analyser.\n",
        "\n",
        "### Session_start"
      ],
      "metadata": {
        "id": "krkxV2rhZB3X"
      }
    },
    {
      "cell_type": "code",
      "source": [
        "session_per_day = df['session_start'].dt.date.value_counts().sort_index()\n",
        "session_per_day.plot(figsize=(12,5),kind='bar', title=\"Volume de sessions par jour\")"
      ],
      "metadata": {
        "colab": {
          "base_uri": "https://localhost:8080/",
          "height": 571
        },
        "id": "W6qmUWb7XmwD",
        "outputId": "8270a1bf-3730-4548-dffc-97f7ca7c45bf"
      },
      "execution_count": 66,
      "outputs": [
        {
          "output_type": "execute_result",
          "data": {
            "text/plain": [
              "<Axes: title={'center': 'Volume de sessions par jour'}, xlabel='session_start'>"
            ]
          },
          "metadata": {},
          "execution_count": 66
        },
        {
          "output_type": "display_data",
          "data": {
            "text/plain": [
              "<Figure size 1200x500 with 1 Axes>"
            ],
            "image/png": "[encoded data removed]"
          },
          "metadata": {}
        }
      ]
    },
    {
      "cell_type": "code",
      "source": [
        "session_per_number_day = df['session_start'].dt.day_name()\n",
        "session_per_number_day.value_counts().reindex(['Monday','Tuesday','Wednesday','Thursday','Friday','Saturday','Sunday']).plot(kind='bar', title=\"Sessions par jour de la semaine\")"
      ],
      "metadata": {
        "colab": {
          "base_uri": "https://localhost:8080/",
          "height": 555
        },
        "id": "QWWgtlSIUXUj",
        "outputId": "3191d1c7-4a89-4730-f23d-30d8f0458063"
      },
      "execution_count": 69,
      "outputs": [
        {
          "output_type": "execute_result",
          "data": {
            "text/plain": [
              "<Axes: title={'center': 'Sessions par jour de la semaine'}, xlabel='session_start'>"
            ]
          },
          "metadata": {},
          "execution_count": 69
        },
        {
          "output_type": "display_data",
          "data": {
            "text/plain": [
              "<Figure size 640x480 with 1 Axes>"
            ],
            "image/png": "[encoded data removed]"
          },
          "metadata": {}
        }
      ]
    },
    {
      "cell_type": "code",
      "source": [
        "session_per_hour = df['session_start'].dt.hour\n",
        "df['session_start'].dt.hour.value_counts().sort_index().plot(kind='bar', title=\"Sessions par heure du jour\")"
      ],
      "metadata": {
        "colab": {
          "base_uri": "https://localhost:8080/",
          "height": 493
        },
        "id": "GVsjGQWOXSeG",
        "outputId": "8f2109bb-45fa-4527-c52c-d2f0abfe8240"
      },
      "execution_count": 68,
      "outputs": [
        {
          "output_type": "execute_result",
          "data": {
            "text/plain": [
              "<Axes: title={'center': 'Sessions par heure du jour'}, xlabel='session_start'>"
            ]
          },
          "metadata": {},
          "execution_count": 68
        },
        {
          "output_type": "display_data",
          "data": {
            "text/plain": [
              "<Figure size 640x480 with 1 Axes>"
            ],
            "image/png": "[encoded data removed]"
          },
          "metadata": {}
        }
      ]
    },
    {
      "cell_type": "markdown",
      "source": [
        "Nous avons les sessions des 17 premiers jours du mois d'octobre 2017. Le nombre de sessions par jour est plutôt fluctuant mais on peut voir qu'il y a moins de sessions ouvertes le week-end.\n",
        "\n",
        "Il y a également moins d'ouverture de sessions entre 2 heures et 10 heures.\n",
        "\n",
        "### Click_timestamp"
      ],
      "metadata": {
        "id": "ifr6ZlSVBTJO"
      }
    },
    {
      "cell_type": "code",
      "source": [
        "clic_per_day = df['click_timestamp'].dt.date.value_counts().sort_index()\n",
        "clic_per_day.plot(figsize=(12,5),kind='bar', title=\"Volume de clics par jour\")"
      ],
      "metadata": {
        "colab": {
          "base_uri": "https://localhost:8080/",
          "height": 571
        },
        "id": "I49deuGnUadp",
        "outputId": "556855bc-259a-4f11-eb5a-351b9ea2ccba"
      },
      "execution_count": 70,
      "outputs": [
        {
          "output_type": "execute_result",
          "data": {
            "text/plain": [
              "<Axes: title={'center': 'Volume de clics par jour'}, xlabel='click_timestamp'>"
            ]
          },
          "metadata": {},
          "execution_count": 70
        },
        {
          "output_type": "display_data",
          "data": {
            "text/plain": [
              "<Figure size 1200x500 with 1 Axes>"
            ],
            "image/png": "[encoded data removed]"
          },
          "metadata": {}
        }
      ]
    },
    {
      "cell_type": "code",
      "source": [
        "clic_per_day = df['click_timestamp'].dt.date.value_counts().sort_index()\n",
        "print(clic_per_day)"
      ],
      "metadata": {
        "colab": {
          "base_uri": "https://localhost:8080/"
        },
        "id": "I5RmlT99O-dv",
        "outputId": "5abc7427-79fb-4645-d45e-42015d2e75db"
      },
      "execution_count": 72,
      "outputs": [
        {
          "output_type": "stream",
          "name": "stdout",
          "text": [
            "click_timestamp\n",
            "2017-10-01     94056\n",
            "2017-10-02    303177\n",
            "2017-10-03    261159\n",
            "2017-10-04    215415\n",
            "2017-10-05    190003\n",
            "2017-10-06    207646\n",
            "2017-10-07    139323\n",
            "2017-10-08    108110\n",
            "2017-10-09    248208\n",
            "2017-10-10    282391\n",
            "2017-10-11    238969\n",
            "2017-10-12    121467\n",
            "2017-10-13    180723\n",
            "2017-10-14     95216\n",
            "2017-10-15     92163\n",
            "2017-10-16    189779\n",
            "2017-10-17     19664\n",
            "2017-10-18       272\n",
            "2017-10-19       125\n",
            "2017-10-20       122\n",
            "2017-10-21        23\n",
            "2017-10-22        32\n",
            "2017-10-23        40\n",
            "2017-10-24        29\n",
            "2017-10-25        18\n",
            "2017-10-26        12\n",
            "2017-10-27         7\n",
            "2017-10-28         2\n",
            "2017-10-30        12\n",
            "2017-10-31         4\n",
            "2017-11-01         6\n",
            "2017-11-03         2\n",
            "2017-11-04         2\n",
            "2017-11-07         2\n",
            "2017-11-13         2\n",
            "Name: count, dtype: int64\n"
          ]
        }
      ]
    }
  ]
}